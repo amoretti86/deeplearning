{
 "cells": [
  {
   "cell_type": "code",
   "execution_count": null,
   "id": "46613504",
   "metadata": {},
   "outputs": [],
   "source": []
  },
  {
   "cell_type": "markdown",
   "id": "ba2fdf61",
   "metadata": {},
   "source": [
    "## 1. Linear regression vs ANN\n",
    "   #  Manual feature engineering\n",
    "   #  How ANN engineers features from inputs?\n",
    "   \n",
    "\n",
    "## Neural Network Basics\n",
    " # 1. Introduction to Keras\n",
    " # 2. Keras Sequential NN model\n",
    "\n",
    " # 3. Compare the effectiveness ANN ultiple Regresiom.\n",
    "\n",
    " # 4. Demonnstrate that a better understanding of the problem to be solved allows engineering features that can enriches the inputs information and enhance the performance of ANN\n"
   ]
  },
  {
   "cell_type": "markdown",
   "id": "30d41085",
   "metadata": {},
   "source": [
    "## Keras created by Google as a high-level neural network API. \n",
    " # It simplies deep learning and artificial intelligence application. \n",
    "  # It runs on top of a number of lower-level libraries, used as backends, including TensorFlow."
   ]
  },
  {
   "cell_type": "markdown",
   "id": "7f07e413",
   "metadata": {},
   "source": [
    "## 1. Linear regression vs ANN"
   ]
  },
  {
   "cell_type": "markdown",
   "id": "09df9417",
   "metadata": {},
   "source": [
    "# Import some libraries"
   ]
  },
  {
   "cell_type": "code",
   "execution_count": null,
   "id": "22bf1f9c",
   "metadata": {},
   "outputs": [],
   "source": [
    "## First we need to update numpy"
   ]
  },
  {
   "cell_type": "markdown",
   "id": "ea72b133",
   "metadata": {},
   "source": [
    "pip install numpy==1.20.3"
   ]
  },
  {
   "cell_type": "code",
   "execution_count": 6,
   "id": "ece2ec80",
   "metadata": {},
   "outputs": [],
   "source": [
    "import os"
   ]
  },
  {
   "cell_type": "code",
   "execution_count": 7,
   "id": "df68a4da",
   "metadata": {},
   "outputs": [],
   "source": [
    "wd_path = '/Users/yusifsimaan/Dropbox/classes/2U/Machine learning/2u Planning/9_Feature Engineering and ANN'"
   ]
  },
  {
   "cell_type": "code",
   "execution_count": 8,
   "id": "f7b86138",
   "metadata": {},
   "outputs": [
    {
     "data": {
      "text/plain": [
       "'/Users/yusifsimaan/Dropbox/classes/2U/Machine learning/2u Planning/9_Feature Engineering and ANN'"
      ]
     },
     "execution_count": 8,
     "metadata": {},
     "output_type": "execute_result"
    }
   ],
   "source": [
    "os.chdir(wd_path)\n",
    "os.getcwd()"
   ]
  },
  {
   "cell_type": "code",
   "execution_count": 9,
   "id": "2342c691",
   "metadata": {},
   "outputs": [],
   "source": [
    "import numpy as np\n",
    "import pandas as pd\n",
    "from matplotlib import pyplot\n",
    "import statsmodels.api as sm\n",
    "import statsmodels.formula.api as smf"
   ]
  },
  {
   "cell_type": "markdown",
   "id": "e0ccb756",
   "metadata": {},
   "source": [
    "# Let us list files in our working directory"
   ]
  },
  {
   "cell_type": "code",
   "execution_count": 10,
   "id": "5947be67",
   "metadata": {},
   "outputs": [
    {
     "name": "stdout",
     "output_type": "stream",
     "text": [
      "Feature ENgineering and ANN.pptx\r\n",
      "Feature Engineering and ANN-v2.ipynb\r\n",
      "Feature Engineering.pptx\r\n",
      "Features from data created by 'yahooquery'.ipynb\r\n",
      "The 7 Types of ANN Machine Learning Engineers You Need to Know.docx\r\n",
      "alpaca example.ipynb\r\n",
      "data_for_class.cav\r\n",
      "downloaded_Feature engineering and ANN implementation-20230621.ipynb\r\n",
      "out_fo_LDA_and_classification.csv\r\n",
      "spy10_raw2023-05-24.csv\r\n",
      "top10_ret_volume_2023-05-24.csv\r\n",
      "top10_ret_volume_2023-05-29.csv\r\n",
      "top10_ret_volume_2023-06-05.csv\r\n",
      "top10_ret_volume_2023-06-24.csv\r\n",
      "~$Feature ENgineering and ANN.pptx\r\n",
      "~$e 7 Types of ANN Machine Learning Engineers You Need to Know.docx\r\n"
     ]
    }
   ],
   "source": [
    "!ls"
   ]
  },
  {
   "cell_type": "code",
   "execution_count": 11,
   "id": "7cad7e48",
   "metadata": {},
   "outputs": [],
   "source": [
    "d0 =  pd.read_csv('top10_ret_volume_2023-05-24.csv')\n",
    "d1  =  pd.read_csv('top10_ret_volume_2023-06-24.csv') "
   ]
  },
  {
   "cell_type": "code",
   "execution_count": null,
   "id": "6c143eab",
   "metadata": {},
   "outputs": [],
   "source": [
    "d0.columns"
   ]
  },
  {
   "cell_type": "code",
   "execution_count": 12,
   "id": "e3c8ce79",
   "metadata": {},
   "outputs": [],
   "source": [
    "d0_ = d0 [ d0['day'] < '2023-05-23']\n",
    "d1_ = d1 [ d1['day'] > '2023-05-22']"
   ]
  },
  {
   "cell_type": "code",
   "execution_count": 13,
   "id": "2549f6bd",
   "metadata": {},
   "outputs": [],
   "source": [
    "data0 = pd.concat([d0_,d1_])"
   ]
  },
  {
   "cell_type": "code",
   "execution_count": 14,
   "id": "19588f89",
   "metadata": {},
   "outputs": [
    {
     "data": {
      "text/plain": [
       "(531532, 43)"
      ]
     },
     "execution_count": 14,
     "metadata": {},
     "output_type": "execute_result"
    }
   ],
   "source": [
    "data0.shape"
   ]
  },
  {
   "cell_type": "code",
   "execution_count": 15,
   "id": "b9a942d4",
   "metadata": {},
   "outputs": [
    {
     "data": {
      "text/html": [
       "<div>\n",
       "<style scoped>\n",
       "    .dataframe tbody tr th:only-of-type {\n",
       "        vertical-align: middle;\n",
       "    }\n",
       "\n",
       "    .dataframe tbody tr th {\n",
       "        vertical-align: top;\n",
       "    }\n",
       "\n",
       "    .dataframe thead th {\n",
       "        text-align: right;\n",
       "    }\n",
       "</style>\n",
       "<table border=\"1\" class=\"dataframe\">\n",
       "  <thead>\n",
       "    <tr style=\"text-align: right;\">\n",
       "      <th></th>\n",
       "      <th>symbol</th>\n",
       "      <th>etf</th>\n",
       "      <th>day</th>\n",
       "      <th>time</th>\n",
       "    </tr>\n",
       "  </thead>\n",
       "  <tbody>\n",
       "    <tr>\n",
       "      <th>count</th>\n",
       "      <td>531532</td>\n",
       "      <td>531532</td>\n",
       "      <td>531532</td>\n",
       "      <td>531532</td>\n",
       "    </tr>\n",
       "    <tr>\n",
       "      <th>unique</th>\n",
       "      <td>112</td>\n",
       "      <td>11</td>\n",
       "      <td>62</td>\n",
       "      <td>79</td>\n",
       "    </tr>\n",
       "    <tr>\n",
       "      <th>top</th>\n",
       "      <td>MSFT</td>\n",
       "      <td>XLK</td>\n",
       "      <td>2023-03-27</td>\n",
       "      <td>09:30:00</td>\n",
       "    </tr>\n",
       "    <tr>\n",
       "      <th>freq</th>\n",
       "      <td>4837</td>\n",
       "      <td>48370</td>\n",
       "      <td>8580</td>\n",
       "      <td>6816</td>\n",
       "    </tr>\n",
       "  </tbody>\n",
       "</table>\n",
       "</div>"
      ],
      "text/plain": [
       "        symbol     etf         day      time\n",
       "count   531532  531532      531532    531532\n",
       "unique     112      11          62        79\n",
       "top       MSFT     XLK  2023-03-27  09:30:00\n",
       "freq      4837   48370        8580      6816"
      ]
     },
     "execution_count": 15,
     "metadata": {},
     "output_type": "execute_result"
    }
   ],
   "source": [
    "data0[['symbol','etf' , 'day' , 'time' ]].describe()\n",
    "    "
   ]
  },
  {
   "cell_type": "code",
   "execution_count": 16,
   "id": "c63c5965",
   "metadata": {},
   "outputs": [
    {
     "data": {
      "text/html": [
       "<div>\n",
       "<style scoped>\n",
       "    .dataframe tbody tr th:only-of-type {\n",
       "        vertical-align: middle;\n",
       "    }\n",
       "\n",
       "    .dataframe tbody tr th {\n",
       "        vertical-align: top;\n",
       "    }\n",
       "\n",
       "    .dataframe thead th {\n",
       "        text-align: right;\n",
       "    }\n",
       "</style>\n",
       "<table border=\"1\" class=\"dataframe\">\n",
       "  <thead>\n",
       "    <tr style=\"text-align: right;\">\n",
       "      <th></th>\n",
       "      <th>symbol</th>\n",
       "    </tr>\n",
       "  </thead>\n",
       "  <tbody>\n",
       "    <tr>\n",
       "      <th>count</th>\n",
       "      <td>112.000000</td>\n",
       "    </tr>\n",
       "    <tr>\n",
       "      <th>mean</th>\n",
       "      <td>4745.821429</td>\n",
       "    </tr>\n",
       "    <tr>\n",
       "      <th>std</th>\n",
       "      <td>488.859626</td>\n",
       "    </tr>\n",
       "    <tr>\n",
       "      <th>min</th>\n",
       "      <td>1429.000000</td>\n",
       "    </tr>\n",
       "    <tr>\n",
       "      <th>25%</th>\n",
       "      <td>4837.000000</td>\n",
       "    </tr>\n",
       "    <tr>\n",
       "      <th>50%</th>\n",
       "      <td>4837.000000</td>\n",
       "    </tr>\n",
       "    <tr>\n",
       "      <th>75%</th>\n",
       "      <td>4837.000000</td>\n",
       "    </tr>\n",
       "    <tr>\n",
       "      <th>max</th>\n",
       "      <td>4837.000000</td>\n",
       "    </tr>\n",
       "  </tbody>\n",
       "</table>\n",
       "</div>"
      ],
      "text/plain": [
       "            symbol\n",
       "count   112.000000\n",
       "mean   4745.821429\n",
       "std     488.859626\n",
       "min    1429.000000\n",
       "25%    4837.000000\n",
       "50%    4837.000000\n",
       "75%    4837.000000\n",
       "max    4837.000000"
      ]
     },
     "execution_count": 16,
     "metadata": {},
     "output_type": "execute_result"
    }
   ],
   "source": [
    "pd.DataFrame( data0['symbol'].value_counts() ).describe()"
   ]
  },
  {
   "cell_type": "code",
   "execution_count": 17,
   "id": "e40c1a17",
   "metadata": {},
   "outputs": [
    {
     "data": {
      "text/plain": [
       "XLK     48370\n",
       "XLP     48370\n",
       "XLU     48370\n",
       "XLE     48370\n",
       "XLC     48369\n",
       "XLI     48369\n",
       "XLV     48368\n",
       "XLF     48354\n",
       "XLB     48352\n",
       "XLRE    48325\n",
       "XLY     47915\n",
       "Name: etf, dtype: int64"
      ]
     },
     "execution_count": 17,
     "metadata": {},
     "output_type": "execute_result"
    }
   ],
   "source": [
    "data0['etf'].value_counts()"
   ]
  },
  {
   "cell_type": "code",
   "execution_count": 18,
   "id": "be6f9b94",
   "metadata": {},
   "outputs": [
    {
     "data": {
      "text/plain": [
       "09:30:00    6816\n",
       "09:40:00    6816\n",
       "09:45:00    6816\n",
       "09:50:00    6816\n",
       "09:55:00    6816\n",
       "            ... \n",
       "15:00:00    6811\n",
       "14:55:00    6811\n",
       "14:50:00    6811\n",
       "15:55:00    6810\n",
       "16:00:00     103\n",
       "Name: time, Length: 79, dtype: int64"
      ]
     },
     "execution_count": 18,
     "metadata": {},
     "output_type": "execute_result"
    }
   ],
   "source": [
    "data0['time'].value_counts()"
   ]
  },
  {
   "cell_type": "markdown",
   "id": "dc73d5b4",
   "metadata": {},
   "source": [
    "## we have 5-minutes return and volume data for 62, for each symbol, daysstarting at 9:30 and ending at 15:55\n",
    "# Let us filer out time = 16:00:00"
   ]
  },
  {
   "cell_type": "code",
   "execution_count": 19,
   "id": "47143c68",
   "metadata": {},
   "outputs": [
    {
     "name": "stdout",
     "output_type": "stream",
     "text": [
      "(531532, 43) (531429, 43)\n"
     ]
    }
   ],
   "source": [
    "data = data0[data0['time']< '16:00:00']\n",
    "print ( data0.shape, data.shape)"
   ]
  },
  {
   "cell_type": "code",
   "execution_count": 20,
   "id": "107ef7f8",
   "metadata": {},
   "outputs": [
    {
     "data": {
      "text/plain": [
       "array(['MSFT', 'AAPL', 'NVDA', 'AVGO', 'CRM', 'CSCO', 'ACN', 'ADBE',\n",
       "       'TXN', 'ORCL', 'UNH', 'JNJ', 'LLY', 'MRK', 'ABBV', 'PFE', 'TMO',\n",
       "       'ABT', 'DHR', 'BMY', 'AMZN', 'TSLA', 'HD', 'NKE', 'MCD', 'SBUX',\n",
       "       'LOW', 'BKNG', 'TJX', 'ORLY', 'META', 'GOOGL', 'GOOG', 'CMCSA',\n",
       "       'NFLX', 'DIS', 'CHTR', 'VZ', 'TMUS', 'ATVI', 'BRK-B', 'JPM', 'V',\n",
       "       'MA', 'BAC', 'WFC', 'SPGI', 'MS', 'GS', 'BLK', 'RTX', 'HON', 'UPS',\n",
       "       'UNP', 'BA', 'CAT', 'GE', 'LMT', 'DE', 'ADP', 'PG', 'PEP', 'KO',\n",
       "       'COST', 'MDLZ', 'WMT', 'PM', 'MO', 'TGT', 'CL', 'NEE', 'SO', 'DUK',\n",
       "       'SRE', 'D', 'AEP', 'EXC', 'XEL', 'ED', 'PEG', 'LIN', 'APD', 'SHW',\n",
       "       'FCX', 'CTVA', 'ECL', 'DOW', 'NEM', 'NUE', 'PPG', 'PLD', 'AMT',\n",
       "       'EQIX', 'CCI', 'PSA', 'O', 'WELL', 'SPG', 'VICI', 'DLR', 'XOM',\n",
       "       'CVX', 'EOG', 'COP', 'SLB', 'MPC', 'PXD', 'PSX', 'OXY', 'VLO',\n",
       "       'AMD', 'CMG'], dtype=object)"
      ]
     },
     "execution_count": 20,
     "metadata": {},
     "output_type": "execute_result"
    }
   ],
   "source": [
    "data['symbol'].unique()"
   ]
  },
  {
   "cell_type": "markdown",
   "id": "58c12b3a",
   "metadata": {},
   "source": [
    "## The following creates a data frame form daily  volume by symbol"
   ]
  },
  {
   "cell_type": "code",
   "execution_count": 22,
   "id": "493641a6",
   "metadata": {},
   "outputs": [],
   "source": [
    "by_sym_day_volume = data.groupby(['symbol','day'])['volume'].sum().reset_index()"
   ]
  },
  {
   "cell_type": "markdown",
   "id": "f786d270",
   "metadata": {},
   "source": [
    "## Here is a data frame of symbols sorted by dedian daily volume sorted by descending order"
   ]
  },
  {
   "cell_type": "code",
   "execution_count": 23,
   "id": "58900d3d",
   "metadata": {},
   "outputs": [
    {
     "name": "stderr",
     "output_type": "stream",
     "text": [
      "/var/folders/nd/mvq13b8j3msfgn8hkg4r_p200000gn/T/ipykernel_40327/2494541566.py:1: FutureWarning: The default value of numeric_only in DataFrameGroupBy.median is deprecated. In a future version, numeric_only will default to False. Either specify numeric_only or select only columns which should be valid for the function.\n",
      "  by_sym_volume = by_sym_day_volume.groupby('symbol').median().reset_index()\n"
     ]
    }
   ],
   "source": [
    "by_sym_volume = by_sym_day_volume.groupby('symbol').median().reset_index()\n",
    "by_sym_volume = by_sym_volume.sort_values('volume', ascending=False)"
   ]
  },
  {
   "cell_type": "markdown",
   "id": "1e1582e5",
   "metadata": {},
   "source": [
    "## Here we select 30 stocks with the highes median daily volume"
   ]
  },
  {
   "cell_type": "code",
   "execution_count": 24,
   "id": "780bafaf",
   "metadata": {},
   "outputs": [],
   "source": [
    "syms_ = by_sym_volume.head(30)\n"
   ]
  },
  {
   "cell_type": "markdown",
   "id": "1c304f06",
   "metadata": {},
   "source": [
    "## Here is the list of such symbols"
   ]
  },
  {
   "cell_type": "code",
   "execution_count": 25,
   "id": "2980c6bd",
   "metadata": {},
   "outputs": [
    {
     "name": "stdout",
     "output_type": "stream",
     "text": [
      "['TSLA', 'AMD', 'AMZN', 'AAPL', 'BAC', 'NVDA', 'GOOGL', 'MSFT', 'GOOG', 'META', 'WFC', 'PFE', 'VZ', 'CMCSA', 'CSCO', 'XOM', 'FCX', 'OXY', 'DIS', 'KO', 'JPM', 'SLB', 'ORCL', 'NEM', 'BMY', 'CVX', 'MO', 'NEE', 'NFLX', 'MS']\n"
     ]
    }
   ],
   "source": [
    "syms=list( syms_['symbol'] )\n",
    "print(syms)"
   ]
  },
  {
   "cell_type": "code",
   "execution_count": null,
   "id": "3715fa0e",
   "metadata": {},
   "outputs": [],
   "source": []
  },
  {
   "cell_type": "markdown",
   "id": "6fb2d1b4",
   "metadata": {},
   "source": [
    "## In our analysis we will focus the above 30 stock\n",
    " # Thus we filter data frame sym0 for these stocks"
   ]
  },
  {
   "cell_type": "code",
   "execution_count": 26,
   "id": "0bd1fd34",
   "metadata": {},
   "outputs": [
    {
     "name": "stdout",
     "output_type": "stream",
     "text": [
      "(531532, 43) (141946, 43)\n"
     ]
    }
   ],
   "source": [
    "syms0= data[data['symbol'].isin(syms)]\n",
    "print( data0.shape, syms0.shape )"
   ]
  },
  {
   "cell_type": "code",
   "execution_count": 27,
   "id": "85264332",
   "metadata": {},
   "outputs": [
    {
     "data": {
      "text/plain": [
       "Index(['symbol', 'etf', 'day', 'time', 'high', 'low', 'next_ret', 'ret',\n",
       "       'prev1_ret', 'prev2_ret', 'prev3_ret', 'prev4_ret', 'volume', 'mflow1',\n",
       "       'mflow2', 'mflow3', 'mflow4', 'spy_high', 'spy_low', 'spy_next_ret',\n",
       "       'spy_ret', 'spy_prev1_ret', 'spy_prev2_ret', 'spy_prev3_ret',\n",
       "       'spy_prev4_ret', 'spy_volume', 'spy_mflow1', 'spy_mflow2', 'spy_mflow3',\n",
       "       'spy_mflow4', 'etf_high', 'etf_low', 'etf_next_ret', 'etf_ret',\n",
       "       'etf_prev1_ret', 'etf_prev2_ret', 'etf_prev3_ret', 'etf_prev4_ret',\n",
       "       'etf_volume', 'etf_mflow1', 'etf_mflow2', 'etf_mflow3', 'etf_mflow4'],\n",
       "      dtype='object')"
      ]
     },
     "execution_count": 27,
     "metadata": {},
     "output_type": "execute_result"
    }
   ],
   "source": [
    "syms0.columns"
   ]
  },
  {
   "cell_type": "code",
   "execution_count": 28,
   "id": "292236b2",
   "metadata": {},
   "outputs": [
    {
     "data": {
      "text/plain": [
       "symbol              0\n",
       "etf                 0\n",
       "day                 0\n",
       "time                0\n",
       "high                0\n",
       "low                 0\n",
       "next_ret         1796\n",
       "ret                 0\n",
       "prev1_ret        1818\n",
       "prev2_ret        3635\n",
       "prev3_ret        5455\n",
       "prev4_ret        7274\n",
       "volume              0\n",
       "mflow1           1818\n",
       "mflow2           3635\n",
       "mflow3           5455\n",
       "mflow4           7274\n",
       "spy_high            0\n",
       "spy_low             0\n",
       "spy_next_ret     1790\n",
       "spy_ret             0\n",
       "spy_prev1_ret    1820\n",
       "spy_prev2_ret    3640\n",
       "spy_prev3_ret    5460\n",
       "spy_prev4_ret    7280\n",
       "spy_volume          0\n",
       "spy_mflow1       1820\n",
       "spy_mflow2       3640\n",
       "spy_mflow3       5460\n",
       "spy_mflow4       7280\n",
       "etf_high            0\n",
       "etf_low             0\n",
       "etf_next_ret     1790\n",
       "etf_ret             0\n",
       "etf_prev1_ret    1820\n",
       "etf_prev2_ret    3640\n",
       "etf_prev3_ret    5460\n",
       "etf_prev4_ret    7280\n",
       "etf_volume          0\n",
       "etf_mflow1       1820\n",
       "etf_mflow2       3640\n",
       "etf_mflow3       5460\n",
       "etf_mflow4       7280\n",
       "dtype: int64"
      ]
     },
     "execution_count": 28,
     "metadata": {},
     "output_type": "execute_result"
    }
   ],
   "source": [
    "syms0.isnull().sum()"
   ]
  },
  {
   "cell_type": "markdown",
   "id": "c3e5b7a9",
   "metadata": {},
   "source": [
    "## Comments on some columns"
   ]
  },
  {
   "cell_type": "code",
   "execution_count": 29,
   "id": "072392bd",
   "metadata": {},
   "outputs": [
    {
     "data": {
      "text/plain": [
       "Index(['symbol', 'etf', 'day', 'time', 'high', 'low', 'next_ret', 'ret',\n",
       "       'prev1_ret', 'prev2_ret', 'prev3_ret', 'prev4_ret', 'volume', 'mflow1',\n",
       "       'mflow2', 'mflow3', 'mflow4', 'spy_high', 'spy_low', 'spy_next_ret',\n",
       "       'spy_ret', 'spy_prev1_ret', 'spy_prev2_ret', 'spy_prev3_ret',\n",
       "       'spy_prev4_ret', 'spy_volume', 'spy_mflow1', 'spy_mflow2', 'spy_mflow3',\n",
       "       'spy_mflow4', 'etf_high', 'etf_low', 'etf_next_ret', 'etf_ret',\n",
       "       'etf_prev1_ret', 'etf_prev2_ret', 'etf_prev3_ret', 'etf_prev4_ret',\n",
       "       'etf_volume', 'etf_mflow1', 'etf_mflow2', 'etf_mflow3', 'etf_mflow4'],\n",
       "      dtype='object')"
      ]
     },
     "execution_count": 29,
     "metadata": {},
     "output_type": "execute_result"
    }
   ],
   "source": [
    "syms0.columns"
   ]
  },
  {
   "cell_type": "code",
   "execution_count": null,
   "id": "8ba29955",
   "metadata": {},
   "outputs": [],
   "source": []
  },
  {
   "cell_type": "markdown",
   "id": "292ba75d",
   "metadata": {},
   "source": [
    "## Note that,\n",
    " # ret          is the stock's return over the 5-minutes ending at time t\n",
    " # volume  is the stock's volume over the 5-minutes ending at time t\n",
    "## next_ret   is the stock's return over the 5-minutes starting at time t\n",
    " # At time t,  ret and volume are known, but next_ret is not know."
   ]
  },
  {
   "cell_type": "markdown",
   "id": "2309cc3b",
   "metadata": {},
   "source": [
    "## Suppose that \n",
    " # we want to predict next_ret at time t using [ret, volume]) at time t"
   ]
  },
  {
   "cell_type": "markdown",
   "id": "303e61d3",
   "metadata": {},
   "source": [
    "## First, let us look at the following correlation matrix"
   ]
  },
  {
   "cell_type": "code",
   "execution_count": 30,
   "id": "af4a46ba",
   "metadata": {},
   "outputs": [
    {
     "data": {
      "text/html": [
       "<div>\n",
       "<style scoped>\n",
       "    .dataframe tbody tr th:only-of-type {\n",
       "        vertical-align: middle;\n",
       "    }\n",
       "\n",
       "    .dataframe tbody tr th {\n",
       "        vertical-align: top;\n",
       "    }\n",
       "\n",
       "    .dataframe thead th {\n",
       "        text-align: right;\n",
       "    }\n",
       "</style>\n",
       "<table border=\"1\" class=\"dataframe\">\n",
       "  <thead>\n",
       "    <tr style=\"text-align: right;\">\n",
       "      <th></th>\n",
       "      <th>next_ret</th>\n",
       "      <th>ret</th>\n",
       "      <th>spy_ret</th>\n",
       "      <th>etf_ret</th>\n",
       "      <th>volume</th>\n",
       "    </tr>\n",
       "  </thead>\n",
       "  <tbody>\n",
       "    <tr>\n",
       "      <th>next_ret</th>\n",
       "      <td>1.000000</td>\n",
       "      <td>-0.017252</td>\n",
       "      <td>-0.004311</td>\n",
       "      <td>-0.013681</td>\n",
       "      <td>-0.006531</td>\n",
       "    </tr>\n",
       "    <tr>\n",
       "      <th>ret</th>\n",
       "      <td>-0.017252</td>\n",
       "      <td>1.000000</td>\n",
       "      <td>0.359723</td>\n",
       "      <td>0.583914</td>\n",
       "      <td>0.005168</td>\n",
       "    </tr>\n",
       "    <tr>\n",
       "      <th>spy_ret</th>\n",
       "      <td>-0.004311</td>\n",
       "      <td>0.359723</td>\n",
       "      <td>1.000000</td>\n",
       "      <td>0.638500</td>\n",
       "      <td>-0.007762</td>\n",
       "    </tr>\n",
       "    <tr>\n",
       "      <th>etf_ret</th>\n",
       "      <td>-0.013681</td>\n",
       "      <td>0.583914</td>\n",
       "      <td>0.638500</td>\n",
       "      <td>1.000000</td>\n",
       "      <td>0.004881</td>\n",
       "    </tr>\n",
       "    <tr>\n",
       "      <th>volume</th>\n",
       "      <td>-0.006531</td>\n",
       "      <td>0.005168</td>\n",
       "      <td>-0.007762</td>\n",
       "      <td>0.004881</td>\n",
       "      <td>1.000000</td>\n",
       "    </tr>\n",
       "  </tbody>\n",
       "</table>\n",
       "</div>"
      ],
      "text/plain": [
       "          next_ret       ret   spy_ret   etf_ret    volume\n",
       "next_ret  1.000000 -0.017252 -0.004311 -0.013681 -0.006531\n",
       "ret      -0.017252  1.000000  0.359723  0.583914  0.005168\n",
       "spy_ret  -0.004311  0.359723  1.000000  0.638500 -0.007762\n",
       "etf_ret  -0.013681  0.583914  0.638500  1.000000  0.004881\n",
       "volume   -0.006531  0.005168 -0.007762  0.004881  1.000000"
      ]
     },
     "execution_count": 30,
     "metadata": {},
     "output_type": "execute_result"
    }
   ],
   "source": [
    "syms0[['next_ret' , 'ret' , 'spy_ret', 'etf_ret' , 'volume']].corr()"
   ]
  },
  {
   "cell_type": "markdown",
   "id": "67707eb3",
   "metadata": {},
   "source": [
    "## Obviously, predicting 'next_ret' is a very challenging task\n",
    " # Remember the Efficient Market Hypothesis?"
   ]
  },
  {
   "cell_type": "markdown",
   "id": "00d2602a",
   "metadata": {},
   "source": [
    "\n",
    "# The Efficient Market Hypothesis (EMH) implies that past information, including past returns, do not help predicting future return.\n",
    "\n",
    " # Or, the best price prediction of future price is current price. \n",
    "  # This does not mean that then next price will be the same as current price. It means that unexpected events will cause such price changes. Our complete ignorance (of the unexpected) does not lead us to other prediction. \n",
    "  \n",
    "  # Without the knowledge of these unexpected events, the current price contains all the information about the future price"
   ]
  },
  {
   "cell_type": "markdown",
   "id": "e6771532",
   "metadata": {},
   "source": [
    "## Nevertheless, day traders do try. \n",
    "\n",
    " # Remember,\n",
    "\n",
    " # ( i )They have access to more information than we have, like order-book imbalances, at different book levels, for different market centers.\n",
    " \n",
    "  # ( i i ) While markets are efficient most of the time, short-lived pockets of inefficiencies can exist.\n",
    "  \n",
    "   # ( i i i ) Better speed of execution, cheaper execution cost can make trading, based such prediction, a profitable effort.  \n",
    "  # successful trading requires \n",
    "   # (a) locating rare profitable opportunity, \n",
    "   # (b) monitoring inventory of stockholdings and,\n",
    "   # (c) adjusting a stock trading trigers based on its prediction, its inventory, and its impact on the risk of the inventory portfolio. "
   ]
  },
  {
   "cell_type": "code",
   "execution_count": null,
   "id": "cc3eb094",
   "metadata": {},
   "outputs": [],
   "source": []
  },
  {
   "cell_type": "markdown",
   "id": "31e16e8a",
   "metadata": {},
   "source": [
    "# Here we will focus on,\n",
    "\n",
    " # (i) using Linear regression\n",
    " # (ii) examine wht ANN can add to the prediction\n",
    " # (iii) Discuss whether clever feature engineering can help prediction without and with ANN"
   ]
  },
  {
   "cell_type": "markdown",
   "id": "a1061787",
   "metadata": {},
   "source": [
    "## 1. Simple regression model"
   ]
  },
  {
   "cell_type": "code",
   "execution_count": 31,
   "id": "c6192254",
   "metadata": {},
   "outputs": [
    {
     "data": {
      "text/html": [
       "<table class=\"simpletable\">\n",
       "<caption>OLS Regression Results</caption>\n",
       "<tr>\n",
       "  <th>Dep. Variable:</th>        <td>next_ret</td>     <th>  R-squared:         </th>  <td>   0.000</td> \n",
       "</tr>\n",
       "<tr>\n",
       "  <th>Model:</th>                   <td>OLS</td>       <th>  Adj. R-squared:    </th>  <td>   0.000</td> \n",
       "</tr>\n",
       "<tr>\n",
       "  <th>Method:</th>             <td>Least Squares</td>  <th>  F-statistic:       </th>  <td>   23.79</td> \n",
       "</tr>\n",
       "<tr>\n",
       "  <th>Date:</th>             <td>Thu, 29 Jun 2023</td> <th>  Prob (F-statistic):</th>  <td>4.70e-11</td> \n",
       "</tr>\n",
       "<tr>\n",
       "  <th>Time:</th>                 <td>11:12:30</td>     <th>  Log-Likelihood:    </th> <td>7.1249e+05</td>\n",
       "</tr>\n",
       "<tr>\n",
       "  <th>No. Observations:</th>      <td>140150</td>      <th>  AIC:               </th> <td>-1.425e+06</td>\n",
       "</tr>\n",
       "<tr>\n",
       "  <th>Df Residuals:</th>          <td>140147</td>      <th>  BIC:               </th> <td>-1.425e+06</td>\n",
       "</tr>\n",
       "<tr>\n",
       "  <th>Df Model:</th>              <td>     2</td>      <th>                     </th>      <td> </td>    \n",
       "</tr>\n",
       "<tr>\n",
       "  <th>Covariance Type:</th>      <td>nonrobust</td>    <th>                     </th>      <td> </td>    \n",
       "</tr>\n",
       "</table>\n",
       "<table class=\"simpletable\">\n",
       "<tr>\n",
       "     <td></td>       <th>coef</th>     <th>std err</th>      <th>t</th>      <th>P>|t|</th>  <th>[0.025</th>    <th>0.975]</th>  \n",
       "</tr>\n",
       "<tr>\n",
       "  <th>const</th>  <td> 1.035e-05</td> <td> 4.59e-06</td> <td>    2.255</td> <td> 0.024</td> <td> 1.35e-06</td> <td> 1.93e-05</td>\n",
       "</tr>\n",
       "<tr>\n",
       "  <th>ret</th>    <td>   -0.0163</td> <td>    0.003</td> <td>   -6.449</td> <td> 0.000</td> <td>   -0.021</td> <td>   -0.011</td>\n",
       "</tr>\n",
       "<tr>\n",
       "  <th>volume</th> <td>-2.004e-11</td> <td> 8.29e-12</td> <td>   -2.418</td> <td> 0.016</td> <td>-3.63e-11</td> <td> -3.8e-12</td>\n",
       "</tr>\n",
       "</table>\n",
       "<table class=\"simpletable\">\n",
       "<tr>\n",
       "  <th>Omnibus:</th>       <td>22323.524</td> <th>  Durbin-Watson:     </th>  <td>   1.599</td> \n",
       "</tr>\n",
       "<tr>\n",
       "  <th>Prob(Omnibus):</th>  <td> 0.000</td>   <th>  Jarque-Bera (JB):  </th> <td>406311.495</td>\n",
       "</tr>\n",
       "<tr>\n",
       "  <th>Skew:</th>           <td>-0.144</td>   <th>  Prob(JB):          </th>  <td>    0.00</td> \n",
       "</tr>\n",
       "<tr>\n",
       "  <th>Kurtosis:</th>       <td>11.336</td>   <th>  Cond. No.          </th>  <td>3.50e+08</td> \n",
       "</tr>\n",
       "</table><br/><br/>Notes:<br/>[1] Standard Errors assume that the covariance matrix of the errors is correctly specified.<br/>[2] The condition number is large, 3.5e+08. This might indicate that there are<br/>strong multicollinearity or other numerical problems."
      ],
      "text/plain": [
       "<class 'statsmodels.iolib.summary.Summary'>\n",
       "\"\"\"\n",
       "                            OLS Regression Results                            \n",
       "==============================================================================\n",
       "Dep. Variable:               next_ret   R-squared:                       0.000\n",
       "Model:                            OLS   Adj. R-squared:                  0.000\n",
       "Method:                 Least Squares   F-statistic:                     23.79\n",
       "Date:                Thu, 29 Jun 2023   Prob (F-statistic):           4.70e-11\n",
       "Time:                        11:12:30   Log-Likelihood:             7.1249e+05\n",
       "No. Observations:              140150   AIC:                        -1.425e+06\n",
       "Df Residuals:                  140147   BIC:                        -1.425e+06\n",
       "Df Model:                           2                                         \n",
       "Covariance Type:            nonrobust                                         \n",
       "==============================================================================\n",
       "                 coef    std err          t      P>|t|      [0.025      0.975]\n",
       "------------------------------------------------------------------------------\n",
       "const       1.035e-05   4.59e-06      2.255      0.024    1.35e-06    1.93e-05\n",
       "ret           -0.0163      0.003     -6.449      0.000      -0.021      -0.011\n",
       "volume     -2.004e-11   8.29e-12     -2.418      0.016   -3.63e-11    -3.8e-12\n",
       "==============================================================================\n",
       "Omnibus:                    22323.524   Durbin-Watson:                   1.599\n",
       "Prob(Omnibus):                  0.000   Jarque-Bera (JB):           406311.495\n",
       "Skew:                          -0.144   Prob(JB):                         0.00\n",
       "Kurtosis:                      11.336   Cond. No.                     3.50e+08\n",
       "==============================================================================\n",
       "\n",
       "Notes:\n",
       "[1] Standard Errors assume that the covariance matrix of the errors is correctly specified.\n",
       "[2] The condition number is large, 3.5e+08. This might indicate that there are\n",
       "strong multicollinearity or other numerical problems.\n",
       "\"\"\""
      ]
     },
     "execution_count": 31,
     "metadata": {},
     "output_type": "execute_result"
    }
   ],
   "source": [
    "XY0= syms0[['ret', 'volume', 'next_ret']].dropna()\n",
    "X0= XY0[['ret', 'volume']]\n",
    "y = XY0['next_ret']\n",
    "X0 = sm.add_constant(X0)\n",
    "lm0 = sm.OLS(y, X0).fit()\n",
    "lm0.summary()"
   ]
  },
  {
   "cell_type": "code",
   "execution_count": 32,
   "id": "82d73be5",
   "metadata": {},
   "outputs": [
    {
     "data": {
      "text/plain": [
       "0.018421"
      ]
     },
     "execution_count": 32,
     "metadata": {},
     "output_type": "execute_result"
    }
   ],
   "source": [
    "r = np.sqrt( lm0.rsquared )\n",
    "round( r, 6)"
   ]
  },
  {
   "cell_type": "markdown",
   "id": "34a230e3",
   "metadata": {},
   "source": [
    "## Not a great predictive model. Still we have a significant F-stat "
   ]
  },
  {
   "cell_type": "code",
   "execution_count": null,
   "id": "ecb7873e",
   "metadata": {},
   "outputs": [],
   "source": []
  },
  {
   "cell_type": "markdown",
   "id": "c9fc071b",
   "metadata": {},
   "source": [
    "# The above regression assumes that the effects of ret and volume are additive.\n",
    "  ## What if there are non-linear effects\n",
    "  ## We call such effects,\n",
    " \n",
    " #                                     interactions. \n",
    "   # For example, \n",
    " ## (i ) What if the slope of 'ret'with respect to 'next_ret' is different. For example, a strong move may cause reversion while mediocre move does not cause reversion\n",
    " ## (ii ) What if strong volume and strong 'ret' has distinct impact on 'next_ret'.\n",
    " ## ( iii ) what if a non-linear fumction of volume provide a predictive power that volume itself can't provide"
   ]
  },
  {
   "cell_type": "markdown",
   "id": "3e77135e",
   "metadata": {},
   "source": [
    "## First let us describe the variables that capture the information on which we will base our prediction"
   ]
  },
  {
   "cell_type": "code",
   "execution_count": 33,
   "id": "c7b75ccd",
   "metadata": {},
   "outputs": [
    {
     "data": {
      "text/html": [
       "<div>\n",
       "<style scoped>\n",
       "    .dataframe tbody tr th:only-of-type {\n",
       "        vertical-align: middle;\n",
       "    }\n",
       "\n",
       "    .dataframe tbody tr th {\n",
       "        vertical-align: top;\n",
       "    }\n",
       "\n",
       "    .dataframe thead th {\n",
       "        text-align: right;\n",
       "    }\n",
       "</style>\n",
       "<table border=\"1\" class=\"dataframe\">\n",
       "  <thead>\n",
       "    <tr style=\"text-align: right;\">\n",
       "      <th></th>\n",
       "      <th>ret</th>\n",
       "      <th>volume</th>\n",
       "      <th>next_ret</th>\n",
       "    </tr>\n",
       "  </thead>\n",
       "  <tbody>\n",
       "    <tr>\n",
       "      <th>count</th>\n",
       "      <td>141946.000000</td>\n",
       "      <td>141946.000000</td>\n",
       "      <td>140150.000000</td>\n",
       "    </tr>\n",
       "    <tr>\n",
       "      <th>mean</th>\n",
       "      <td>0.000007</td>\n",
       "      <td>279887.883963</td>\n",
       "      <td>0.000005</td>\n",
       "    </tr>\n",
       "    <tr>\n",
       "      <th>std</th>\n",
       "      <td>0.001584</td>\n",
       "      <td>496024.170354</td>\n",
       "      <td>0.001500</td>\n",
       "    </tr>\n",
       "    <tr>\n",
       "      <th>min</th>\n",
       "      <td>-0.023044</td>\n",
       "      <td>0.000000</td>\n",
       "      <td>-0.020306</td>\n",
       "    </tr>\n",
       "    <tr>\n",
       "      <th>25%</th>\n",
       "      <td>-0.000716</td>\n",
       "      <td>66773.500000</td>\n",
       "      <td>-0.000708</td>\n",
       "    </tr>\n",
       "    <tr>\n",
       "      <th>50%</th>\n",
       "      <td>0.000000</td>\n",
       "      <td>129391.000000</td>\n",
       "      <td>0.000000</td>\n",
       "    </tr>\n",
       "    <tr>\n",
       "      <th>75%</th>\n",
       "      <td>0.000757</td>\n",
       "      <td>285435.250000</td>\n",
       "      <td>0.000748</td>\n",
       "    </tr>\n",
       "    <tr>\n",
       "      <th>max</th>\n",
       "      <td>0.027268</td>\n",
       "      <td>24013993.000000</td>\n",
       "      <td>0.027268</td>\n",
       "    </tr>\n",
       "  </tbody>\n",
       "</table>\n",
       "</div>"
      ],
      "text/plain": [
       "                ret          volume      next_ret\n",
       "count 141946.000000   141946.000000 140150.000000\n",
       "mean       0.000007   279887.883963      0.000005\n",
       "std        0.001584   496024.170354      0.001500\n",
       "min       -0.023044        0.000000     -0.020306\n",
       "25%       -0.000716    66773.500000     -0.000708\n",
       "50%        0.000000   129391.000000      0.000000\n",
       "75%        0.000757   285435.250000      0.000748\n",
       "max        0.027268 24013993.000000      0.027268"
      ]
     },
     "execution_count": 33,
     "metadata": {},
     "output_type": "execute_result"
    }
   ],
   "source": [
    "pd.set_option('display.float_format', lambda x: '%.6f' % x)\n",
    "syms0[['ret', 'volume', 'next_ret']].describe()"
   ]
  },
  {
   "cell_type": "markdown",
   "id": "28034459",
   "metadata": {},
   "source": [
    "## Note that return and volume have different units. \n",
    "\n",
    " # prediction minimzes mean-square-error (MSE). Different units are likely to result in placing more weight on the variable with the higher magnitudes\n",
    "\n",
    "# Later we will standarize the data in order to neutralize the eff"
   ]
  },
  {
   "cell_type": "markdown",
   "id": "a73dd1e5",
   "metadata": {},
   "source": [
    "# let us look at the distribution of 'ret'. Here we are importing seaborn and matplotlib and graphing some distributions"
   ]
  },
  {
   "cell_type": "code",
   "execution_count": 34,
   "id": "71253e2d",
   "metadata": {},
   "outputs": [],
   "source": [
    "import seaborn as sns\n",
    "import matplotlib.pyplot as plt"
   ]
  },
  {
   "cell_type": "code",
   "execution_count": 35,
   "id": "21fba895",
   "metadata": {},
   "outputs": [
    {
     "data": {
      "text/plain": [
       "(-0.02, 0.02)"
      ]
     },
     "execution_count": 35,
     "metadata": {},
     "output_type": "execute_result"
    },
    {
     "data": {
      "image/png": "[encoded data removed]",
      "text/plain": [
       "<Figure size 600x300 with 1 Axes>"
      ]
     },
     "metadata": {},
     "output_type": "display_data"
    }
   ],
   "source": [
    "g= sns.displot(syms0, x=\"ret\" , kde=True)\n",
    "g.fig.set_figwidth(6)\n",
    "g.fig.set_figheight(3)\n",
    "plt.xlim(0, 150000)\n",
    "plt.xlim(-0.02, 0.02)"
   ]
  },
  {
   "cell_type": "markdown",
   "id": "89d08c87",
   "metadata": {},
   "source": [
    "## Very much normal, or at least symmetric"
   ]
  },
  {
   "cell_type": "markdown",
   "id": "b1a3dd8b",
   "metadata": {},
   "source": [
    "## On the other hand the distribution of volume is very skewed"
   ]
  },
  {
   "cell_type": "markdown",
   "id": "93024c92",
   "metadata": {},
   "source": [
    "## First let us filter out zero volume data and then graph the distribution of volume"
   ]
  },
  {
   "cell_type": "code",
   "execution_count": 36,
   "id": "eb592dd6",
   "metadata": {},
   "outputs": [
    {
     "data": {
      "text/plain": [
       "(102.0, 24013993.0)"
      ]
     },
     "execution_count": 36,
     "metadata": {},
     "output_type": "execute_result"
    },
    {
     "data": {
      "image/png": "[encoded data removed]",
      "text/plain": [
       "<Figure size 600x300 with 1 Axes>"
      ]
     },
     "metadata": {},
     "output_type": "display_data"
    }
   ],
   "source": [
    "syms= syms0[syms0['volume']> 0]\n",
    "g = sns.displot(syms, x=\"volume\" , kde=True)\n",
    "g.fig.set_figwidth(6)\n",
    "g.fig.set_figheight(3)\n",
    "plt.xlim(syms['volume'].min(), syms['volume'].max())"
   ]
  },
  {
   "cell_type": "markdown",
   "id": "d757e993",
   "metadata": {},
   "source": [
    "# The above picture is distorted by extreme volume values\n",
    "## Here we limit the upper volume to its 95th quantile"
   ]
  },
  {
   "cell_type": "code",
   "execution_count": 37,
   "id": "c609be90",
   "metadata": {},
   "outputs": [
    {
     "data": {
      "text/plain": [
       "(102.0, 1042226.9999999984)"
      ]
     },
     "execution_count": 37,
     "metadata": {},
     "output_type": "execute_result"
    },
    {
     "data": {
      "image/png": "[encoded data removed]",
      "text/plain": [
       "<Figure size 600x300 with 1 Axes>"
      ]
     },
     "metadata": {},
     "output_type": "display_data"
    }
   ],
   "source": [
    "\n",
    "g = sns.displot(syms, x=\"volume\" , kde=True)\n",
    "g.fig.set_figwidth(6)\n",
    "g.fig.set_figheight(3)\n",
    "plt.xlim(syms['volume'].min(), syms['volume'].quantile(0.95))"
   ]
  },
  {
   "cell_type": "markdown",
   "id": "d6f8614a",
   "metadata": {},
   "source": [
    "## Very skewed distributution"
   ]
  },
  {
   "cell_type": "markdown",
   "id": "1790af62",
   "metadata": {},
   "source": [
    "# Standarization helps make all variables have the same scale.\n",
    " ## some times we may want to transformsom variables so that their distributions are similar.\n",
    " \n",
    " ## Let us introduce two transformations of volume by creating two columns:"
   ]
  },
  {
   "cell_type": "code",
   "execution_count": null,
   "id": "960b2474",
   "metadata": {},
   "outputs": [],
   "source": []
  },
  {
   "cell_type": "markdown",
   "id": "27ac41fd",
   "metadata": {},
   "source": [
    "# 1. This one creates a transformed variable with a zero mean and std=1. "
   ]
  },
  {
   "cell_type": "code",
   "execution_count": 38,
   "id": "9ed0c10e",
   "metadata": {},
   "outputs": [
    {
     "name": "stderr",
     "output_type": "stream",
     "text": [
      "/var/folders/nd/mvq13b8j3msfgn8hkg4r_p200000gn/T/ipykernel_40327/3473099547.py:1: SettingWithCopyWarning: \n",
      "A value is trying to be set on a copy of a slice from a DataFrame.\n",
      "Try using .loc[row_indexer,col_indexer] = value instead\n",
      "\n",
      "See the caveats in the documentation: https://pandas.pydata.org/pandas-docs/stable/user_guide/indexing.html#returning-a-view-versus-a-copy\n",
      "  syms['standaized_volume']= ( syms['volume'] - syms['volume'].mean() )/ syms['volume'].std()\n"
     ]
    }
   ],
   "source": [
    "syms['standaized_volume']= ( syms['volume'] - syms['volume'].mean() )/ syms['volume'].std()\n"
   ]
  },
  {
   "cell_type": "code",
   "execution_count": 39,
   "id": "6c7c92aa",
   "metadata": {},
   "outputs": [
    {
     "data": {
      "text/html": [
       "<div>\n",
       "<style scoped>\n",
       "    .dataframe tbody tr th:only-of-type {\n",
       "        vertical-align: middle;\n",
       "    }\n",
       "\n",
       "    .dataframe tbody tr th {\n",
       "        vertical-align: top;\n",
       "    }\n",
       "\n",
       "    .dataframe thead th {\n",
       "        text-align: right;\n",
       "    }\n",
       "</style>\n",
       "<table border=\"1\" class=\"dataframe\">\n",
       "  <thead>\n",
       "    <tr style=\"text-align: right;\">\n",
       "      <th></th>\n",
       "      <th>volume</th>\n",
       "      <th>standaized_volume</th>\n",
       "    </tr>\n",
       "  </thead>\n",
       "  <tbody>\n",
       "    <tr>\n",
       "      <th>count</th>\n",
       "      <td>141917.000000</td>\n",
       "      <td>141917.000000</td>\n",
       "    </tr>\n",
       "    <tr>\n",
       "      <th>mean</th>\n",
       "      <td>279945.077595</td>\n",
       "      <td>0.000000</td>\n",
       "    </tr>\n",
       "    <tr>\n",
       "      <th>std</th>\n",
       "      <td>496058.709962</td>\n",
       "      <td>1.000000</td>\n",
       "    </tr>\n",
       "    <tr>\n",
       "      <th>min</th>\n",
       "      <td>102.000000</td>\n",
       "      <td>-0.564133</td>\n",
       "    </tr>\n",
       "    <tr>\n",
       "      <th>25%</th>\n",
       "      <td>66803.000000</td>\n",
       "      <td>-0.429671</td>\n",
       "    </tr>\n",
       "    <tr>\n",
       "      <th>50%</th>\n",
       "      <td>129429.000000</td>\n",
       "      <td>-0.303424</td>\n",
       "    </tr>\n",
       "    <tr>\n",
       "      <th>75%</th>\n",
       "      <td>285484.000000</td>\n",
       "      <td>0.011166</td>\n",
       "    </tr>\n",
       "    <tr>\n",
       "      <th>max</th>\n",
       "      <td>24013993.000000</td>\n",
       "      <td>47.845240</td>\n",
       "    </tr>\n",
       "  </tbody>\n",
       "</table>\n",
       "</div>"
      ],
      "text/plain": [
       "               volume  standaized_volume\n",
       "count   141917.000000      141917.000000\n",
       "mean    279945.077595           0.000000\n",
       "std     496058.709962           1.000000\n",
       "min        102.000000          -0.564133\n",
       "25%      66803.000000          -0.429671\n",
       "50%     129429.000000          -0.303424\n",
       "75%     285484.000000           0.011166\n",
       "max   24013993.000000          47.845240"
      ]
     },
     "execution_count": 39,
     "metadata": {},
     "output_type": "execute_result"
    }
   ],
   "source": [
    "syms[['volume', 'standaized_volume']].describe()"
   ]
  },
  {
   "cell_type": "markdown",
   "id": "342bc277",
   "metadata": {},
   "source": [
    "## Let us see whether this distribution impacts skewness"
   ]
  },
  {
   "cell_type": "code",
   "execution_count": 40,
   "id": "be89c609",
   "metadata": {},
   "outputs": [
    {
     "data": {
      "text/plain": [
       "(0.0, 47.84523977862581)"
      ]
     },
     "execution_count": 40,
     "metadata": {},
     "output_type": "execute_result"
    },
    {
     "data": {
      "image/png": "[encoded data removed]",
      "text/plain": [
       "<Figure size 600x500 with 1 Axes>"
      ]
     },
     "metadata": {},
     "output_type": "display_data"
    }
   ],
   "source": [
    "g= sns.displot(syms, x=\"standaized_volume\" , kde=True)\n",
    "g.fig.set_figwidth(6)\n",
    "g.fig.set_figheight(5)\n",
    "plt.xlim(0, 50)\n",
    "plt.ylim(0, syms['standaized_volume'].max())"
   ]
  },
  {
   "cell_type": "markdown",
   "id": "dee39259",
   "metadata": {},
   "source": [
    "# The above destribution changes location and scale unites. \n",
    " ## However, it does not take care of skewness"
   ]
  },
  {
   "cell_type": "markdown",
   "id": "3203761f",
   "metadata": {},
   "source": [
    "## Another transformation is taking natural log of volume. However, the log function is not defined for a zero or negative arguments. Let us check if we need to filter out cases with zero volume"
   ]
  },
  {
   "cell_type": "code",
   "execution_count": 41,
   "id": "f5dda3a6",
   "metadata": {},
   "outputs": [
    {
     "data": {
      "text/html": [
       "<div>\n",
       "<style scoped>\n",
       "    .dataframe tbody tr th:only-of-type {\n",
       "        vertical-align: middle;\n",
       "    }\n",
       "\n",
       "    .dataframe tbody tr th {\n",
       "        vertical-align: top;\n",
       "    }\n",
       "\n",
       "    .dataframe thead th {\n",
       "        text-align: right;\n",
       "    }\n",
       "</style>\n",
       "<table border=\"1\" class=\"dataframe\">\n",
       "  <thead>\n",
       "    <tr style=\"text-align: right;\">\n",
       "      <th></th>\n",
       "      <th>symbol</th>\n",
       "      <th>etf</th>\n",
       "      <th>day</th>\n",
       "      <th>time</th>\n",
       "      <th>high</th>\n",
       "      <th>low</th>\n",
       "      <th>next_ret</th>\n",
       "      <th>ret</th>\n",
       "      <th>prev1_ret</th>\n",
       "      <th>prev2_ret</th>\n",
       "      <th>...</th>\n",
       "      <th>etf_prev1_ret</th>\n",
       "      <th>etf_prev2_ret</th>\n",
       "      <th>etf_prev3_ret</th>\n",
       "      <th>etf_prev4_ret</th>\n",
       "      <th>etf_volume</th>\n",
       "      <th>etf_mflow1</th>\n",
       "      <th>etf_mflow2</th>\n",
       "      <th>etf_mflow3</th>\n",
       "      <th>etf_mflow4</th>\n",
       "      <th>standaized_volume</th>\n",
       "    </tr>\n",
       "  </thead>\n",
       "  <tbody>\n",
       "  </tbody>\n",
       "</table>\n",
       "<p>0 rows × 44 columns</p>\n",
       "</div>"
      ],
      "text/plain": [
       "Empty DataFrame\n",
       "Columns: [symbol, etf, day, time, high, low, next_ret, ret, prev1_ret, prev2_ret, prev3_ret, prev4_ret, volume, mflow1, mflow2, mflow3, mflow4, spy_high, spy_low, spy_next_ret, spy_ret, spy_prev1_ret, spy_prev2_ret, spy_prev3_ret, spy_prev4_ret, spy_volume, spy_mflow1, spy_mflow2, spy_mflow3, spy_mflow4, etf_high, etf_low, etf_next_ret, etf_ret, etf_prev1_ret, etf_prev2_ret, etf_prev3_ret, etf_prev4_ret, etf_volume, etf_mflow1, etf_mflow2, etf_mflow3, etf_mflow4, standaized_volume]\n",
       "Index: []\n",
       "\n",
       "[0 rows x 44 columns]"
      ]
     },
     "execution_count": 41,
     "metadata": {},
     "output_type": "execute_result"
    }
   ],
   "source": [
    "syms[syms['volume']== 0]"
   ]
  },
  {
   "cell_type": "markdown",
   "id": "7b84fb82",
   "metadata": {},
   "source": [
    "## No zero volume is found"
   ]
  },
  {
   "cell_type": "code",
   "execution_count": 43,
   "id": "19b78a49",
   "metadata": {},
   "outputs": [
    {
     "name": "stderr",
     "output_type": "stream",
     "text": [
      "/var/folders/nd/mvq13b8j3msfgn8hkg4r_p200000gn/T/ipykernel_40327/1499096184.py:1: SettingWithCopyWarning: \n",
      "A value is trying to be set on a copy of a slice from a DataFrame.\n",
      "Try using .loc[row_indexer,col_indexer] = value instead\n",
      "\n",
      "See the caveats in the documentation: https://pandas.pydata.org/pandas-docs/stable/user_guide/indexing.html#returning-a-view-versus-a-copy\n",
      "  syms['log_volume'] =  np.log(syms['volume'])\n"
     ]
    }
   ],
   "source": [
    "syms['log_volume'] =  np.log(syms['volume'])"
   ]
  },
  {
   "cell_type": "code",
   "execution_count": 44,
   "id": "f81fa9ba",
   "metadata": {
    "scrolled": true
   },
   "outputs": [
    {
     "data": {
      "text/plain": [
       "(4.624972813284271, 16.99414726007613)"
      ]
     },
     "execution_count": 44,
     "metadata": {},
     "output_type": "execute_result"
    },
    {
     "data": {
      "image/png": "[encoded data removed]",
      "text/plain": [
       "<Figure size 600x300 with 1 Axes>"
      ]
     },
     "metadata": {},
     "output_type": "display_data"
    }
   ],
   "source": [
    "g=sns.displot(syms, x=\"log_volume\" , kde=True)\n",
    "g.fig.set_figwidth(6)\n",
    "g.fig.set_figheight(3)\n",
    "plt.xlim(syms['log_volume'].min(), syms['log_volume'].max())"
   ]
  },
  {
   "cell_type": "markdown",
   "id": "70d46e5a",
   "metadata": {},
   "source": [
    "## A much more symmetric distribution symmetric"
   ]
  },
  {
   "cell_type": "code",
   "execution_count": null,
   "id": "f9d5d45f",
   "metadata": {},
   "outputs": [],
   "source": []
  },
  {
   "cell_type": "code",
   "execution_count": null,
   "id": "ebac7915",
   "metadata": {},
   "outputs": [],
   "source": []
  },
  {
   "cell_type": "markdown",
   "id": "f12e4f89",
   "metadata": {},
   "source": [
    "# Some \"manual\" methods to capture non-linear effect:\n",
    "\n",
    " ## I say manual because ANN is designed to capture non-linearity in the input variables in a general algorithm."
   ]
  },
  {
   "cell_type": "markdown",
   "id": "6fde2c6f",
   "metadata": {},
   "source": [
    "## Inntuitively, next_ret may response to strong up return differently that to a mediocre return or to a strong negative return. \n",
    "\n",
    "# Like the case of a pendulum,\n",
    " ## a weak force may have little impact, while a strong force results in an opposite direction swing. In finance we call this pendelum effect  'mean-reversion' . How can we test for that?\n",
    "\n",
    "# We can engineer two features from the variable 'ret': \n",
    "\n",
    "## (i) Capture the current return, 'ret' , when it is only strong up; And,\n",
    "## (ii) capture it when it is only strong down.\n",
    "\n",
    "# we need threshold to determine up oand down. here is an example"
   ]
  },
  {
   "cell_type": "markdown",
   "id": "994de086",
   "metadata": {},
   "source": [
    "## examine the following two variables\n"
   ]
  },
  {
   "cell_type": "code",
   "execution_count": 45,
   "id": "770e55f1",
   "metadata": {},
   "outputs": [
    {
     "name": "stderr",
     "output_type": "stream",
     "text": [
      "/var/folders/nd/mvq13b8j3msfgn8hkg4r_p200000gn/T/ipykernel_40327/3925062868.py:3: SettingWithCopyWarning: \n",
      "A value is trying to be set on a copy of a slice from a DataFrame.\n",
      "Try using .loc[row_indexer,col_indexer] = value instead\n",
      "\n",
      "See the caveats in the documentation: https://pandas.pydata.org/pandas-docs/stable/user_guide/indexing.html#returning-a-view-versus-a-copy\n",
      "  syms['ret_q90'] = np.where(syms['ret'] > q90 , syms['ret']- q90 ,0 )\n",
      "/var/folders/nd/mvq13b8j3msfgn8hkg4r_p200000gn/T/ipykernel_40327/3925062868.py:4: SettingWithCopyWarning: \n",
      "A value is trying to be set on a copy of a slice from a DataFrame.\n",
      "Try using .loc[row_indexer,col_indexer] = value instead\n",
      "\n",
      "See the caveats in the documentation: https://pandas.pydata.org/pandas-docs/stable/user_guide/indexing.html#returning-a-view-versus-a-copy\n",
      "  syms['ret_q10'] = np.where(syms['ret'] < q10 , syms['ret']- q10, 0 )\n"
     ]
    },
    {
     "data": {
      "text/html": [
       "<div>\n",
       "<style scoped>\n",
       "    .dataframe tbody tr th:only-of-type {\n",
       "        vertical-align: middle;\n",
       "    }\n",
       "\n",
       "    .dataframe tbody tr th {\n",
       "        vertical-align: top;\n",
       "    }\n",
       "\n",
       "    .dataframe thead th {\n",
       "        text-align: right;\n",
       "    }\n",
       "</style>\n",
       "<table border=\"1\" class=\"dataframe\">\n",
       "  <thead>\n",
       "    <tr style=\"text-align: right;\">\n",
       "      <th></th>\n",
       "      <th>ret</th>\n",
       "      <th>ret_q90</th>\n",
       "      <th>ret_q10</th>\n",
       "    </tr>\n",
       "  </thead>\n",
       "  <tbody>\n",
       "    <tr>\n",
       "      <th>count</th>\n",
       "      <td>141917.000000</td>\n",
       "      <td>141917.000000</td>\n",
       "      <td>141917.000000</td>\n",
       "    </tr>\n",
       "    <tr>\n",
       "      <th>mean</th>\n",
       "      <td>0.000007</td>\n",
       "      <td>0.000117</td>\n",
       "      <td>-0.000124</td>\n",
       "    </tr>\n",
       "    <tr>\n",
       "      <th>std</th>\n",
       "      <td>0.001584</td>\n",
       "      <td>0.000589</td>\n",
       "      <td>0.000615</td>\n",
       "    </tr>\n",
       "    <tr>\n",
       "      <th>min</th>\n",
       "      <td>-0.023044</td>\n",
       "      <td>0.000000</td>\n",
       "      <td>-0.021437</td>\n",
       "    </tr>\n",
       "    <tr>\n",
       "      <th>25%</th>\n",
       "      <td>-0.000716</td>\n",
       "      <td>0.000000</td>\n",
       "      <td>0.000000</td>\n",
       "    </tr>\n",
       "    <tr>\n",
       "      <th>50%</th>\n",
       "      <td>0.000000</td>\n",
       "      <td>0.000000</td>\n",
       "      <td>0.000000</td>\n",
       "    </tr>\n",
       "    <tr>\n",
       "      <th>75%</th>\n",
       "      <td>0.000757</td>\n",
       "      <td>0.000000</td>\n",
       "      <td>0.000000</td>\n",
       "    </tr>\n",
       "    <tr>\n",
       "      <th>max</th>\n",
       "      <td>0.027268</td>\n",
       "      <td>0.025664</td>\n",
       "      <td>0.000000</td>\n",
       "    </tr>\n",
       "  </tbody>\n",
       "</table>\n",
       "</div>"
      ],
      "text/plain": [
       "                ret       ret_q90       ret_q10\n",
       "count 141917.000000 141917.000000 141917.000000\n",
       "mean       0.000007      0.000117     -0.000124\n",
       "std        0.001584      0.000589      0.000615\n",
       "min       -0.023044      0.000000     -0.021437\n",
       "25%       -0.000716      0.000000      0.000000\n",
       "50%        0.000000      0.000000      0.000000\n",
       "75%        0.000757      0.000000      0.000000\n",
       "max        0.027268      0.025664      0.000000"
      ]
     },
     "execution_count": 45,
     "metadata": {},
     "output_type": "execute_result"
    }
   ],
   "source": [
    "q90 = syms['ret'].quantile(0.90)\n",
    "q10 = syms['ret'].quantile(0.10)\n",
    "syms['ret_q90'] = np.where(syms['ret'] > q90 , syms['ret']- q90 ,0 )\n",
    "syms['ret_q10'] = np.where(syms['ret'] < q10 , syms['ret']- q10, 0 )\n",
    "syms[['ret' , 'ret_q90' , 'ret_q10']].describe()"
   ]
  },
  {
   "cell_type": "code",
   "execution_count": 46,
   "id": "9405e841",
   "metadata": {},
   "outputs": [
    {
     "data": {
      "text/html": [
       "<div>\n",
       "<style scoped>\n",
       "    .dataframe tbody tr th:only-of-type {\n",
       "        vertical-align: middle;\n",
       "    }\n",
       "\n",
       "    .dataframe tbody tr th {\n",
       "        vertical-align: top;\n",
       "    }\n",
       "\n",
       "    .dataframe thead th {\n",
       "        text-align: right;\n",
       "    }\n",
       "</style>\n",
       "<table border=\"1\" class=\"dataframe\">\n",
       "  <thead>\n",
       "    <tr style=\"text-align: right;\">\n",
       "      <th></th>\n",
       "      <th>next_ret</th>\n",
       "      <th>ret</th>\n",
       "      <th>ret_q10</th>\n",
       "      <th>ret_q90</th>\n",
       "    </tr>\n",
       "  </thead>\n",
       "  <tbody>\n",
       "    <tr>\n",
       "      <th>next_ret</th>\n",
       "      <td>1.000000</td>\n",
       "      <td>-0.017218</td>\n",
       "      <td>-0.004776</td>\n",
       "      <td>-0.011878</td>\n",
       "    </tr>\n",
       "    <tr>\n",
       "      <th>ret</th>\n",
       "      <td>-0.017218</td>\n",
       "      <td>1.000000</td>\n",
       "      <td>0.609270</td>\n",
       "      <td>0.586728</td>\n",
       "    </tr>\n",
       "    <tr>\n",
       "      <th>ret_q10</th>\n",
       "      <td>-0.004776</td>\n",
       "      <td>0.609270</td>\n",
       "      <td>1.000000</td>\n",
       "      <td>0.040015</td>\n",
       "    </tr>\n",
       "    <tr>\n",
       "      <th>ret_q90</th>\n",
       "      <td>-0.011878</td>\n",
       "      <td>0.586728</td>\n",
       "      <td>0.040015</td>\n",
       "      <td>1.000000</td>\n",
       "    </tr>\n",
       "  </tbody>\n",
       "</table>\n",
       "</div>"
      ],
      "text/plain": [
       "          next_ret       ret   ret_q10   ret_q90\n",
       "next_ret  1.000000 -0.017218 -0.004776 -0.011878\n",
       "ret      -0.017218  1.000000  0.609270  0.586728\n",
       "ret_q10  -0.004776  0.609270  1.000000  0.040015\n",
       "ret_q90  -0.011878  0.586728  0.040015  1.000000"
      ]
     },
     "execution_count": 46,
     "metadata": {},
     "output_type": "execute_result"
    }
   ],
   "source": [
    "syms[['next_ret','ret' , 'ret_q10' , 'ret_q90']].corr()"
   ]
  },
  {
   "cell_type": "markdown",
   "id": "0a932294",
   "metadata": {},
   "source": [
    "# Note how next_ret correlate differently between the three variables. \n",
    " ## it looks like strong moves ( up or down ) exhibits more reversion."
   ]
  },
  {
   "cell_type": "markdown",
   "id": "5897bbb9",
   "metadata": {},
   "source": [
    "# ANN uses activation functions to capture non-linear effects-- i.e. interactions.\n",
    "## Introducing Activation function ReLU ( Rectified Linear Unit). Recently most ML algorithms use such activation function"
   ]
  },
  {
   "cell_type": "code",
   "execution_count": 48,
   "id": "c3086f17",
   "metadata": {},
   "outputs": [],
   "source": [
    "def relu(x):\n",
    "    y = np.maximum(0,x)\n",
    "    return(y)"
   ]
  },
  {
   "cell_type": "markdown",
   "id": "599e4f6f",
   "metadata": {},
   "source": [
    "## Here is a graph of this function"
   ]
  },
  {
   "cell_type": "code",
   "execution_count": 49,
   "id": "32e942f5",
   "metadata": {},
   "outputs": [
    {
     "data": {
      "image/png": "[encoded data removed]",
      "text/plain": [
       "<Figure size 600x400 with 1 Axes>"
      ]
     },
     "metadata": {},
     "output_type": "display_data"
    }
   ],
   "source": [
    "x= np.linspace(-0.01, 0.01, 100)\n",
    "y = relu(x)\n",
    "plt.figure(figsize=(6,4))\n",
    "plt.plot(list(x),list(y) )\n",
    "plt.title ( \"y = relu(x)\" ) \n",
    "plt.xlabel('x')\n",
    "plt.ylabel('y')\n",
    "plt.show()"
   ]
  },
  {
   "cell_type": "markdown",
   "id": "d4452fdc",
   "metadata": {},
   "source": [
    "## Here is a graph of the first engineered features"
   ]
  },
  {
   "cell_type": "code",
   "execution_count": 50,
   "id": "e141bf18",
   "metadata": {},
   "outputs": [
    {
     "data": {
      "text/plain": [
       "<AxesSubplot: xlabel='ret', ylabel='ret_q90'>"
      ]
     },
     "execution_count": 50,
     "metadata": {},
     "output_type": "execute_result"
    },
    {
     "data": {
      "image/png": "[encoded data removed]",
      "text/plain": [
       "<Figure size 640x480 with 1 Axes>"
      ]
     },
     "metadata": {},
     "output_type": "display_data"
    }
   ],
   "source": [
    "syms.plot(kind= 'scatter' , x= 'ret', y='ret_q90', color='b', label = 'ret_q90 ')"
   ]
  },
  {
   "cell_type": "markdown",
   "id": "8fce0775",
   "metadata": {},
   "source": [
    "## This is exactly relu(ret - q90 ). Let us verify that"
   ]
  },
  {
   "cell_type": "code",
   "execution_count": 52,
   "id": "a84b9162",
   "metadata": {},
   "outputs": [
    {
     "name": "stdout",
     "output_type": "stream",
     "text": [
      "      ret_q90  relu_ret - q90\n",
      "mean 0.000117        0.000117\n",
      "std  0.000589        0.000589\n"
     ]
    },
    {
     "name": "stderr",
     "output_type": "stream",
     "text": [
      "/var/folders/nd/mvq13b8j3msfgn8hkg4r_p200000gn/T/ipykernel_40327/2863716028.py:1: SettingWithCopyWarning: \n",
      "A value is trying to be set on a copy of a slice from a DataFrame.\n",
      "Try using .loc[row_indexer,col_indexer] = value instead\n",
      "\n",
      "See the caveats in the documentation: https://pandas.pydata.org/pandas-docs/stable/user_guide/indexing.html#returning-a-view-versus-a-copy\n",
      "  syms['relu_ret - q90'] = (syms['ret']-q90).apply(relu)\n"
     ]
    },
    {
     "data": {
      "text/html": [
       "<div>\n",
       "<style scoped>\n",
       "    .dataframe tbody tr th:only-of-type {\n",
       "        vertical-align: middle;\n",
       "    }\n",
       "\n",
       "    .dataframe tbody tr th {\n",
       "        vertical-align: top;\n",
       "    }\n",
       "\n",
       "    .dataframe thead th {\n",
       "        text-align: right;\n",
       "    }\n",
       "</style>\n",
       "<table border=\"1\" class=\"dataframe\">\n",
       "  <thead>\n",
       "    <tr style=\"text-align: right;\">\n",
       "      <th></th>\n",
       "      <th>ret_q90</th>\n",
       "      <th>relu_ret - q90</th>\n",
       "    </tr>\n",
       "  </thead>\n",
       "  <tbody>\n",
       "    <tr>\n",
       "      <th>ret_q90</th>\n",
       "      <td>1.000000</td>\n",
       "      <td>1.000000</td>\n",
       "    </tr>\n",
       "    <tr>\n",
       "      <th>relu_ret - q90</th>\n",
       "      <td>1.000000</td>\n",
       "      <td>1.000000</td>\n",
       "    </tr>\n",
       "  </tbody>\n",
       "</table>\n",
       "</div>"
      ],
      "text/plain": [
       "                ret_q90  relu_ret - q90\n",
       "ret_q90        1.000000        1.000000\n",
       "relu_ret - q90 1.000000        1.000000"
      ]
     },
     "execution_count": 52,
     "metadata": {},
     "output_type": "execute_result"
    }
   ],
   "source": [
    "syms['relu_ret - q90'] = (syms['ret']-q90).apply(relu)\n",
    "print( syms[['ret_q90', 'relu_ret - q90']].agg(['mean', 'std']) )\n",
    "syms[['ret_q90', 'relu_ret - q90']].corr()"
   ]
  },
  {
   "cell_type": "markdown",
   "id": "a864cf05",
   "metadata": {},
   "source": [
    "## This shows the two variables are identical. It also shows how the activstion function can be use to capture non linearity of any input any linear combinations of inputs"
   ]
  },
  {
   "cell_type": "code",
   "execution_count": 53,
   "id": "ec7a9ca7",
   "metadata": {},
   "outputs": [
    {
     "data": {
      "text/plain": [
       "<AxesSubplot: xlabel='ret', ylabel='ret_q10'>"
      ]
     },
     "execution_count": 53,
     "metadata": {},
     "output_type": "execute_result"
    },
    {
     "data": {
      "image/png": "[encoded data removed]",
      "text/plain": [
       "<Figure size 640x480 with 1 Axes>"
      ]
     },
     "metadata": {},
     "output_type": "display_data"
    }
   ],
   "source": [
    "syms.plot(kind= 'scatter' , x= 'ret', y='ret_q10', color='r', label = 'ret_q10 ')"
   ]
  },
  {
   "cell_type": "code",
   "execution_count": 54,
   "id": "3776bf5e",
   "metadata": {},
   "outputs": [
    {
     "name": "stderr",
     "output_type": "stream",
     "text": [
      "/var/folders/nd/mvq13b8j3msfgn8hkg4r_p200000gn/T/ipykernel_40327/1873130439.py:1: SettingWithCopyWarning: \n",
      "A value is trying to be set on a copy of a slice from a DataFrame.\n",
      "Try using .loc[row_indexer,col_indexer] = value instead\n",
      "\n",
      "See the caveats in the documentation: https://pandas.pydata.org/pandas-docs/stable/user_guide/indexing.html#returning-a-view-versus-a-copy\n",
      "  syms['r-act']= syms['ret'] -  (syms['ret']-q10).apply(relu)\n"
     ]
    },
    {
     "data": {
      "text/plain": [
       "<AxesSubplot: xlabel='ret', ylabel='r-act'>"
      ]
     },
     "execution_count": 54,
     "metadata": {},
     "output_type": "execute_result"
    },
    {
     "data": {
      "image/png": "[encoded data removed]",
      "text/plain": [
       "<Figure size 640x480 with 1 Axes>"
      ]
     },
     "metadata": {},
     "output_type": "display_data"
    }
   ],
   "source": [
    "\n",
    "syms['r-act']= syms['ret'] -  (syms['ret']-q10).apply(relu)\n",
    "syms.plot(kind= 'scatter' , x= 'ret', y='r-act', color='g', label = 'rrt - activation ')"
   ]
  },
  {
   "cell_type": "markdown",
   "id": "46fa911a",
   "metadata": {},
   "source": [
    "# So relu activation function can also generate the second engineered feature"
   ]
  },
  {
   "cell_type": "markdown",
   "id": "a4b53ef9",
   "metadata": {},
   "source": [
    "# By applying ReLU activiation function on a variable or a linear combination of variables we are engineering features that capture non-linear relationship between inputs and the  output variable"
   ]
  },
  {
   "cell_type": "markdown",
   "id": "4f52ae0b",
   "metadata": {},
   "source": [
    "## What is ANN slow at, or not efficient with, is capturing interaction of a product effect between inputs, like  ret*volume\n",
    "\n",
    "# There are two ways to handle that;\n",
    " # (i) creating a new input equal to the product of the two inputs\n",
    " # ( ii) Apply a log transformation for the product. According to the log function,\n",
    " # log( a * b ) = log(a) + log(b)    if a > 0 and b > 0\n",
    " # If each term is positive, the log of the product is the sum of the logs. \n",
    "  # In case of the variable 'ret' , we face the problem that ret can be negative.\n",
    "  \n",
    "   #  However, if we can change ret to 1+ret. Using (1 +ret) instead, does not sacrifice any information. But it allows capturing the the interation, it neutralizes any impact of the skewed distribution of volume and helps ML algorithm learn about the effect of this interaction.\n",
    "   # Another function of ret is exp(ret). If instead of ret*volume we have exp(ret)*volume, then \n",
    "   # log ( exp(ret)*volume ) = log(exp(ret) + log(volume) = ret + log(volume)"
   ]
  },
  {
   "cell_type": "code",
   "execution_count": 55,
   "id": "4133075a",
   "metadata": {},
   "outputs": [
    {
     "name": "stderr",
     "output_type": "stream",
     "text": [
      "/var/folders/nd/mvq13b8j3msfgn8hkg4r_p200000gn/T/ipykernel_40327/887418831.py:1: SettingWithCopyWarning: \n",
      "A value is trying to be set on a copy of a slice from a DataFrame.\n",
      "Try using .loc[row_indexer,col_indexer] = value instead\n",
      "\n",
      "See the caveats in the documentation: https://pandas.pydata.org/pandas-docs/stable/user_guide/indexing.html#returning-a-view-versus-a-copy\n",
      "  syms['volume*ret']=syms['volume']*syms['ret']\n"
     ]
    }
   ],
   "source": [
    "syms['volume*ret']=syms['volume']*syms['ret']"
   ]
  },
  {
   "cell_type": "code",
   "execution_count": 56,
   "id": "409de6a1",
   "metadata": {},
   "outputs": [
    {
     "data": {
      "text/plain": [
       "Index(['symbol', 'etf', 'day', 'time', 'high', 'low', 'next_ret', 'ret',\n",
       "       'prev1_ret', 'prev2_ret', 'prev3_ret', 'prev4_ret', 'volume', 'mflow1',\n",
       "       'mflow2', 'mflow3', 'mflow4', 'spy_high', 'spy_low', 'spy_next_ret',\n",
       "       'spy_ret', 'spy_prev1_ret', 'spy_prev2_ret', 'spy_prev3_ret',\n",
       "       'spy_prev4_ret', 'spy_volume', 'spy_mflow1', 'spy_mflow2', 'spy_mflow3',\n",
       "       'spy_mflow4', 'etf_high', 'etf_low', 'etf_next_ret', 'etf_ret',\n",
       "       'etf_prev1_ret', 'etf_prev2_ret', 'etf_prev3_ret', 'etf_prev4_ret',\n",
       "       'etf_volume', 'etf_mflow1', 'etf_mflow2', 'etf_mflow3', 'etf_mflow4',\n",
       "       'standaized_volume', 'log_volume', 'ret_q90', 'ret_q10',\n",
       "       'relu_ret - q90', 'r-act', 'volume*ret'],\n",
       "      dtype='object')"
      ]
     },
     "execution_count": 56,
     "metadata": {},
     "output_type": "execute_result"
    }
   ],
   "source": [
    "syms.columns"
   ]
  },
  {
   "cell_type": "markdown",
   "id": "681ee4d9",
   "metadata": {},
   "source": [
    "# Let us define the following df"
   ]
  },
  {
   "cell_type": "code",
   "execution_count": 57,
   "id": "478024bd",
   "metadata": {},
   "outputs": [
    {
     "data": {
      "text/plain": [
       "Index(['symbol', 'etf', 'day', 'time', 'next_ret', 'ret', 'spy_ret', 'etf_ret',\n",
       "       'volume', 'standaized_volume', 'log_volume', 'volume*ret', 'ret_q90',\n",
       "       'ret_q10'],\n",
       "      dtype='object')"
      ]
     },
     "execution_count": 57,
     "metadata": {},
     "output_type": "execute_result"
    }
   ],
   "source": [
    "vrs= ['symbol', 'etf', 'day', 'time',  \n",
    "       'next_ret', 'ret', 'spy_ret', 'etf_ret',\n",
    "      'volume' , 'standaized_volume', 'log_volume','volume*ret',\n",
    "      'ret_q90', 'ret_q10']\n",
    "syms1= syms[vrs]\n",
    "syms1.columns"
   ]
  },
  {
   "cell_type": "code",
   "execution_count": 58,
   "id": "7cde704b",
   "metadata": {},
   "outputs": [
    {
     "name": "stderr",
     "output_type": "stream",
     "text": [
      "/var/folders/nd/mvq13b8j3msfgn8hkg4r_p200000gn/T/ipykernel_40327/1799848572.py:1: FutureWarning: The default value of numeric_only in DataFrame.mean is deprecated. In a future version, it will default to False. In addition, specifying 'numeric_only=None' is deprecated. Select only valid columns or specify the value of numeric_only to silence this warning.\n",
      "  sym1_normalized = (syms1 - syms1.mean() )/syms1.std()\n",
      "/var/folders/nd/mvq13b8j3msfgn8hkg4r_p200000gn/T/ipykernel_40327/1799848572.py:1: FutureWarning: The default value of numeric_only in DataFrame.std is deprecated. In a future version, it will default to False. In addition, specifying 'numeric_only=None' is deprecated. Select only valid columns or specify the value of numeric_only to silence this warning.\n",
      "  sym1_normalized = (syms1 - syms1.mean() )/syms1.std()\n"
     ]
    },
    {
     "data": {
      "text/html": [
       "<div>\n",
       "<style scoped>\n",
       "    .dataframe tbody tr th:only-of-type {\n",
       "        vertical-align: middle;\n",
       "    }\n",
       "\n",
       "    .dataframe tbody tr th {\n",
       "        vertical-align: top;\n",
       "    }\n",
       "\n",
       "    .dataframe thead th {\n",
       "        text-align: right;\n",
       "    }\n",
       "</style>\n",
       "<table border=\"1\" class=\"dataframe\">\n",
       "  <thead>\n",
       "    <tr style=\"text-align: right;\">\n",
       "      <th></th>\n",
       "      <th>etf_ret</th>\n",
       "      <th>log_volume</th>\n",
       "      <th>next_ret</th>\n",
       "      <th>ret</th>\n",
       "      <th>ret_q10</th>\n",
       "      <th>ret_q90</th>\n",
       "      <th>spy_ret</th>\n",
       "      <th>standaized_volume</th>\n",
       "      <th>volume</th>\n",
       "      <th>volume*ret</th>\n",
       "    </tr>\n",
       "  </thead>\n",
       "  <tbody>\n",
       "    <tr>\n",
       "      <th>count</th>\n",
       "      <td>141917.000000</td>\n",
       "      <td>141917.000000</td>\n",
       "      <td>140128.000000</td>\n",
       "      <td>141917.000000</td>\n",
       "      <td>141917.000000</td>\n",
       "      <td>141917.000000</td>\n",
       "      <td>141917.000000</td>\n",
       "      <td>141917.000000</td>\n",
       "      <td>141917.000000</td>\n",
       "      <td>141917.000000</td>\n",
       "    </tr>\n",
       "    <tr>\n",
       "      <th>mean</th>\n",
       "      <td>-0.000000</td>\n",
       "      <td>-0.000000</td>\n",
       "      <td>0.000000</td>\n",
       "      <td>-0.000000</td>\n",
       "      <td>0.000000</td>\n",
       "      <td>0.000000</td>\n",
       "      <td>-0.000000</td>\n",
       "      <td>-0.000000</td>\n",
       "      <td>0.000000</td>\n",
       "      <td>0.000000</td>\n",
       "    </tr>\n",
       "    <tr>\n",
       "      <th>std</th>\n",
       "      <td>1.000000</td>\n",
       "      <td>1.000000</td>\n",
       "      <td>1.000000</td>\n",
       "      <td>1.000000</td>\n",
       "      <td>1.000000</td>\n",
       "      <td>1.000000</td>\n",
       "      <td>1.000000</td>\n",
       "      <td>1.000000</td>\n",
       "      <td>1.000000</td>\n",
       "      <td>1.000000</td>\n",
       "    </tr>\n",
       "    <tr>\n",
       "      <th>min</th>\n",
       "      <td>-7.600978</td>\n",
       "      <td>-6.925814</td>\n",
       "      <td>-13.543071</td>\n",
       "      <td>-14.550953</td>\n",
       "      <td>-34.672774</td>\n",
       "      <td>-0.198393</td>\n",
       "      <td>-6.937903</td>\n",
       "      <td>-0.564133</td>\n",
       "      <td>-0.564133</td>\n",
       "      <td>-167.612122</td>\n",
       "    </tr>\n",
       "    <tr>\n",
       "      <th>25%</th>\n",
       "      <td>-0.506394</td>\n",
       "      <td>-0.750093</td>\n",
       "      <td>-0.475162</td>\n",
       "      <td>-0.456234</td>\n",
       "      <td>0.201694</td>\n",
       "      <td>-0.198393</td>\n",
       "      <td>-0.549558</td>\n",
       "      <td>-0.429671</td>\n",
       "      <td>-0.429671</td>\n",
       "      <td>-0.027308</td>\n",
       "    </tr>\n",
       "    <tr>\n",
       "      <th>50%</th>\n",
       "      <td>-0.010079</td>\n",
       "      <td>-0.120205</td>\n",
       "      <td>-0.003184</td>\n",
       "      <td>-0.004121</td>\n",
       "      <td>0.201694</td>\n",
       "      <td>-0.198393</td>\n",
       "      <td>0.051225</td>\n",
       "      <td>-0.303424</td>\n",
       "      <td>-0.303424</td>\n",
       "      <td>-0.001784</td>\n",
       "    </tr>\n",
       "    <tr>\n",
       "      <th>75%</th>\n",
       "      <td>0.537937</td>\n",
       "      <td>0.633177</td>\n",
       "      <td>0.495390</td>\n",
       "      <td>0.473529</td>\n",
       "      <td>0.201694</td>\n",
       "      <td>-0.198393</td>\n",
       "      <td>0.598259</td>\n",
       "      <td>0.011166</td>\n",
       "      <td>0.011166</td>\n",
       "      <td>0.025889</td>\n",
       "    </tr>\n",
       "    <tr>\n",
       "      <th>max</th>\n",
       "      <td>7.682566</td>\n",
       "      <td>4.854310</td>\n",
       "      <td>18.178784</td>\n",
       "      <td>17.208538</td>\n",
       "      <td>0.201694</td>\n",
       "      <td>43.346665</td>\n",
       "      <td>4.728671</td>\n",
       "      <td>47.845240</td>\n",
       "      <td>47.845240</td>\n",
       "      <td>66.233704</td>\n",
       "    </tr>\n",
       "  </tbody>\n",
       "</table>\n",
       "</div>"
      ],
      "text/plain": [
       "            etf_ret    log_volume      next_ret           ret       ret_q10  \\\n",
       "count 141917.000000 141917.000000 140128.000000 141917.000000 141917.000000   \n",
       "mean      -0.000000     -0.000000      0.000000     -0.000000      0.000000   \n",
       "std        1.000000      1.000000      1.000000      1.000000      1.000000   \n",
       "min       -7.600978     -6.925814    -13.543071    -14.550953    -34.672774   \n",
       "25%       -0.506394     -0.750093     -0.475162     -0.456234      0.201694   \n",
       "50%       -0.010079     -0.120205     -0.003184     -0.004121      0.201694   \n",
       "75%        0.537937      0.633177      0.495390      0.473529      0.201694   \n",
       "max        7.682566      4.854310     18.178784     17.208538      0.201694   \n",
       "\n",
       "            ret_q90       spy_ret  standaized_volume        volume  \\\n",
       "count 141917.000000 141917.000000      141917.000000 141917.000000   \n",
       "mean       0.000000     -0.000000          -0.000000      0.000000   \n",
       "std        1.000000      1.000000           1.000000      1.000000   \n",
       "min       -0.198393     -6.937903          -0.564133     -0.564133   \n",
       "25%       -0.198393     -0.549558          -0.429671     -0.429671   \n",
       "50%       -0.198393      0.051225          -0.303424     -0.303424   \n",
       "75%       -0.198393      0.598259           0.011166      0.011166   \n",
       "max       43.346665      4.728671          47.845240     47.845240   \n",
       "\n",
       "         volume*ret  \n",
       "count 141917.000000  \n",
       "mean       0.000000  \n",
       "std        1.000000  \n",
       "min     -167.612122  \n",
       "25%       -0.027308  \n",
       "50%       -0.001784  \n",
       "75%        0.025889  \n",
       "max       66.233704  "
      ]
     },
     "execution_count": 58,
     "metadata": {},
     "output_type": "execute_result"
    }
   ],
   "source": [
    "sym1_normalized = (syms1 - syms1.mean() )/syms1.std()\n",
    "sym1_normalized.describe()"
   ]
  },
  {
   "cell_type": "code",
   "execution_count": null,
   "id": "fc7e4357",
   "metadata": {},
   "outputs": [],
   "source": []
  },
  {
   "cell_type": "markdown",
   "id": "f2b09ce2",
   "metadata": {},
   "source": [
    "## Here is a regression model with all the feature"
   ]
  },
  {
   "cell_type": "code",
   "execution_count": 60,
   "id": "68ada9d6",
   "metadata": {},
   "outputs": [
    {
     "name": "stdout",
     "output_type": "stream",
     "text": [
      "['symbol', 'etf', 'day', 'time', 'next_ret', 'ret', 'spy_ret', 'etf_ret', 'volume', 'standaized_volume', 'log_volume', 'volume*ret', 'ret_q90', 'ret_q10']\n"
     ]
    }
   ],
   "source": [
    "print(vrs)"
   ]
  },
  {
   "cell_type": "code",
   "execution_count": 61,
   "id": "57255a4a",
   "metadata": {},
   "outputs": [
    {
     "name": "stdout",
     "output_type": "stream",
     "text": [
      "['next_ret', 'ret', 'spy_ret', 'etf_ret', 'volume', 'standaized_volume', 'log_volume', 'volume*ret', 'ret_q90', 'ret_q10']\n"
     ]
    }
   ],
   "source": [
    "print( vrs[4:] )"
   ]
  },
  {
   "cell_type": "code",
   "execution_count": 62,
   "id": "cc978da1",
   "metadata": {},
   "outputs": [
    {
     "data": {
      "text/html": [
       "<table class=\"simpletable\">\n",
       "<caption>OLS Regression Results</caption>\n",
       "<tr>\n",
       "  <th>Dep. Variable:</th>        <td>next_ret</td>     <th>  R-squared:         </th>  <td>   0.001</td> \n",
       "</tr>\n",
       "<tr>\n",
       "  <th>Model:</th>                   <td>OLS</td>       <th>  Adj. R-squared:    </th>  <td>   0.000</td> \n",
       "</tr>\n",
       "<tr>\n",
       "  <th>Method:</th>             <td>Least Squares</td>  <th>  F-statistic:       </th>  <td>   8.952</td> \n",
       "</tr>\n",
       "<tr>\n",
       "  <th>Date:</th>             <td>Thu, 29 Jun 2023</td> <th>  Prob (F-statistic):</th>  <td>2.36e-12</td> \n",
       "</tr>\n",
       "<tr>\n",
       "  <th>Time:</th>                 <td>11:59:41</td>     <th>  Log-Likelihood:    </th> <td>7.1238e+05</td>\n",
       "</tr>\n",
       "<tr>\n",
       "  <th>No. Observations:</th>      <td>140128</td>      <th>  AIC:               </th> <td>-1.425e+06</td>\n",
       "</tr>\n",
       "<tr>\n",
       "  <th>Df Residuals:</th>          <td>140119</td>      <th>  BIC:               </th> <td>-1.425e+06</td>\n",
       "</tr>\n",
       "<tr>\n",
       "  <th>Df Model:</th>              <td>     8</td>      <th>                     </th>      <td> </td>    \n",
       "</tr>\n",
       "<tr>\n",
       "  <th>Covariance Type:</th>      <td>nonrobust</td>    <th>                     </th>      <td> </td>    \n",
       "</tr>\n",
       "</table>\n",
       "<table class=\"simpletable\">\n",
       "<tr>\n",
       "          <td></td>             <th>coef</th>     <th>std err</th>      <th>t</th>      <th>P>|t|</th>  <th>[0.025</th>    <th>0.975]</th>  \n",
       "</tr>\n",
       "<tr>\n",
       "  <th>const</th>             <td>-6.636e-05</td> <td> 4.88e-05</td> <td>   -1.358</td> <td> 0.174</td> <td>   -0.000</td> <td> 2.94e-05</td>\n",
       "</tr>\n",
       "<tr>\n",
       "  <th>ret</th>               <td>   -0.0203</td> <td>    0.005</td> <td>   -3.975</td> <td> 0.000</td> <td>   -0.030</td> <td>   -0.010</td>\n",
       "</tr>\n",
       "<tr>\n",
       "  <th>spy_ret</th>           <td>    0.0173</td> <td>    0.008</td> <td>    2.117</td> <td> 0.034</td> <td>    0.001</td> <td>    0.033</td>\n",
       "</tr>\n",
       "<tr>\n",
       "  <th>etf_ret</th>           <td>   -0.0138</td> <td>    0.006</td> <td>   -2.279</td> <td> 0.023</td> <td>   -0.026</td> <td>   -0.002</td>\n",
       "</tr>\n",
       "<tr>\n",
       "  <th>volume</th>            <td>-1.021e-10</td> <td> 6.47e-11</td> <td>   -1.578</td> <td> 0.114</td> <td>-2.29e-10</td> <td> 2.47e-11</td>\n",
       "</tr>\n",
       "<tr>\n",
       "  <th>standaized_volume</th> <td> 3.745e-05</td> <td> 2.76e-05</td> <td>    1.358</td> <td> 0.174</td> <td>-1.66e-05</td> <td> 9.15e-05</td>\n",
       "</tr>\n",
       "<tr>\n",
       "  <th>log_volume</th>        <td> 8.505e-06</td> <td> 5.61e-06</td> <td>    1.516</td> <td> 0.129</td> <td>-2.49e-06</td> <td> 1.95e-05</td>\n",
       "</tr>\n",
       "<tr>\n",
       "  <th>volume*ret</th>        <td> 4.657e-09</td> <td>  1.5e-09</td> <td>    3.104</td> <td> 0.002</td> <td> 1.72e-09</td> <td>  7.6e-09</td>\n",
       "</tr>\n",
       "<tr>\n",
       "  <th>ret_q90</th>           <td>   -0.0020</td> <td>    0.011</td> <td>   -0.184</td> <td> 0.854</td> <td>   -0.023</td> <td>    0.019</td>\n",
       "</tr>\n",
       "<tr>\n",
       "  <th>ret_q10</th>           <td>    0.0102</td> <td>    0.010</td> <td>    0.982</td> <td> 0.326</td> <td>   -0.010</td> <td>    0.031</td>\n",
       "</tr>\n",
       "</table>\n",
       "<table class=\"simpletable\">\n",
       "<tr>\n",
       "  <th>Omnibus:</th>       <td>22287.669</td> <th>  Durbin-Watson:     </th>  <td>   1.598</td> \n",
       "</tr>\n",
       "<tr>\n",
       "  <th>Prob(Omnibus):</th>  <td> 0.000</td>   <th>  Jarque-Bera (JB):  </th> <td>407658.661</td>\n",
       "</tr>\n",
       "<tr>\n",
       "  <th>Skew:</th>           <td>-0.135</td>   <th>  Prob(JB):          </th>  <td>    0.00</td> \n",
       "</tr>\n",
       "<tr>\n",
       "  <th>Kurtosis:</th>       <td>11.351</td>   <th>  Cond. No.          </th>  <td>2.80e+21</td> \n",
       "</tr>\n",
       "</table><br/><br/>Notes:<br/>[1] Standard Errors assume that the covariance matrix of the errors is correctly specified.<br/>[2] The smallest eigenvalue is 5.48e-27. This might indicate that there are<br/>strong multicollinearity problems or that the design matrix is singular."
      ],
      "text/plain": [
       "<class 'statsmodels.iolib.summary.Summary'>\n",
       "\"\"\"\n",
       "                            OLS Regression Results                            \n",
       "==============================================================================\n",
       "Dep. Variable:               next_ret   R-squared:                       0.001\n",
       "Model:                            OLS   Adj. R-squared:                  0.000\n",
       "Method:                 Least Squares   F-statistic:                     8.952\n",
       "Date:                Thu, 29 Jun 2023   Prob (F-statistic):           2.36e-12\n",
       "Time:                        11:59:41   Log-Likelihood:             7.1238e+05\n",
       "No. Observations:              140128   AIC:                        -1.425e+06\n",
       "Df Residuals:                  140119   BIC:                        -1.425e+06\n",
       "Df Model:                           8                                         \n",
       "Covariance Type:            nonrobust                                         \n",
       "=====================================================================================\n",
       "                        coef    std err          t      P>|t|      [0.025      0.975]\n",
       "-------------------------------------------------------------------------------------\n",
       "const             -6.636e-05   4.88e-05     -1.358      0.174      -0.000    2.94e-05\n",
       "ret                  -0.0203      0.005     -3.975      0.000      -0.030      -0.010\n",
       "spy_ret               0.0173      0.008      2.117      0.034       0.001       0.033\n",
       "etf_ret              -0.0138      0.006     -2.279      0.023      -0.026      -0.002\n",
       "volume            -1.021e-10   6.47e-11     -1.578      0.114   -2.29e-10    2.47e-11\n",
       "standaized_volume  3.745e-05   2.76e-05      1.358      0.174   -1.66e-05    9.15e-05\n",
       "log_volume         8.505e-06   5.61e-06      1.516      0.129   -2.49e-06    1.95e-05\n",
       "volume*ret         4.657e-09    1.5e-09      3.104      0.002    1.72e-09     7.6e-09\n",
       "ret_q90              -0.0020      0.011     -0.184      0.854      -0.023       0.019\n",
       "ret_q10               0.0102      0.010      0.982      0.326      -0.010       0.031\n",
       "==============================================================================\n",
       "Omnibus:                    22287.669   Durbin-Watson:                   1.598\n",
       "Prob(Omnibus):                  0.000   Jarque-Bera (JB):           407658.661\n",
       "Skew:                          -0.135   Prob(JB):                         0.00\n",
       "Kurtosis:                      11.351   Cond. No.                     2.80e+21\n",
       "==============================================================================\n",
       "\n",
       "Notes:\n",
       "[1] Standard Errors assume that the covariance matrix of the errors is correctly specified.\n",
       "[2] The smallest eigenvalue is 5.48e-27. This might indicate that there are\n",
       "strong multicollinearity problems or that the design matrix is singular.\n",
       "\"\"\""
      ]
     },
     "execution_count": 62,
     "metadata": {},
     "output_type": "execute_result"
    }
   ],
   "source": [
    "XY_syms1 = syms1[vrs[4:]].dropna()\n",
    "X= XY_syms1[vrs[5:]]\n",
    "y = XY_syms1['next_ret']\n",
    "X = sm.add_constant(X)\n",
    "lm1 = sm.OLS(y, X).fit()\n",
    "lm1.summary()"
   ]
  },
  {
   "cell_type": "code",
   "execution_count": 63,
   "id": "bbb34a3d",
   "metadata": {},
   "outputs": [
    {
     "data": {
      "text/plain": [
       "0.022601846836989323"
      ]
     },
     "execution_count": 63,
     "metadata": {},
     "output_type": "execute_result"
    }
   ],
   "source": [
    "np.sqrt(lm1.rsquared)"
   ]
  },
  {
   "cell_type": "markdown",
   "id": "ee188154",
   "metadata": {},
   "source": [
    "# some improvement in r. \n",
    " ## However, lower F-stat. \n",
    " ## Interaction between volume and return is significant. \n",
    " ## volume itself ( including the two transformed volumes) is not significant"
   ]
  },
  {
   "cell_type": "markdown",
   "id": "f76217d1",
   "metadata": {},
   "source": [
    "# Out-of-sample testing.\n",
    " ## Split the data to train and test\n",
    " ## standarizing train-data\n",
    " ## use train parameters to standarize test-data"
   ]
  },
  {
   "cell_type": "code",
   "execution_count": 53,
   "id": "ea8b58ae",
   "metadata": {},
   "outputs": [
    {
     "data": {
      "text/plain": [
       "Index(['symbol', 'etf', 'day', 'time', 'next_ret', 'ret', 'spy_ret', 'etf_ret',\n",
       "       'volume', 'standaized_volume', 'log_volume', 'volume*ret', 'ret_q90',\n",
       "       'ret_q10'],\n",
       "      dtype='object')"
      ]
     },
     "execution_count": 53,
     "metadata": {},
     "output_type": "execute_result"
    }
   ],
   "source": [
    "syms1.columns"
   ]
  },
  {
   "cell_type": "code",
   "execution_count": null,
   "id": "22ed5a50",
   "metadata": {},
   "outputs": [],
   "source": []
  },
  {
   "cell_type": "code",
   "execution_count": 64,
   "id": "248bdcce",
   "metadata": {},
   "outputs": [],
   "source": [
    "from sklearn import datasets\n",
    "from sklearn.model_selection import train_test_split"
   ]
  },
  {
   "cell_type": "code",
   "execution_count": 65,
   "id": "e3fa5cc0",
   "metadata": {},
   "outputs": [],
   "source": [
    "y = syms1['next_ret']"
   ]
  },
  {
   "cell_type": "code",
   "execution_count": 66,
   "id": "5f0be642",
   "metadata": {},
   "outputs": [],
   "source": [
    "syms1_train, syms1_test, y_train, y_test = train_test_split(syms1, y, test_size=0.3, random_state= 12345)"
   ]
  },
  {
   "cell_type": "code",
   "execution_count": 67,
   "id": "fdf5630b",
   "metadata": {},
   "outputs": [
    {
     "data": {
      "text/plain": [
       "Index(['symbol', 'etf', 'day', 'time', 'next_ret', 'ret', 'spy_ret', 'etf_ret',\n",
       "       'volume', 'standaized_volume', 'log_volume', 'volume*ret', 'ret_q90',\n",
       "       'ret_q10'],\n",
       "      dtype='object')"
      ]
     },
     "execution_count": 67,
     "metadata": {},
     "output_type": "execute_result"
    }
   ],
   "source": [
    "vrs= syms1_train.columns\n",
    "vrs"
   ]
  },
  {
   "cell_type": "markdown",
   "id": "cef43ce5",
   "metadata": {},
   "source": [
    "# The follwoing estimates the model on train data and tests it on test data"
   ]
  },
  {
   "cell_type": "code",
   "execution_count": 68,
   "id": "08e624aa",
   "metadata": {
    "scrolled": true
   },
   "outputs": [
    {
     "name": "stdout",
     "output_type": "stream",
     "text": [
      "r_train = =  0.03481413036810093\n",
      "r_test    = -0.01831685638363239\n"
     ]
    }
   ],
   "source": [
    "XY_train = syms1_train[vrs[4:]].dropna()\n",
    "XY_test = syms1_test[vrs[4:]].dropna()\n",
    "XY_train_standarized = (XY_train - XY_train.mean() )/XY_train.std() \n",
    "XY_test_standarized = (XY_test - XY_train.mean() )/XY_train.std()  # Note we standarize the test data with the \n",
    "X_train_standarized= XY_train_standarized[vrs[5:]]\n",
    "X_test_standarized = XY_test_standarized[vrs[5:]]\n",
    "y_train_standarized = XY_train_standarized['next_ret']\n",
    "y_test_standarized =   XY_test_standarized['next_ret']\n",
    "\n",
    "X_train_standarized = sm.add_constant(X_train_standarized)\n",
    "X_test_standarized = sm.add_constant(X_test_standarized)\n",
    "lm = sm.OLS(y_train_standarized, X_train_standarized).fit()\n",
    "XY_train_standarized['pred'] = lm.predict(X_train_standarized)\n",
    "XY_test_standarized['pred'] = lm.predict(X_test_standarized)\n",
    "r_train = XY_train_standarized['pred'].corr(XY_train_standarized['next_ret'])\n",
    "r_test = XY_test_standarized['pred'].corr(XY_test_standarized['next_ret'])\n",
    "\n",
    "print(  'r_train = = ' , r_train)\n",
    "print(  'r_test    =' , r_test )"
   ]
  },
  {
   "cell_type": "markdown",
   "id": "8146000b",
   "metadata": {},
   "source": [
    "## The out-of-sample performance is very not good"
   ]
  },
  {
   "cell_type": "code",
   "execution_count": null,
   "id": "10bb502d",
   "metadata": {},
   "outputs": [],
   "source": []
  },
  {
   "cell_type": "markdown",
   "id": "ca727afc",
   "metadata": {},
   "source": [
    "# 2. Introduction to Keras"
   ]
  },
  {
   "cell_type": "markdown",
   "id": "37361c19",
   "metadata": {},
   "source": [
    "# We should expect ANN to take care of non-linearity. \n",
    "## we will apply sequential ANN using raw basic variables without interactionsl\n",
    "  ## Specifically [ 'ret' , spy_ret , etf_ret , volume ]\n",
    " # The point here see whether ANN can do all the work for us\n",
    "## We will run ANN with all created interactions and see how much ANN improves ove our model with our manually developed interactions"
   ]
  },
  {
   "cell_type": "markdown",
   "id": "aa56258e",
   "metadata": {},
   "source": [
    " ## First, we \n",
    "#  (i) will install and use two python library : tensorflow and keras\n",
    " # Provide a description of Keras sequantial NN parameters "
   ]
  },
  {
   "cell_type": "code",
   "execution_count": 69,
   "id": "ffa4df72",
   "metadata": {},
   "outputs": [
    {
     "name": "stdout",
     "output_type": "stream",
     "text": [
      "Requirement already satisfied: tensorflow in /Users/yusifsimaan/opt/miniconda3/envs/yes/lib/python3.8/site-packages (2.6.0)\n",
      "Requirement already satisfied: typing-extensions~=3.7.4 in /Users/yusifsimaan/opt/miniconda3/envs/yes/lib/python3.8/site-packages (from tensorflow) (3.7.4.3)\n",
      "Requirement already satisfied: clang~=5.0 in /Users/yusifsimaan/opt/miniconda3/envs/yes/lib/python3.8/site-packages (from tensorflow) (5.0)\n",
      "Requirement already satisfied: tensorflow-estimator~=2.6 in /Users/yusifsimaan/opt/miniconda3/envs/yes/lib/python3.8/site-packages (from tensorflow) (2.6.0)\n",
      "Requirement already satisfied: wheel~=0.35 in /Users/yusifsimaan/opt/miniconda3/envs/yes/lib/python3.8/site-packages (from tensorflow) (0.38.4)\n",
      "Requirement already satisfied: protobuf>=3.9.2 in /Users/yusifsimaan/opt/miniconda3/envs/yes/lib/python3.8/site-packages (from tensorflow) (3.18.0)\n",
      "Requirement already satisfied: google-pasta~=0.2 in /Users/yusifsimaan/opt/miniconda3/envs/yes/lib/python3.8/site-packages (from tensorflow) (0.2.0)\n",
      "Requirement already satisfied: termcolor~=1.1.0 in /Users/yusifsimaan/opt/miniconda3/envs/yes/lib/python3.8/site-packages (from tensorflow) (1.1.0)\n",
      "Requirement already satisfied: h5py~=3.1.0 in /Users/yusifsimaan/opt/miniconda3/envs/yes/lib/python3.8/site-packages (from tensorflow) (3.1.0)\n",
      "Requirement already satisfied: wrapt~=1.12.1 in /Users/yusifsimaan/opt/miniconda3/envs/yes/lib/python3.8/site-packages (from tensorflow) (1.12.1)\n",
      "Collecting numpy~=1.19.2\n",
      "  Using cached numpy-1.19.5-cp38-cp38-macosx_10_9_x86_64.whl (15.6 MB)\n",
      "Requirement already satisfied: astunparse~=1.6.3 in /Users/yusifsimaan/opt/miniconda3/envs/yes/lib/python3.8/site-packages (from tensorflow) (1.6.3)\n",
      "Requirement already satisfied: grpcio<2.0,>=1.37.0 in /Users/yusifsimaan/opt/miniconda3/envs/yes/lib/python3.8/site-packages (from tensorflow) (1.40.0)\n",
      "Requirement already satisfied: opt-einsum~=3.3.0 in /Users/yusifsimaan/opt/miniconda3/envs/yes/lib/python3.8/site-packages (from tensorflow) (3.3.0)\n",
      "Requirement already satisfied: six~=1.15.0 in /Users/yusifsimaan/opt/miniconda3/envs/yes/lib/python3.8/site-packages (from tensorflow) (1.15.0)\n",
      "Requirement already satisfied: keras-preprocessing~=1.1.2 in /Users/yusifsimaan/opt/miniconda3/envs/yes/lib/python3.8/site-packages (from tensorflow) (1.1.2)\n",
      "Requirement already satisfied: keras~=2.6 in /Users/yusifsimaan/opt/miniconda3/envs/yes/lib/python3.8/site-packages (from tensorflow) (2.6.0)\n",
      "Requirement already satisfied: gast==0.4.0 in /Users/yusifsimaan/opt/miniconda3/envs/yes/lib/python3.8/site-packages (from tensorflow) (0.4.0)\n",
      "Requirement already satisfied: flatbuffers~=1.12.0 in /Users/yusifsimaan/opt/miniconda3/envs/yes/lib/python3.8/site-packages (from tensorflow) (1.12)\n",
      "Requirement already satisfied: tensorboard~=2.6 in /Users/yusifsimaan/opt/miniconda3/envs/yes/lib/python3.8/site-packages (from tensorflow) (2.6.0)\n",
      "Requirement already satisfied: absl-py~=0.10 in /Users/yusifsimaan/opt/miniconda3/envs/yes/lib/python3.8/site-packages (from tensorflow) (0.13.0)\n",
      "Requirement already satisfied: setuptools>=41.0.0 in /Users/yusifsimaan/opt/miniconda3/envs/yes/lib/python3.8/site-packages (from tensorboard~=2.6->tensorflow) (65.6.3)\n",
      "Requirement already satisfied: tensorboard-data-server<0.7.0,>=0.6.0 in /Users/yusifsimaan/opt/miniconda3/envs/yes/lib/python3.8/site-packages (from tensorboard~=2.6->tensorflow) (0.6.1)\n",
      "Requirement already satisfied: markdown>=2.6.8 in /Users/yusifsimaan/opt/miniconda3/envs/yes/lib/python3.8/site-packages (from tensorboard~=2.6->tensorflow) (3.4.1)\n",
      "Requirement already satisfied: google-auth-oauthlib<0.5,>=0.4.1 in /Users/yusifsimaan/opt/miniconda3/envs/yes/lib/python3.8/site-packages (from tensorboard~=2.6->tensorflow) (0.4.6)\n",
      "Requirement already satisfied: werkzeug>=0.11.15 in /Users/yusifsimaan/opt/miniconda3/envs/yes/lib/python3.8/site-packages (from tensorboard~=2.6->tensorflow) (2.2.2)\n",
      "Requirement already satisfied: google-auth<2,>=1.6.3 in /Users/yusifsimaan/opt/miniconda3/envs/yes/lib/python3.8/site-packages (from tensorboard~=2.6->tensorflow) (1.35.0)\n",
      "Requirement already satisfied: requests<3,>=2.21.0 in /Users/yusifsimaan/opt/miniconda3/envs/yes/lib/python3.8/site-packages (from tensorboard~=2.6->tensorflow) (2.28.2)\n",
      "Requirement already satisfied: tensorboard-plugin-wit>=1.6.0 in /Users/yusifsimaan/opt/miniconda3/envs/yes/lib/python3.8/site-packages (from tensorboard~=2.6->tensorflow) (1.8.0)\n",
      "Requirement already satisfied: rsa<5,>=3.1.4 in /Users/yusifsimaan/opt/miniconda3/envs/yes/lib/python3.8/site-packages (from google-auth<2,>=1.6.3->tensorboard~=2.6->tensorflow) (4.7.2)\n",
      "Requirement already satisfied: pyasn1-modules>=0.2.1 in /Users/yusifsimaan/opt/miniconda3/envs/yes/lib/python3.8/site-packages (from google-auth<2,>=1.6.3->tensorboard~=2.6->tensorflow) (0.2.8)\n",
      "Requirement already satisfied: cachetools<5.0,>=2.0.0 in /Users/yusifsimaan/opt/miniconda3/envs/yes/lib/python3.8/site-packages (from google-auth<2,>=1.6.3->tensorboard~=2.6->tensorflow) (4.2.2)\n",
      "Requirement already satisfied: requests-oauthlib>=0.7.0 in /Users/yusifsimaan/opt/miniconda3/envs/yes/lib/python3.8/site-packages (from google-auth-oauthlib<0.5,>=0.4.1->tensorboard~=2.6->tensorflow) (1.3.0)\n",
      "Requirement already satisfied: importlib-metadata>=4.4 in /Users/yusifsimaan/opt/miniconda3/envs/yes/lib/python3.8/site-packages (from markdown>=2.6.8->tensorboard~=2.6->tensorflow) (4.11.3)\n",
      "Requirement already satisfied: charset-normalizer<4,>=2 in /Users/yusifsimaan/opt/miniconda3/envs/yes/lib/python3.8/site-packages (from requests<3,>=2.21.0->tensorboard~=2.6->tensorflow) (3.0.1)\n",
      "Requirement already satisfied: urllib3<1.27,>=1.21.1 in /Users/yusifsimaan/opt/miniconda3/envs/yes/lib/python3.8/site-packages (from requests<3,>=2.21.0->tensorboard~=2.6->tensorflow) (1.26.14)\n",
      "Requirement already satisfied: idna<4,>=2.5 in /Users/yusifsimaan/opt/miniconda3/envs/yes/lib/python3.8/site-packages (from requests<3,>=2.21.0->tensorboard~=2.6->tensorflow) (3.4)\n",
      "Requirement already satisfied: certifi>=2017.4.17 in /Users/yusifsimaan/opt/miniconda3/envs/yes/lib/python3.8/site-packages (from requests<3,>=2.21.0->tensorboard~=2.6->tensorflow) (2022.12.7)\n",
      "Requirement already satisfied: MarkupSafe>=2.1.1 in /Users/yusifsimaan/opt/miniconda3/envs/yes/lib/python3.8/site-packages (from werkzeug>=0.11.15->tensorboard~=2.6->tensorflow) (2.1.1)\n",
      "Requirement already satisfied: zipp>=0.5 in /Users/yusifsimaan/opt/miniconda3/envs/yes/lib/python3.8/site-packages (from importlib-metadata>=4.4->markdown>=2.6.8->tensorboard~=2.6->tensorflow) (3.11.0)\n",
      "Requirement already satisfied: pyasn1<0.5.0,>=0.4.6 in /Users/yusifsimaan/opt/miniconda3/envs/yes/lib/python3.8/site-packages (from pyasn1-modules>=0.2.1->google-auth<2,>=1.6.3->tensorboard~=2.6->tensorflow) (0.4.8)\n",
      "Requirement already satisfied: oauthlib>=3.0.0 in /Users/yusifsimaan/opt/miniconda3/envs/yes/lib/python3.8/site-packages (from requests-oauthlib>=0.7.0->google-auth-oauthlib<0.5,>=0.4.1->tensorboard~=2.6->tensorflow) (3.1.1)\n",
      "Installing collected packages: numpy\n",
      "  Attempting uninstall: numpy\n",
      "    Found existing installation: numpy 1.20.3\n",
      "    Uninstalling numpy-1.20.3:\n",
      "      Successfully uninstalled numpy-1.20.3\n",
      "\u001b[31mERROR: pip's dependency resolver does not currently take into account all the packages that are installed. This behaviour is the source of the following dependency conflicts.\n",
      "gensim 4.3.0 requires FuzzyTM>=0.4.0, which is not installed.\n",
      "daal4py 2021.6.0 requires daal==2021.4.0, which is not installed.\n",
      "xarray 2022.11.0 requires numpy>=1.20, but you have numpy 1.19.5 which is incompatible.\n",
      "pandas 1.5.3 requires numpy>=1.20.3; python_version < \"3.10\", but you have numpy 1.19.5 which is incompatible.\n",
      "bokeh 2.4.3 requires typing-extensions>=3.10.0, but you have typing-extensions 3.7.4.3 which is incompatible.\u001b[0m\u001b[31m\n",
      "\u001b[0mSuccessfully installed numpy-1.19.5\n",
      "Requirement already satisfied: keras in /Users/yusifsimaan/opt/miniconda3/envs/yes/lib/python3.8/site-packages (2.6.0)\n"
     ]
    }
   ],
   "source": [
    "!pip install tensorflow\n",
    "!pip install keras"
   ]
  },
  {
   "cell_type": "markdown",
   "id": "ea45124f",
   "metadata": {},
   "source": [
    "## A tensor is a multi-dimensional Array (including 2 or more dimesions)\n",
    "## TensorFlow is an open source library for numerical computation and large-scale machine learning. \n",
    " # It bundles Neural Network algorithms. \n",
    " # It uses python to provide a convenient front-end API for building models. However, those applications get executed  C++"
   ]
  },
  {
   "cell_type": "markdown",
   "id": "dbb4da3e",
   "metadata": {},
   "source": [
    "## TensorFlow allows creating data flow graphs. That is:\n",
    " # A structures that describe how data moves through a graph. \n",
    " # Each node in the graph represents a mathematical operation.\n",
    " # Each connection or edge between nodes is a multi-dimensional data array-- tensor."
   ]
  },
  {
   "cell_type": "markdown",
   "id": "6279c9ed",
   "metadata": {},
   "source": [
    "# Import these keras libraries"
   ]
  },
  {
   "cell_type": "code",
   "execution_count": 70,
   "id": "c805bc9c",
   "metadata": {},
   "outputs": [],
   "source": [
    "\n",
    "from keras.models import Sequential\n",
    "from keras.layers import Dense"
   ]
  },
  {
   "cell_type": "markdown",
   "id": "212b11e8",
   "metadata": {},
   "source": [
    "# With the “Sequential” we create a sequence of ANN layers stacked one after the other. \n",
    " ## Each layer is defined using the “Dense” module of Keras.\n",
    "## Keras Dense layer contains all the neurons that are deeply connected within themselves. Every neuron in the dense layer takes the input from all the other neurons of the previous layer.  \n",
    "## We need to specify,\n",
    " # ( i) how many neurons would be there, \n",
    " # (Ii) How we initialize the weights in the network. \n",
    " # (iii) the activation function for each neuron in that layer"
   ]
  },
  {
   "cell_type": "markdown",
   "id": "3e30fc70",
   "metadata": {},
   "source": [
    "## Parameters to be specified:\n",
    "  # 1. units= k means we are creating a layer with k neirons. Each of of which will be receiving input values"
   ]
  },
  {
   "cell_type": "markdown",
   "id": "befddbfb",
   "metadata": {},
   "source": [
    "## input_dim=m: \n",
    " # This means there are m predictors in the input data which is expected by the first layer. \n",
    " # The Sequential model passes this information further to the next layers."
   ]
  },
  {
   "cell_type": "markdown",
   "id": "0c024125",
   "metadata": {},
   "source": [
    "\n",
    "## kernel_initializer=’normal’: \n",
    " # The algorithm has to decide the value for each weight. This parameter specifies that. You can choose different values for instead of ‘normal’ . The following link provides all the options:\n",
    " https://keras.io/api/layers/initializers/"
   ]
  },
  {
   "cell_type": "markdown",
   "id": "a1793f47",
   "metadata": {},
   "source": [
    "\n",
    "## activation=’relu’: This specifies the activation function for the calculations inside each neuron. You can choose values like ‘relu’, ‘tanh’, ‘sigmoid’, etc."
   ]
  },
  {
   "cell_type": "markdown",
   "id": "121c2c3a",
   "metadata": {},
   "source": [
    "## batch_size=n: \n",
    " ## This specifies how many rows will be passed to the Network in one go after which the SSE calculation will begin. At this stage the neural network will start adjusting its weights based on the errors.\n",
    " ## When all the rows are passed in the batches of n rows each as specified in this parameter, then we call that 1-epoch. Or one full data cycle. \n",
    " ## This is also known as mini-batch gradient descent. \n",
    " ## A small value of batch_size will make the ANN look at the data slowly, \n",
    " ## a large value will make the ANN look at the data fast which could lead to underfitting.\n",
    " ## a proper value must be chosen using hyperparameter tuning."
   ]
  },
  {
   "cell_type": "markdown",
   "id": "adbcf0f7",
   "metadata": {},
   "source": [
    "## Epochs = E: \n",
    "## The same activity of adjusting weights continues for E times, as specified by this parameter. \n",
    "# That is the ANN looks at the full training data E times and adjusts its weights."
   ]
  },
  {
   "cell_type": "code",
   "execution_count": 71,
   "id": "2da60cf5",
   "metadata": {},
   "outputs": [
    {
     "name": "stdout",
     "output_type": "stream",
     "text": [
      "Index(['symbol', 'etf', 'day', 'time', 'next_ret', 'ret', 'spy_ret', 'etf_ret',\n",
      "       'volume', 'standaized_volume', 'log_volume', 'volume*ret', 'ret_q90',\n",
      "       'ret_q10'],\n",
      "      dtype='object')\n"
     ]
    }
   ],
   "source": [
    "print(vrs)"
   ]
  },
  {
   "cell_type": "code",
   "execution_count": 72,
   "id": "6f56cbec",
   "metadata": {},
   "outputs": [
    {
     "data": {
      "text/plain": [
       "Index(['ret', 'spy_ret', 'etf_ret', 'volume'], dtype='object')"
      ]
     },
     "execution_count": 72,
     "metadata": {},
     "output_type": "execute_result"
    }
   ],
   "source": [
    "vrs[5:9]"
   ]
  },
  {
   "cell_type": "markdown",
   "id": "ef8444dc",
   "metadata": {},
   "source": [
    "# Here we specify inputs for the model"
   ]
  },
  {
   "cell_type": "code",
   "execution_count": 73,
   "id": "bb8a96fa",
   "metadata": {},
   "outputs": [
    {
     "name": "stdout",
     "output_type": "stream",
     "text": [
      "(98073, 4) (42055, 4) (98073,) (42055,)\n"
     ]
    }
   ],
   "source": [
    "ann_basic_columns = [ 'ret' , 'volume' , 'spy_ret' , 'etf_ret' ]\n",
    "x_train = X_train_standarized[ann_basic_columns]\n",
    "x_test = X_test_standarized[ann_basic_columns]\n",
    "y_train = XY_train_standarized['next_ret']\n",
    "y_test = XY_test_standarized['next_ret']\n",
    "print (x_train.shape, x_test.shape , y_train.shape , y_test.shape )"
   ]
  },
  {
   "cell_type": "code",
   "execution_count": 74,
   "id": "d247cfd4",
   "metadata": {},
   "outputs": [],
   "source": [
    "from numpy.random import seed\n",
    "from tensorflow.random import set_seed\n",
    "set_seed(12345)"
   ]
  },
  {
   "cell_type": "markdown",
   "id": "470e48f8",
   "metadata": {},
   "source": [
    "# In tensorflow setting the seed does not gaurenteed full replications on one machine or cross machines."
   ]
  },
  {
   "cell_type": "code",
   "execution_count": 75,
   "id": "f3de2854",
   "metadata": {},
   "outputs": [
    {
     "name": "stderr",
     "output_type": "stream",
     "text": [
      "2023-06-29 12:15:22.381637: I tensorflow/core/platform/cpu_feature_guard.cc:142] This TensorFlow binary is optimized with oneAPI Deep Neural Network Library (oneDNN) to use the following CPU instructions in performance-critical operations:  AVX2 FMA\n",
      "To enable them in other operations, rebuild TensorFlow with the appropriate compiler flags.\n",
      "2023-06-29 12:15:22.608983: I tensorflow/compiler/mlir/mlir_graph_optimization_pass.cc:185] None of the MLIR Optimization Passes are enabled (registered 2)\n"
     ]
    },
    {
     "name": "stdout",
     "output_type": "stream",
     "text": [
      "Epoch 1/50\n",
      "1635/1635 [==============================] - 18s 11ms/step - loss: 1.0000 - cosine_proximity: 0.0109\n",
      "Epoch 2/50\n",
      "1635/1635 [==============================] - 18s 11ms/step - loss: 0.9997 - cosine_proximity: 0.0212\n",
      "Epoch 3/50\n",
      "1635/1635 [==============================] - 17s 10ms/step - loss: 0.9995 - cosine_proximity: 0.0213\n",
      "Epoch 4/50\n",
      "1635/1635 [==============================] - 21s 13ms/step - loss: 0.9994 - cosine_proximity: 0.0231\n",
      "Epoch 5/50\n",
      "1635/1635 [==============================] - 21s 13ms/step - loss: 0.9993 - cosine_proximity: 0.0246\n",
      "Epoch 6/50\n",
      "1635/1635 [==============================] - 20s 12ms/step - loss: 0.9992 - cosine_proximity: 0.0238\n",
      "Epoch 7/50\n",
      "1635/1635 [==============================] - 17s 10ms/step - loss: 0.9991 - cosine_proximity: 0.0244\n",
      "Epoch 8/50\n",
      "1635/1635 [==============================] - 15s 9ms/step - loss: 0.9990 - cosine_proximity: 0.0256\n",
      "Epoch 9/50\n",
      "1635/1635 [==============================] - 15s 9ms/step - loss: 0.9989 - cosine_proximity: 0.0238\n",
      "Epoch 10/50\n",
      "1635/1635 [==============================] - 15s 9ms/step - loss: 0.9988 - cosine_proximity: 0.0217\n",
      "Epoch 11/50\n",
      "1635/1635 [==============================] - 15s 9ms/step - loss: 0.9988 - cosine_proximity: 0.0238\n",
      "Epoch 12/50\n",
      "1635/1635 [==============================] - 15s 9ms/step - loss: 0.9986 - cosine_proximity: 0.0240\n",
      "Epoch 13/50\n",
      "1635/1635 [==============================] - 15s 9ms/step - loss: 0.9985 - cosine_proximity: 0.0244\n",
      "Epoch 14/50\n",
      "1635/1635 [==============================] - 15s 9ms/step - loss: 0.9986 - cosine_proximity: 0.0222\n",
      "Epoch 15/50\n",
      "1635/1635 [==============================] - 15s 9ms/step - loss: 0.9984 - cosine_proximity: 0.0244\n",
      "Epoch 16/50\n",
      "1635/1635 [==============================] - 15s 9ms/step - loss: 0.9983 - cosine_proximity: 0.0263\n",
      "Epoch 17/50\n",
      "1635/1635 [==============================] - 14s 9ms/step - loss: 0.9984 - cosine_proximity: 0.0276\n",
      "Epoch 18/50\n",
      "1635/1635 [==============================] - 14s 9ms/step - loss: 0.9982 - cosine_proximity: 0.0218\n",
      "Epoch 19/50\n",
      "1635/1635 [==============================] - 15s 9ms/step - loss: 0.9982 - cosine_proximity: 0.0222\n",
      "Epoch 20/50\n",
      "1635/1635 [==============================] - 15s 9ms/step - loss: 0.9984 - cosine_proximity: 0.0230\n",
      "Epoch 21/50\n",
      "1635/1635 [==============================] - 16s 10ms/step - loss: 0.9982 - cosine_proximity: 0.0213\n",
      "Epoch 22/50\n",
      "1635/1635 [==============================] - 19s 11ms/step - loss: 0.9983 - cosine_proximity: 0.0249\n",
      "Epoch 23/50\n",
      "1635/1635 [==============================] - 21s 13ms/step - loss: 0.9983 - cosine_proximity: 0.0251\n",
      "Epoch 24/50\n",
      "1635/1635 [==============================] - 20s 12ms/step - loss: 0.9981 - cosine_proximity: 0.0191\n",
      "Epoch 25/50\n",
      "1635/1635 [==============================] - 18s 11ms/step - loss: 0.9983 - cosine_proximity: 0.0232\n",
      "Epoch 26/50\n",
      "1635/1635 [==============================] - 15s 9ms/step - loss: 0.9981 - cosine_proximity: 0.0246\n",
      "Epoch 27/50\n",
      "1635/1635 [==============================] - 15s 9ms/step - loss: 0.9980 - cosine_proximity: 0.0225\n",
      "Epoch 28/50\n",
      "1635/1635 [==============================] - 15s 9ms/step - loss: 0.9978 - cosine_proximity: 0.0285\n",
      "Epoch 29/50\n",
      "1635/1635 [==============================] - 14s 9ms/step - loss: 0.9980 - cosine_proximity: 0.0227\n",
      "Epoch 30/50\n",
      "1635/1635 [==============================] - 14s 9ms/step - loss: 0.9982 - cosine_proximity: 0.0252\n",
      "Epoch 31/50\n",
      "1635/1635 [==============================] - 15s 9ms/step - loss: 0.9979 - cosine_proximity: 0.0222\n",
      "Epoch 32/50\n",
      "1635/1635 [==============================] - 14s 9ms/step - loss: 0.9980 - cosine_proximity: 0.0240\n",
      "Epoch 33/50\n",
      "1635/1635 [==============================] - 14s 9ms/step - loss: 0.9981 - cosine_proximity: 0.0241\n",
      "Epoch 34/50\n",
      "1635/1635 [==============================] - 15s 9ms/step - loss: 0.9976 - cosine_proximity: 0.0265\n",
      "Epoch 35/50\n",
      "1635/1635 [==============================] - 15s 9ms/step - loss: 0.9981 - cosine_proximity: 0.0237\n",
      "Epoch 36/50\n",
      "1635/1635 [==============================] - 15s 9ms/step - loss: 0.9978 - cosine_proximity: 0.0251\n",
      "Epoch 37/50\n",
      "1635/1635 [==============================] - 14s 9ms/step - loss: 0.9980 - cosine_proximity: 0.0218\n",
      "Epoch 38/50\n",
      "1635/1635 [==============================] - 14s 9ms/step - loss: 0.9981 - cosine_proximity: 0.0216\n",
      "Epoch 39/50\n",
      "1635/1635 [==============================] - 14s 9ms/step - loss: 0.9979 - cosine_proximity: 0.0193\n",
      "Epoch 40/50\n",
      "1635/1635 [==============================] - 15s 9ms/step - loss: 0.9981 - cosine_proximity: 0.0254\n",
      "Epoch 41/50\n",
      "1635/1635 [==============================] - 15s 9ms/step - loss: 0.9977 - cosine_proximity: 0.0254\n",
      "Epoch 42/50\n",
      "1635/1635 [==============================] - 15s 9ms/step - loss: 0.9978 - cosine_proximity: 0.0292\n",
      "Epoch 43/50\n",
      "1635/1635 [==============================] - 15s 9ms/step - loss: 0.9979 - cosine_proximity: 0.0254\n",
      "Epoch 44/50\n",
      "1635/1635 [==============================] - 15s 9ms/step - loss: 0.9980 - cosine_proximity: 0.0209\n",
      "Epoch 45/50\n",
      "1635/1635 [==============================] - 15s 9ms/step - loss: 0.9978 - cosine_proximity: 0.0239\n",
      "Epoch 46/50\n",
      "1635/1635 [==============================] - 15s 9ms/step - loss: 0.9979 - cosine_proximity: 0.0274\n",
      "Epoch 47/50\n",
      "1635/1635 [==============================] - 15s 9ms/step - loss: 0.9978 - cosine_proximity: 0.0241\n",
      "Epoch 48/50\n",
      "1635/1635 [==============================] - 14s 9ms/step - loss: 0.9980 - cosine_proximity: 0.0238\n",
      "Epoch 49/50\n",
      "1635/1635 [==============================] - 14s 9ms/step - loss: 0.9977 - cosine_proximity: 0.0241\n",
      "Epoch 50/50\n",
      "1635/1635 [==============================] - 14s 9ms/step - loss: 0.9978 - cosine_proximity: 0.0267\n"
     ]
    },
    {
     "data": {
      "text/plain": [
       "<keras.callbacks.History at 0x7f77ed8e0610>"
      ]
     },
     "execution_count": 75,
     "metadata": {},
     "output_type": "execute_result"
    }
   ],
   "source": [
    "from keras.models import Sequential\n",
    "from keras.layers import Dense\n",
    " \n",
    "# create ANN model\n",
    "model = Sequential()\n",
    " \n",
    "# Defining the Input layer and FIRST hidden layer, both are same!\n",
    "model.add(Dense(units=12, input_dim= 4, kernel_initializer='normal', activation='relu'))\n",
    " \n",
    "# Defining the Second layer of the model\n",
    "# after the first layer we don't have to specify input_dim as keras configure it automatically\n",
    "model.add(Dense(units=4, kernel_initializer='normal', activation='relu'))\n",
    " \n",
    "# The output neuron is a single fully connected node \n",
    "# Since we will be predicting a single number\n",
    "model.add(Dense(1, kernel_initializer='normal'))\n",
    " \n",
    "# Compiling the model\n",
    "from sklearn.metrics import r2_score\n",
    "model.compile(loss='mse', optimizer='rmsprop', metrics=['cosine_proximity'], run_eagerly=True)\n",
    "# model.compile(loss='mean_squared_error', optimizer='adam')\n",
    " \n",
    "# Fitting the ANN to the Training set\n",
    "model.fit(x_train, y_train ,batch_size = 60, epochs = 50, verbose=1)"
   ]
  },
  {
   "cell_type": "markdown",
   "id": "13a50212",
   "metadata": {},
   "source": [
    "## cosine proximity is corelation centered arround zero. Actually correlation between x and y is cosine proximity centered arount (x_mean, y_mean)"
   ]
  },
  {
   "cell_type": "markdown",
   "id": "34fcacb3",
   "metadata": {},
   "source": [
    "## Here we create a prediction column in the standarized-train-data and calculate the in-sample correlation coefficient between next_re and its prediction"
   ]
  },
  {
   "cell_type": "code",
   "execution_count": 75,
   "id": "33c673e9",
   "metadata": {},
   "outputs": [
    {
     "data": {
      "text/plain": [
       "0.05242890441386137"
      ]
     },
     "execution_count": 75,
     "metadata": {},
     "output_type": "execute_result"
    }
   ],
   "source": [
    "XY_train_standarized ['basic_train_pred'] =  model.predict(x_train) \n",
    "XY_train_standarized ['basic_train_pred'].corr( XY_train_standarized ['next_ret'] )  "
   ]
  },
  {
   "cell_type": "markdown",
   "id": "b37349fc",
   "metadata": {},
   "source": [
    "## here we do the same for the out-of-sample correlation between next_ret and its prediction"
   ]
  },
  {
   "cell_type": "code",
   "execution_count": 76,
   "id": "8d5aaa7d",
   "metadata": {},
   "outputs": [
    {
     "data": {
      "text/plain": [
       "0.017533535082320743"
      ]
     },
     "execution_count": 76,
     "metadata": {},
     "output_type": "execute_result"
    }
   ],
   "source": [
    "XY_test_standarized ['basic_test_pred'] =  model.predict(x_test) \n",
    "XY_test_standarized ['basic_test_pred'].corr( XY_test_standarized ['next_ret'] ) "
   ]
  },
  {
   "cell_type": "markdown",
   "id": "9f9e4869",
   "metadata": {},
   "source": [
    "## it lokas like ANN delivers better out-of-sample results without having to include the manual interactions in the inputs. ANN took care of the interactions itself\n",
    " # with more epochs, we are likely to get better results"
   ]
  },
  {
   "cell_type": "markdown",
   "id": "6c02fa69",
   "metadata": {},
   "source": [
    "## What if we specify interaction variables in the input ? \n",
    " # Can we further enhance the performance?"
   ]
  },
  {
   "cell_type": "code",
   "execution_count": 77,
   "id": "14148fac",
   "metadata": {},
   "outputs": [
    {
     "name": "stdout",
     "output_type": "stream",
     "text": [
      "Index(['ret', 'spy_ret', 'etf_ret', 'volume', 'standaized_volume',\n",
      "       'log_volume', 'volume*ret', 'ret_q90', 'ret_q10'],\n",
      "      dtype='object')\n"
     ]
    }
   ],
   "source": [
    "print( vrs[5:] )"
   ]
  },
  {
   "cell_type": "code",
   "execution_count": 78,
   "id": "cff7c7e3",
   "metadata": {},
   "outputs": [
    {
     "data": {
      "text/plain": [
       "Index(['const', 'ret', 'spy_ret', 'etf_ret', 'volume', 'standaized_volume',\n",
       "       'log_volume', 'volume*ret', 'ret_q90', 'ret_q10'],\n",
       "      dtype='object')"
      ]
     },
     "execution_count": 78,
     "metadata": {},
     "output_type": "execute_result"
    }
   ],
   "source": [
    "X_train_standarized.columns"
   ]
  },
  {
   "cell_type": "code",
   "execution_count": null,
   "id": "a1d2b2df",
   "metadata": {},
   "outputs": [],
   "source": []
  },
  {
   "cell_type": "code",
   "execution_count": 110,
   "id": "7aedfd03",
   "metadata": {},
   "outputs": [
    {
     "name": "stdout",
     "output_type": "stream",
     "text": [
      "(98073, 9) (42055, 9) (98073,) (42055,)\n"
     ]
    }
   ],
   "source": [
    "ann_columns = vrs[5:]\n",
    "x_train = X_train_standarized[ann_columns]\n",
    "x_test = X_test_standarized[ann_columns]\n",
    "y_train = XY_train_standarized['next_ret']\n",
    "y_test = XY_test_standarized['next_ret']\n",
    "print (x_train.shape, x_test.shape , y_train.shape , y_test.shape )"
   ]
  },
  {
   "cell_type": "code",
   "execution_count": 111,
   "id": "0630bf18",
   "metadata": {},
   "outputs": [
    {
     "name": "stdout",
     "output_type": "stream",
     "text": [
      "Epoch 1/50\n",
      "3065/3065 [==============================] - 27s 9ms/step - loss: 1.0001 - cosine_proximity: 0.0095\n",
      "Epoch 2/50\n",
      "3065/3065 [==============================] - 27s 9ms/step - loss: 0.9996 - cosine_proximity: 0.0149\n",
      "Epoch 3/50\n",
      "3065/3065 [==============================] - 27s 9ms/step - loss: 0.9996 - cosine_proximity: 0.0208\n",
      "Epoch 4/50\n",
      "3065/3065 [==============================] - 27s 9ms/step - loss: 0.9994 - cosine_proximity: 0.0201\n",
      "Epoch 5/50\n",
      "3065/3065 [==============================] - 27s 9ms/step - loss: 0.9993 - cosine_proximity: 0.0228\n",
      "Epoch 6/50\n",
      "3065/3065 [==============================] - 27s 9ms/step - loss: 0.9992 - cosine_proximity: 0.0218\n",
      "Epoch 7/50\n",
      "3065/3065 [==============================] - 27s 9ms/step - loss: 0.9993 - cosine_proximity: 0.0202\n",
      "Epoch 8/50\n",
      "3065/3065 [==============================] - 29s 9ms/step - loss: 0.9991 - cosine_proximity: 0.0240\n",
      "Epoch 9/50\n",
      "3065/3065 [==============================] - 27s 9ms/step - loss: 0.9993 - cosine_proximity: 0.0239\n",
      "Epoch 10/50\n",
      "3065/3065 [==============================] - 27s 9ms/step - loss: 0.9992 - cosine_proximity: 0.0246\n",
      "Epoch 11/50\n",
      "3065/3065 [==============================] - 27s 9ms/step - loss: 0.9992 - cosine_proximity: 0.0233\n",
      "Epoch 12/50\n",
      "3065/3065 [==============================] - 28s 9ms/step - loss: 0.9992 - cosine_proximity: 0.0240\n",
      "Epoch 13/50\n",
      "3065/3065 [==============================] - 28s 9ms/step - loss: 0.9988 - cosine_proximity: 0.0241\n",
      "Epoch 14/50\n",
      "3065/3065 [==============================] - 28s 9ms/step - loss: 0.9990 - cosine_proximity: 0.0240\n",
      "Epoch 15/50\n",
      "3065/3065 [==============================] - 27s 9ms/step - loss: 0.9989 - cosine_proximity: 0.0240\n",
      "Epoch 16/50\n",
      "3065/3065 [==============================] - 27s 9ms/step - loss: 0.9988 - cosine_proximity: 0.0228\n",
      "Epoch 17/50\n",
      "3065/3065 [==============================] - 27s 9ms/step - loss: 0.9990 - cosine_proximity: 0.0269\n",
      "Epoch 18/50\n",
      "3065/3065 [==============================] - 27s 9ms/step - loss: 0.9987 - cosine_proximity: 0.0197\n",
      "Epoch 19/50\n",
      "3065/3065 [==============================] - 27s 9ms/step - loss: 0.9988 - cosine_proximity: 0.0239\n",
      "Epoch 20/50\n",
      "3065/3065 [==============================] - 27s 9ms/step - loss: 0.9985 - cosine_proximity: 0.0251\n",
      "Epoch 21/50\n",
      "3065/3065 [==============================] - 29s 10ms/step - loss: 0.9988 - cosine_proximity: 0.0233\n",
      "Epoch 22/50\n",
      "3065/3065 [==============================] - 27s 9ms/step - loss: 0.9986 - cosine_proximity: 0.0275\n",
      "Epoch 23/50\n",
      "3065/3065 [==============================] - 126s 41ms/step - loss: 0.9987 - cosine_proximity: 0.0267\n",
      "Epoch 24/50\n",
      "3065/3065 [==============================] - 744s 243ms/step - loss: 0.9987 - cosine_proximity: 0.0235\n",
      "Epoch 25/50\n",
      "3065/3065 [==============================] - 155s 51ms/step - loss: 0.9988 - cosine_proximity: 0.0219\n",
      "Epoch 26/50\n",
      "3065/3065 [==============================] - 58s 19ms/step - loss: 0.9985 - cosine_proximity: 0.0258\n",
      "Epoch 27/50\n",
      "3065/3065 [==============================] - 85s 28ms/step - loss: 0.9983 - cosine_proximity: 0.0268\n",
      "Epoch 28/50\n",
      "3065/3065 [==============================] - 295s 96ms/step - loss: 0.9982 - cosine_proximity: 0.0290\n",
      "Epoch 29/50\n",
      "3065/3065 [==============================] - 961s 314ms/step - loss: 0.9987 - cosine_proximity: 0.0263\n",
      "Epoch 30/50\n",
      "3065/3065 [==============================] - 625s 204ms/step - loss: 0.9982 - cosine_proximity: 0.0256\n",
      "Epoch 31/50\n",
      "3065/3065 [==============================] - 266s 87ms/step - loss: 0.9975 - cosine_proximity: 0.0255\n",
      "Epoch 32/50\n",
      "3065/3065 [==============================] - 112s 37ms/step - loss: 0.9985 - cosine_proximity: 0.0271\n",
      "Epoch 33/50\n",
      "3065/3065 [==============================] - 94s 31ms/step - loss: 0.9982 - cosine_proximity: 0.0243\n",
      "Epoch 34/50\n",
      "3065/3065 [==============================] - 385s 126ms/step - loss: 0.9980 - cosine_proximity: 0.0237\n",
      "Epoch 35/50\n",
      "3065/3065 [==============================] - 491s 160ms/step - loss: 0.9985 - cosine_proximity: 0.0236\n",
      "Epoch 36/50\n",
      "3065/3065 [==============================] - 308s 101ms/step - loss: 0.9984 - cosine_proximity: 0.0275\n",
      "Epoch 37/50\n",
      "3065/3065 [==============================] - 60s 20ms/step - loss: 0.9985 - cosine_proximity: 0.0263\n",
      "Epoch 38/50\n",
      "3065/3065 [==============================] - 57s 19ms/step - loss: 0.9981 - cosine_proximity: 0.0248\n",
      "Epoch 39/50\n",
      "3065/3065 [==============================] - 264s 86ms/step - loss: 0.9984 - cosine_proximity: 0.0262\n",
      "Epoch 40/50\n",
      "3065/3065 [==============================] - 52s 17ms/step - loss: 0.9981 - cosine_proximity: 0.0246\n",
      "Epoch 41/50\n",
      "3065/3065 [==============================] - 31s 10ms/step - loss: 0.9981 - cosine_proximity: 0.0259\n",
      "Epoch 42/50\n",
      "3065/3065 [==============================] - 30s 10ms/step - loss: 0.9979 - cosine_proximity: 0.0295\n",
      "Epoch 43/50\n",
      "3065/3065 [==============================] - 31s 10ms/step - loss: 0.9981 - cosine_proximity: 0.0258\n",
      "Epoch 44/50\n",
      "3065/3065 [==============================] - 28s 9ms/step - loss: 0.9984 - cosine_proximity: 0.0254\n",
      "Epoch 45/50\n",
      "3065/3065 [==============================] - 27s 9ms/step - loss: 0.9982 - cosine_proximity: 0.0244\n",
      "Epoch 46/50\n",
      "3065/3065 [==============================] - 27s 9ms/step - loss: 0.9980 - cosine_proximity: 0.0267\n",
      "Epoch 47/50\n",
      "3065/3065 [==============================] - 27s 9ms/step - loss: 0.9981 - cosine_proximity: 0.0259\n",
      "Epoch 48/50\n",
      "3065/3065 [==============================] - 28s 9ms/step - loss: 0.9981 - cosine_proximity: 0.0271\n",
      "Epoch 49/50\n",
      "3065/3065 [==============================] - 28s 9ms/step - loss: 0.9984 - cosine_proximity: 0.0219\n",
      "Epoch 50/50\n",
      "3065/3065 [==============================] - 28s 9ms/step - loss: 0.9986 - cosine_proximity: 0.0260\n"
     ]
    }
   ],
   "source": [
    "model = Sequential()\n",
    "\n",
    "model.add(Dense(units=12, input_dim= 9, kernel_initializer='normal', activation='relu'))\n",
    "\n",
    "model.add(Dense(units=4, kernel_initializer='normal', activation='relu'))\n",
    "\n",
    "model.add(Dense(1, kernel_initializer='normal'))\n",
    "\n",
    "model.compile(loss='mse', optimizer='rmsprop', metrics=['cosine_proximity'], run_eagerly=True)\n",
    "history = model.fit(x_train, y_train ,batch_size = 32, epochs = 50, verbose=1)"
   ]
  },
  {
   "cell_type": "code",
   "execution_count": 112,
   "id": "bede1d28",
   "metadata": {},
   "outputs": [
    {
     "name": "stdout",
     "output_type": "stream",
     "text": [
      "{'verbose': 1, 'epochs': 50, 'steps': 3065}\n"
     ]
    }
   ],
   "source": [
    "print(history.params)"
   ]
  },
  {
   "cell_type": "code",
   "execution_count": 113,
   "id": "c53e61c3",
   "metadata": {},
   "outputs": [
    {
     "name": "stdout",
     "output_type": "stream",
     "text": [
      "dict_keys(['loss', 'cosine_proximity'])\n"
     ]
    }
   ],
   "source": [
    "print(history.history.keys())"
   ]
  },
  {
   "cell_type": "code",
   "execution_count": 117,
   "id": "9d3700b1",
   "metadata": {},
   "outputs": [],
   "source": [
    " ann0_cosine_proxinity = history.history['cosine_proximity']"
   ]
  },
  {
   "cell_type": "code",
   "execution_count": 118,
   "id": "91d93732",
   "metadata": {},
   "outputs": [
    {
     "data": {
      "text/plain": [
       "[<matplotlib.lines.Line2D at 0x7f77e2ddd700>]"
      ]
     },
     "execution_count": 118,
     "metadata": {},
     "output_type": "execute_result"
    },
    {
     "data": {
      "image/png": "[encoded data removed]",
      "text/plain": [
       "<Figure size 640x480 with 1 Axes>"
      ]
     },
     "metadata": {},
     "output_type": "display_data"
    }
   ],
   "source": [
    "plt.plot(ann0_cosine_proxinity)"
   ]
  },
  {
   "cell_type": "code",
   "execution_count": 119,
   "id": "51c6537e",
   "metadata": {},
   "outputs": [
    {
     "data": {
      "text/plain": [
       "0.05263228755527898"
      ]
     },
     "execution_count": 119,
     "metadata": {},
     "output_type": "execute_result"
    }
   ],
   "source": [
    "XY_train_standarized ['ann_train_pred'] =  model.predict(x_train) \n",
    "XY_train_standarized ['ann_train_pred'].corr( XY_train_standarized ['next_ret'] )  "
   ]
  },
  {
   "cell_type": "code",
   "execution_count": 120,
   "id": "02012326",
   "metadata": {},
   "outputs": [
    {
     "data": {
      "text/plain": [
       "0.012867340362783935"
      ]
     },
     "execution_count": 120,
     "metadata": {},
     "output_type": "execute_result"
    }
   ],
   "source": [
    "XY_test_standarized ['ann_test_pred'] =  model.predict(x_test) \n",
    "XY_test_standarized ['ann_test_pred'].corr( XY_test_standarized ['next_ret'] )  "
   ]
  },
  {
   "cell_type": "markdown",
   "id": "04d598b0",
   "metadata": {},
   "source": [
    "# Two conclusions\n",
    " ## (i) the basic ( with 4 basic inputs)  Sequential ANN model does better than a linear regression that includes the interaction terms ( 9 inputs in total)\n",
    " ## (ii) Adding the interaction variables to the inputs of the Sequential ANN did enhance out-of-sample performance. \n",
    " ## (iii) The discrepancy between in-sample and out-of-sample performance is due to over fitting\n",
    " ## ( iv ) The higher number of neurons the higher is the number of the the estimated parameters. In this model the following describes the number of parameters"
   ]
  },
  {
   "cell_type": "code",
   "execution_count": 98,
   "id": "9b71e4f2",
   "metadata": {},
   "outputs": [
    {
     "name": "stdout",
     "output_type": "stream",
     "text": [
      "Model: \"sequential_7\"\n",
      "_________________________________________________________________\n",
      "Layer (type)                 Output Shape              Param #   \n",
      "=================================================================\n",
      "dense_21 (Dense)             (None, 12)                120       \n",
      "_________________________________________________________________\n",
      "dense_22 (Dense)             (None, 4)                 52        \n",
      "_________________________________________________________________\n",
      "dense_23 (Dense)             (None, 1)                 5         \n",
      "=================================================================\n",
      "Total params: 177\n",
      "Trainable params: 177\n",
      "Non-trainable params: 0\n",
      "_________________________________________________________________\n"
     ]
    }
   ],
   "source": [
    "model.summary()"
   ]
  },
  {
   "cell_type": "markdown",
   "id": "3fa20e02",
   "metadata": {},
   "source": [
    "# The higher is the number of parameters the higher is the risk of overfitting"
   ]
  },
  {
   "cell_type": "markdown",
   "id": "4ca34184",
   "metadata": {},
   "source": [
    "# Sequential Keras Models has a dropout specification which is basically a technique where randomly selected neurons are ignored during training. They are “dropped out” randomly. This means that their contribution to the activation of downstream neurons is temporally removed on the forward pass, and any weight updates are not applied to the neuron on the backward pass.\n"
   ]
  },
  {
   "cell_type": "markdown",
   "id": "ab854e2c",
   "metadata": {},
   "source": [
    "## Here is a model specification with dropout specification"
   ]
  },
  {
   "cell_type": "code",
   "execution_count": 121,
   "id": "71bd670a",
   "metadata": {},
   "outputs": [
    {
     "name": "stdout",
     "output_type": "stream",
     "text": [
      "Epoch 1/50\n",
      "3065/3065 [==============================] - 31s 10ms/step - loss: 1.0001 - cosine_proximity: 0.0091\n",
      "Epoch 2/50\n",
      "3065/3065 [==============================] - 32s 11ms/step - loss: 0.9998 - cosine_proximity: 0.0111\n",
      "Epoch 3/50\n",
      "3065/3065 [==============================] - 32s 11ms/step - loss: 1.0001 - cosine_proximity: 0.0123\n",
      "Epoch 4/50\n",
      "3065/3065 [==============================] - 30s 10ms/step - loss: 1.0000 - cosine_proximity: 0.0132\n",
      "Epoch 5/50\n",
      "3065/3065 [==============================] - 30s 10ms/step - loss: 0.9998 - cosine_proximity: 0.0116\n",
      "Epoch 6/50\n",
      "3065/3065 [==============================] - 30s 10ms/step - loss: 0.9994 - cosine_proximity: 0.0153\n",
      "Epoch 7/50\n",
      "3065/3065 [==============================] - 30s 10ms/step - loss: 0.9999 - cosine_proximity: 0.0098\n",
      "Epoch 8/50\n",
      "3065/3065 [==============================] - 30s 10ms/step - loss: 1.0001 - cosine_proximity: 0.0157\n",
      "Epoch 9/50\n",
      "3065/3065 [==============================] - 31s 10ms/step - loss: 1.0004 - cosine_proximity: 0.0116\n",
      "Epoch 10/50\n",
      "3065/3065 [==============================] - 31s 10ms/step - loss: 1.0002 - cosine_proximity: 0.0128\n",
      "Epoch 11/50\n",
      "3065/3065 [==============================] - 31s 10ms/step - loss: 0.9992 - cosine_proximity: 0.0180\n",
      "Epoch 12/50\n",
      "3065/3065 [==============================] - 31s 10ms/step - loss: 0.9996 - cosine_proximity: 0.0158\n",
      "Epoch 13/50\n",
      "3065/3065 [==============================] - 30s 10ms/step - loss: 0.9996 - cosine_proximity: 0.0197\n",
      "Epoch 14/50\n",
      "3065/3065 [==============================] - 32s 11ms/step - loss: 1.0006 - cosine_proximity: 0.0202\n",
      "Epoch 15/50\n",
      "3065/3065 [==============================] - 32s 11ms/step - loss: 0.9992 - cosine_proximity: 0.0218\n",
      "Epoch 16/50\n",
      "3065/3065 [==============================] - 31s 10ms/step - loss: 0.9999 - cosine_proximity: 0.0154\n",
      "Epoch 17/50\n",
      "3065/3065 [==============================] - 31s 10ms/step - loss: 1.0000 - cosine_proximity: 0.0210\n",
      "Epoch 18/50\n",
      "3065/3065 [==============================] - 30s 10ms/step - loss: 1.0000 - cosine_proximity: 0.0222\n",
      "Epoch 19/50\n",
      "3065/3065 [==============================] - 30s 10ms/step - loss: 0.9996 - cosine_proximity: 0.0209\n",
      "Epoch 20/50\n",
      "3065/3065 [==============================] - 30s 10ms/step - loss: 1.0003 - cosine_proximity: 0.0212\n",
      "Epoch 21/50\n",
      "3065/3065 [==============================] - 30s 10ms/step - loss: 0.9996 - cosine_proximity: 0.0206\n",
      "Epoch 22/50\n",
      "3065/3065 [==============================] - 30s 10ms/step - loss: 0.9998 - cosine_proximity: 0.0208\n",
      "Epoch 23/50\n",
      "3065/3065 [==============================] - 29s 10ms/step - loss: 0.9990 - cosine_proximity: 0.0243\n",
      "Epoch 24/50\n",
      "3065/3065 [==============================] - 29s 10ms/step - loss: 0.9993 - cosine_proximity: 0.0190\n",
      "Epoch 25/50\n",
      "3065/3065 [==============================] - 31s 10ms/step - loss: 0.9998 - cosine_proximity: 0.0244\n",
      "Epoch 26/50\n",
      "3065/3065 [==============================] - 30s 10ms/step - loss: 0.9997 - cosine_proximity: 0.0226\n",
      "Epoch 27/50\n",
      "3065/3065 [==============================] - 30s 10ms/step - loss: 0.9996 - cosine_proximity: 0.0260\n",
      "Epoch 28/50\n",
      "3065/3065 [==============================] - 39s 13ms/step - loss: 0.9996 - cosine_proximity: 0.0253\n",
      "Epoch 29/50\n",
      "3065/3065 [==============================] - 36s 12ms/step - loss: 0.9995 - cosine_proximity: 0.0215\n",
      "Epoch 30/50\n",
      "3065/3065 [==============================] - 30s 10ms/step - loss: 0.9996 - cosine_proximity: 0.0200\n",
      "Epoch 31/50\n",
      "3065/3065 [==============================] - 30s 10ms/step - loss: 0.9998 - cosine_proximity: 0.0214\n",
      "Epoch 32/50\n",
      "3065/3065 [==============================] - 29s 10ms/step - loss: 0.9998 - cosine_proximity: 0.0219\n",
      "Epoch 33/50\n",
      "3065/3065 [==============================] - 30s 10ms/step - loss: 0.9995 - cosine_proximity: 0.0232\n",
      "Epoch 34/50\n",
      "3065/3065 [==============================] - 30s 10ms/step - loss: 0.9997 - cosine_proximity: 0.0241\n",
      "Epoch 35/50\n",
      "3065/3065 [==============================] - 30s 10ms/step - loss: 0.9997 - cosine_proximity: 0.0216\n",
      "Epoch 36/50\n",
      "3065/3065 [==============================] - 30s 10ms/step - loss: 0.9995 - cosine_proximity: 0.0277\n",
      "Epoch 37/50\n",
      "3065/3065 [==============================] - 30s 10ms/step - loss: 0.9999 - cosine_proximity: 0.0219\n",
      "Epoch 38/50\n",
      "3065/3065 [==============================] - 31s 10ms/step - loss: 1.0000 - cosine_proximity: 0.0188\n",
      "Epoch 39/50\n",
      "3065/3065 [==============================] - 30s 10ms/step - loss: 0.9998 - cosine_proximity: 0.0221\n",
      "Epoch 40/50\n",
      "3065/3065 [==============================] - 31s 10ms/step - loss: 0.9996 - cosine_proximity: 0.0236\n",
      "Epoch 41/50\n",
      "3065/3065 [==============================] - 33s 11ms/step - loss: 0.9998 - cosine_proximity: 0.0263\n",
      "Epoch 42/50\n",
      "3065/3065 [==============================] - 34s 11ms/step - loss: 0.9994 - cosine_proximity: 0.0212\n",
      "Epoch 43/50\n",
      "3065/3065 [==============================] - 31s 10ms/step - loss: 0.9997 - cosine_proximity: 0.0256\n",
      "Epoch 44/50\n",
      "3065/3065 [==============================] - 30s 10ms/step - loss: 0.9998 - cosine_proximity: 0.0256\n",
      "Epoch 45/50\n",
      "3065/3065 [==============================] - 30s 10ms/step - loss: 0.9995 - cosine_proximity: 0.0240\n",
      "Epoch 46/50\n",
      "3065/3065 [==============================] - 30s 10ms/step - loss: 0.9990 - cosine_proximity: 0.0236\n",
      "Epoch 47/50\n",
      "3065/3065 [==============================] - 30s 10ms/step - loss: 1.0000 - cosine_proximity: 0.0225\n",
      "Epoch 48/50\n",
      "3065/3065 [==============================] - 30s 10ms/step - loss: 0.9993 - cosine_proximity: 0.0322\n",
      "Epoch 49/50\n",
      "3065/3065 [==============================] - 30s 10ms/step - loss: 0.9999 - cosine_proximity: 0.0208\n",
      "Epoch 50/50\n",
      "3065/3065 [==============================] - 30s 10ms/step - loss: 0.9997 - cosine_proximity: 0.0241\n"
     ]
    }
   ],
   "source": [
    "from keras.layers import Dropout\n",
    "model = Sequential()\n",
    "\n",
    "model.add(Dense(units=24, input_dim= 9, kernel_initializer='normal', activation='relu'))\n",
    "model.add(Dropout(0.5))\n",
    "model.add(Dense(units=8, kernel_initializer='normal', activation='relu'))\n",
    "model.add(Dropout(0.25))\n",
    "model.add(Dense(1, kernel_initializer='normal'))\n",
    "\n",
    "model.compile(loss='mse', optimizer='rmsprop', metrics=['cosine_proximity'], run_eagerly=True)\n",
    "history = model.fit(x_train, y_train ,batch_size = 32, epochs = 50, verbose=1)"
   ]
  },
  {
   "cell_type": "code",
   "execution_count": 122,
   "id": "1b31de1a",
   "metadata": {},
   "outputs": [
    {
     "data": {
      "text/plain": [
       "0.03354466054392664"
      ]
     },
     "execution_count": 122,
     "metadata": {},
     "output_type": "execute_result"
    }
   ],
   "source": [
    "XY_train_standarized ['ann_train_pred_dropout'] =  model.predict(x_train) \n",
    "XY_train_standarized ['ann_train_pred_dropout'].corr( XY_train_standarized ['next_ret'] )  "
   ]
  },
  {
   "cell_type": "code",
   "execution_count": 123,
   "id": "1dcc0431",
   "metadata": {},
   "outputs": [
    {
     "data": {
      "text/plain": [
       "0.01648249890964182"
      ]
     },
     "execution_count": 123,
     "metadata": {},
     "output_type": "execute_result"
    }
   ],
   "source": [
    "XY_test_standarized ['ann_test_pred_dropout'] =  model.predict(x_test) \n",
    "XY_test_standarized ['ann_test_pred_dropout'].corr( XY_test_standarized ['next_ret'] )  "
   ]
  },
  {
   "cell_type": "markdown",
   "id": "c3665109",
   "metadata": {},
   "source": [
    "# Notice how the regularization of the NN-- using droput , enhances the out-of-sample performance. On the other hand, the in-sample performance is lower.\n",
    " # However, the purpose is to have better out-of-sample performance"
   ]
  },
  {
   "cell_type": "code",
   "execution_count": null,
   "id": "2c84ca23",
   "metadata": {},
   "outputs": [],
   "source": []
  },
  {
   "cell_type": "markdown",
   "id": "c9692fbc",
   "metadata": {},
   "source": [
    "## Another conclusion here. Adding the additional manual features was not helpful"
   ]
  },
  {
   "cell_type": "code",
   "execution_count": null,
   "id": "c8d8e31d",
   "metadata": {},
   "outputs": [],
   "source": []
  },
  {
   "cell_type": "code",
   "execution_count": null,
   "id": "dab2f419",
   "metadata": {},
   "outputs": [],
   "source": []
  },
  {
   "cell_type": "markdown",
   "id": "6d40337a",
   "metadata": {},
   "source": [
    "## Exploring all variables in the data"
   ]
  },
  {
   "cell_type": "code",
   "execution_count": 279,
   "id": "3709b40f",
   "metadata": {},
   "outputs": [
    {
     "data": {
      "text/plain": [
       "Index(['symbol', 'etf', 'day', 'time', 'high', 'low', 'next_ret', 'ret',\n",
       "       'prev1_ret', 'prev2_ret', 'prev3_ret', 'prev4_ret', 'volume', 'mflow1',\n",
       "       'mflow2', 'mflow3', 'mflow4', 'spy_high', 'spy_low', 'spy_next_ret',\n",
       "       'spy_ret', 'spy_prev1_ret', 'spy_prev2_ret', 'spy_prev3_ret',\n",
       "       'spy_prev4_ret', 'spy_volume', 'spy_mflow1', 'spy_mflow2', 'spy_mflow3',\n",
       "       'spy_mflow4', 'etf_high', 'etf_low', 'etf_next_ret', 'etf_ret',\n",
       "       'etf_prev1_ret', 'etf_prev2_ret', 'etf_prev3_ret', 'etf_prev4_ret',\n",
       "       'etf_volume', 'etf_mflow1', 'etf_mflow2', 'etf_mflow3', 'etf_mflow4',\n",
       "       'standaized_volume', 'log_volume', 'ret_q90', 'ret_q10',\n",
       "       'relu_ret - q90', 'r-act', 'volume*ret'],\n",
       "      dtype='object')"
      ]
     },
     "execution_count": 279,
     "metadata": {},
     "output_type": "execute_result"
    }
   ],
   "source": [
    "syms.columns"
   ]
  },
  {
   "cell_type": "code",
   "execution_count": 315,
   "id": "9be3b99d",
   "metadata": {},
   "outputs": [],
   "source": [
    "vrs_all = vrs_all = ['symbol', 'etf', 'day', 'time', 'next_ret',\n",
    "           'ret', 'prev1_ret', 'prev2_ret', 'prev3_ret', 'prev4_ret', \n",
    "           'volume', 'mflow1', 'mflow2', 'mflow3', 'mflow4', \n",
    "           'spy_ret', 'spy_prev3_ret', 'spy_prev4_ret', \n",
    "           'spy_volume', 'spy_mflow1', 'spy_mflow2', 'spy_mflow3', 'spy_mflow4',\n",
    "           'etf_ret', 'etf_prev1_ret', 'etf_prev2_ret', 'etf_prev3_ret', 'etf_prev4_ret',\n",
    "           'etf_volume', 'etf_mflow1', 'etf_mflow2', 'etf_mflow3', 'etf_mflow4',\n",
    "           'log_volume', 'ret_q90', 'ret_q10' ,  'volume*ret']"
   ]
  },
  {
   "cell_type": "code",
   "execution_count": 316,
   "id": "f7db73a1",
   "metadata": {},
   "outputs": [
    {
     "data": {
      "text/plain": [
       "(141917, 50)"
      ]
     },
     "execution_count": 316,
     "metadata": {},
     "output_type": "execute_result"
    }
   ],
   "source": [
    "syms.shape"
   ]
  },
  {
   "cell_type": "code",
   "execution_count": 321,
   "id": "c6edfb01",
   "metadata": {},
   "outputs": [
    {
     "name": "stdout",
     "output_type": "stream",
     "text": [
      "['ret', 'prev1_ret', 'prev2_ret', 'prev3_ret', 'prev4_ret', 'volume', 'mflow1', 'mflow2', 'mflow3', 'mflow4', 'spy_ret', 'spy_prev3_ret', 'spy_prev4_ret', 'spy_volume', 'spy_mflow1', 'spy_mflow2', 'spy_mflow3', 'spy_mflow4', 'etf_ret', 'etf_prev1_ret', 'etf_prev2_ret', 'etf_prev3_ret', 'etf_prev4_ret', 'etf_volume', 'etf_mflow1', 'etf_mflow2', 'etf_mflow3', 'etf_mflow4', 'log_volume', 'ret_q90', 'ret_q10', 'volume*ret']\n"
     ]
    },
    {
     "data": {
      "text/plain": [
       "32"
      ]
     },
     "execution_count": 321,
     "metadata": {},
     "output_type": "execute_result"
    }
   ],
   "source": [
    "print( vrs_all[5:] )\n",
    "len(vrs_all[5:] )"
   ]
  },
  {
   "cell_type": "code",
   "execution_count": 327,
   "id": "3a5a5dbc",
   "metadata": {},
   "outputs": [
    {
     "data": {
      "text/html": [
       "<table class=\"simpletable\">\n",
       "<caption>OLS Regression Results</caption>\n",
       "<tr>\n",
       "  <th>Dep. Variable:</th>        <td>next_ret</td>     <th>  R-squared:         </th>  <td>   0.002</td> \n",
       "</tr>\n",
       "<tr>\n",
       "  <th>Model:</th>                   <td>OLS</td>       <th>  Adj. R-squared:    </th>  <td>   0.002</td> \n",
       "</tr>\n",
       "<tr>\n",
       "  <th>Method:</th>             <td>Least Squares</td>  <th>  F-statistic:       </th>  <td>   9.973</td> \n",
       "</tr>\n",
       "<tr>\n",
       "  <th>Date:</th>             <td>Fri, 30 Jun 2023</td> <th>  Prob (F-statistic):</th>  <td>5.45e-49</td> \n",
       "</tr>\n",
       "<tr>\n",
       "  <th>Time:</th>                 <td>19:11:25</td>     <th>  Log-Likelihood:    </th> <td>6.8719e+05</td>\n",
       "</tr>\n",
       "<tr>\n",
       "  <th>No. Observations:</th>      <td>132842</td>      <th>  AIC:               </th> <td>-1.374e+06</td>\n",
       "</tr>\n",
       "<tr>\n",
       "  <th>Df Residuals:</th>          <td>132809</td>      <th>  BIC:               </th> <td>-1.374e+06</td>\n",
       "</tr>\n",
       "<tr>\n",
       "  <th>Df Model:</th>              <td>    32</td>      <th>                     </th>      <td> </td>    \n",
       "</tr>\n",
       "<tr>\n",
       "  <th>Covariance Type:</th>      <td>nonrobust</td>    <th>                     </th>      <td> </td>    \n",
       "</tr>\n",
       "</table>\n",
       "<table class=\"simpletable\">\n",
       "<tr>\n",
       "        <td></td>           <th>coef</th>     <th>std err</th>      <th>t</th>      <th>P>|t|</th>  <th>[0.025</th>    <th>0.975]</th>  \n",
       "</tr>\n",
       "<tr>\n",
       "  <th>const</th>         <td> -5.26e-05</td> <td>    7e-05</td> <td>   -0.752</td> <td> 0.452</td> <td>   -0.000</td> <td> 8.46e-05</td>\n",
       "</tr>\n",
       "<tr>\n",
       "  <th>ret</th>           <td>   -0.0271</td> <td>    0.005</td> <td>   -5.368</td> <td> 0.000</td> <td>   -0.037</td> <td>   -0.017</td>\n",
       "</tr>\n",
       "<tr>\n",
       "  <th>prev1_ret</th>     <td>   -0.0052</td> <td>    0.004</td> <td>   -1.322</td> <td> 0.186</td> <td>   -0.013</td> <td>    0.003</td>\n",
       "</tr>\n",
       "<tr>\n",
       "  <th>prev2_ret</th>     <td>    0.0074</td> <td>    0.004</td> <td>    1.939</td> <td> 0.052</td> <td>-7.98e-05</td> <td>    0.015</td>\n",
       "</tr>\n",
       "<tr>\n",
       "  <th>prev3_ret</th>     <td>   -0.0065</td> <td>    0.004</td> <td>   -1.761</td> <td> 0.078</td> <td>   -0.014</td> <td>    0.001</td>\n",
       "</tr>\n",
       "<tr>\n",
       "  <th>prev4_ret</th>     <td>    0.0177</td> <td>    0.003</td> <td>    5.394</td> <td> 0.000</td> <td>    0.011</td> <td>    0.024</td>\n",
       "</tr>\n",
       "<tr>\n",
       "  <th>volume</th>        <td> -1.13e-11</td> <td> 1.75e-11</td> <td>   -0.645</td> <td> 0.519</td> <td>-4.57e-11</td> <td>  2.3e-11</td>\n",
       "</tr>\n",
       "<tr>\n",
       "  <th>mflow1</th>        <td> 1.851e-09</td> <td> 2.94e-09</td> <td>    0.630</td> <td> 0.529</td> <td>-3.91e-09</td> <td> 7.61e-09</td>\n",
       "</tr>\n",
       "<tr>\n",
       "  <th>mflow2</th>        <td>-1.264e-08</td> <td> 2.67e-09</td> <td>   -4.735</td> <td> 0.000</td> <td>-1.79e-08</td> <td>-7.41e-09</td>\n",
       "</tr>\n",
       "<tr>\n",
       "  <th>mflow3</th>        <td> 1.589e-08</td> <td> 2.43e-09</td> <td>    6.534</td> <td> 0.000</td> <td> 1.11e-08</td> <td> 2.07e-08</td>\n",
       "</tr>\n",
       "<tr>\n",
       "  <th>mflow4</th>        <td>-1.035e-08</td> <td> 1.28e-09</td> <td>   -8.083</td> <td> 0.000</td> <td>-1.29e-08</td> <td>-7.84e-09</td>\n",
       "</tr>\n",
       "<tr>\n",
       "  <th>spy_ret</th>       <td>    0.0378</td> <td>    0.008</td> <td>    4.500</td> <td> 0.000</td> <td>    0.021</td> <td>    0.054</td>\n",
       "</tr>\n",
       "<tr>\n",
       "  <th>spy_prev3_ret</th> <td>   -0.0144</td> <td>    0.011</td> <td>   -1.334</td> <td> 0.182</td> <td>   -0.036</td> <td>    0.007</td>\n",
       "</tr>\n",
       "<tr>\n",
       "  <th>spy_prev4_ret</th> <td>    0.0029</td> <td>    0.010</td> <td>    0.278</td> <td> 0.781</td> <td>   -0.017</td> <td>    0.023</td>\n",
       "</tr>\n",
       "<tr>\n",
       "  <th>spy_volume</th>    <td>-3.872e-12</td> <td> 3.94e-12</td> <td>   -0.981</td> <td> 0.326</td> <td>-1.16e-11</td> <td> 3.86e-12</td>\n",
       "</tr>\n",
       "<tr>\n",
       "  <th>spy_mflow1</th>    <td> 1.163e-08</td> <td> 4.68e-09</td> <td>    2.483</td> <td> 0.013</td> <td> 2.45e-09</td> <td> 2.08e-08</td>\n",
       "</tr>\n",
       "<tr>\n",
       "  <th>spy_mflow2</th>    <td>   8.1e-09</td> <td> 4.64e-09</td> <td>    1.744</td> <td> 0.081</td> <td>   -1e-09</td> <td> 1.72e-08</td>\n",
       "</tr>\n",
       "<tr>\n",
       "  <th>spy_mflow3</th>    <td> 1.624e-08</td> <td> 6.22e-09</td> <td>    2.610</td> <td> 0.009</td> <td> 4.05e-09</td> <td> 2.84e-08</td>\n",
       "</tr>\n",
       "<tr>\n",
       "  <th>spy_mflow4</th>    <td> -2.46e-08</td> <td> 5.42e-09</td> <td>   -4.538</td> <td> 0.000</td> <td>-3.52e-08</td> <td> -1.4e-08</td>\n",
       "</tr>\n",
       "<tr>\n",
       "  <th>etf_ret</th>       <td>   -0.0303</td> <td>    0.007</td> <td>   -4.509</td> <td> 0.000</td> <td>   -0.043</td> <td>   -0.017</td>\n",
       "</tr>\n",
       "<tr>\n",
       "  <th>etf_prev1_ret</th> <td>   -0.0171</td> <td>    0.006</td> <td>   -2.822</td> <td> 0.005</td> <td>   -0.029</td> <td>   -0.005</td>\n",
       "</tr>\n",
       "<tr>\n",
       "  <th>etf_prev2_ret</th> <td>   -0.0086</td> <td>    0.006</td> <td>   -1.454</td> <td> 0.146</td> <td>   -0.020</td> <td>    0.003</td>\n",
       "</tr>\n",
       "<tr>\n",
       "  <th>etf_prev3_ret</th> <td>   -0.0048</td> <td>    0.006</td> <td>   -0.761</td> <td> 0.446</td> <td>   -0.017</td> <td>    0.008</td>\n",
       "</tr>\n",
       "<tr>\n",
       "  <th>etf_prev4_ret</th> <td>    0.0148</td> <td>    0.006</td> <td>    2.477</td> <td> 0.013</td> <td>    0.003</td> <td>    0.026</td>\n",
       "</tr>\n",
       "<tr>\n",
       "  <th>etf_volume</th>    <td> 9.277e-12</td> <td> 7.78e-12</td> <td>    1.192</td> <td> 0.233</td> <td>-5.98e-12</td> <td> 2.45e-11</td>\n",
       "</tr>\n",
       "<tr>\n",
       "  <th>etf_mflow1</th>    <td>-3.762e-09</td> <td> 7.17e-09</td> <td>   -0.524</td> <td> 0.600</td> <td>-1.78e-08</td> <td> 1.03e-08</td>\n",
       "</tr>\n",
       "<tr>\n",
       "  <th>etf_mflow2</th>    <td>  7.87e-09</td> <td> 7.08e-09</td> <td>    1.112</td> <td> 0.266</td> <td>   -6e-09</td> <td> 2.17e-08</td>\n",
       "</tr>\n",
       "<tr>\n",
       "  <th>etf_mflow3</th>    <td> 3.377e-09</td> <td> 7.05e-09</td> <td>    0.479</td> <td> 0.632</td> <td>-1.04e-08</td> <td> 1.72e-08</td>\n",
       "</tr>\n",
       "<tr>\n",
       "  <th>etf_mflow4</th>    <td>-9.518e-10</td> <td> 6.77e-09</td> <td>   -0.141</td> <td> 0.888</td> <td>-1.42e-08</td> <td> 1.23e-08</td>\n",
       "</tr>\n",
       "<tr>\n",
       "  <th>log_volume</th>    <td> 5.599e-06</td> <td>  6.2e-06</td> <td>    0.903</td> <td> 0.366</td> <td>-6.55e-06</td> <td> 1.77e-05</td>\n",
       "</tr>\n",
       "<tr>\n",
       "  <th>ret_q90</th>       <td>    0.0005</td> <td>    0.013</td> <td>    0.038</td> <td> 0.970</td> <td>   -0.025</td> <td>    0.026</td>\n",
       "</tr>\n",
       "<tr>\n",
       "  <th>ret_q10</th>       <td>    0.0309</td> <td>    0.012</td> <td>    2.577</td> <td> 0.010</td> <td>    0.007</td> <td>    0.054</td>\n",
       "</tr>\n",
       "<tr>\n",
       "  <th>volume*ret</th>    <td> 1.287e-08</td> <td> 3.38e-09</td> <td>    3.806</td> <td> 0.000</td> <td> 6.24e-09</td> <td> 1.95e-08</td>\n",
       "</tr>\n",
       "</table>\n",
       "<table class=\"simpletable\">\n",
       "<tr>\n",
       "  <th>Omnibus:</th>       <td>18712.361</td> <th>  Durbin-Watson:     </th>  <td>   1.596</td> \n",
       "</tr>\n",
       "<tr>\n",
       "  <th>Prob(Omnibus):</th>  <td> 0.000</td>   <th>  Jarque-Bera (JB):  </th> <td>237433.681</td>\n",
       "</tr>\n",
       "<tr>\n",
       "  <th>Skew:</th>           <td>-0.219</td>   <th>  Prob(JB):          </th>  <td>    0.00</td> \n",
       "</tr>\n",
       "<tr>\n",
       "  <th>Kurtosis:</th>       <td> 9.535</td>   <th>  Cond. No.          </th>  <td>5.29e+09</td> \n",
       "</tr>\n",
       "</table><br/><br/>Notes:<br/>[1] Standard Errors assume that the covariance matrix of the errors is correctly specified.<br/>[2] The condition number is large, 5.29e+09. This might indicate that there are<br/>strong multicollinearity or other numerical problems."
      ],
      "text/plain": [
       "<class 'statsmodels.iolib.summary.Summary'>\n",
       "\"\"\"\n",
       "                            OLS Regression Results                            \n",
       "==============================================================================\n",
       "Dep. Variable:               next_ret   R-squared:                       0.002\n",
       "Model:                            OLS   Adj. R-squared:                  0.002\n",
       "Method:                 Least Squares   F-statistic:                     9.973\n",
       "Date:                Fri, 30 Jun 2023   Prob (F-statistic):           5.45e-49\n",
       "Time:                        19:11:25   Log-Likelihood:             6.8719e+05\n",
       "No. Observations:              132842   AIC:                        -1.374e+06\n",
       "Df Residuals:                  132809   BIC:                        -1.374e+06\n",
       "Df Model:                          32                                         \n",
       "Covariance Type:            nonrobust                                         \n",
       "=================================================================================\n",
       "                    coef    std err          t      P>|t|      [0.025      0.975]\n",
       "---------------------------------------------------------------------------------\n",
       "const          -5.26e-05      7e-05     -0.752      0.452      -0.000    8.46e-05\n",
       "ret              -0.0271      0.005     -5.368      0.000      -0.037      -0.017\n",
       "prev1_ret        -0.0052      0.004     -1.322      0.186      -0.013       0.003\n",
       "prev2_ret         0.0074      0.004      1.939      0.052   -7.98e-05       0.015\n",
       "prev3_ret        -0.0065      0.004     -1.761      0.078      -0.014       0.001\n",
       "prev4_ret         0.0177      0.003      5.394      0.000       0.011       0.024\n",
       "volume         -1.13e-11   1.75e-11     -0.645      0.519   -4.57e-11     2.3e-11\n",
       "mflow1         1.851e-09   2.94e-09      0.630      0.529   -3.91e-09    7.61e-09\n",
       "mflow2        -1.264e-08   2.67e-09     -4.735      0.000   -1.79e-08   -7.41e-09\n",
       "mflow3         1.589e-08   2.43e-09      6.534      0.000    1.11e-08    2.07e-08\n",
       "mflow4        -1.035e-08   1.28e-09     -8.083      0.000   -1.29e-08   -7.84e-09\n",
       "spy_ret           0.0378      0.008      4.500      0.000       0.021       0.054\n",
       "spy_prev3_ret    -0.0144      0.011     -1.334      0.182      -0.036       0.007\n",
       "spy_prev4_ret     0.0029      0.010      0.278      0.781      -0.017       0.023\n",
       "spy_volume    -3.872e-12   3.94e-12     -0.981      0.326   -1.16e-11    3.86e-12\n",
       "spy_mflow1     1.163e-08   4.68e-09      2.483      0.013    2.45e-09    2.08e-08\n",
       "spy_mflow2       8.1e-09   4.64e-09      1.744      0.081      -1e-09    1.72e-08\n",
       "spy_mflow3     1.624e-08   6.22e-09      2.610      0.009    4.05e-09    2.84e-08\n",
       "spy_mflow4     -2.46e-08   5.42e-09     -4.538      0.000   -3.52e-08    -1.4e-08\n",
       "etf_ret          -0.0303      0.007     -4.509      0.000      -0.043      -0.017\n",
       "etf_prev1_ret    -0.0171      0.006     -2.822      0.005      -0.029      -0.005\n",
       "etf_prev2_ret    -0.0086      0.006     -1.454      0.146      -0.020       0.003\n",
       "etf_prev3_ret    -0.0048      0.006     -0.761      0.446      -0.017       0.008\n",
       "etf_prev4_ret     0.0148      0.006      2.477      0.013       0.003       0.026\n",
       "etf_volume     9.277e-12   7.78e-12      1.192      0.233   -5.98e-12    2.45e-11\n",
       "etf_mflow1    -3.762e-09   7.17e-09     -0.524      0.600   -1.78e-08    1.03e-08\n",
       "etf_mflow2      7.87e-09   7.08e-09      1.112      0.266      -6e-09    2.17e-08\n",
       "etf_mflow3     3.377e-09   7.05e-09      0.479      0.632   -1.04e-08    1.72e-08\n",
       "etf_mflow4    -9.518e-10   6.77e-09     -0.141      0.888   -1.42e-08    1.23e-08\n",
       "log_volume     5.599e-06    6.2e-06      0.903      0.366   -6.55e-06    1.77e-05\n",
       "ret_q90           0.0005      0.013      0.038      0.970      -0.025       0.026\n",
       "ret_q10           0.0309      0.012      2.577      0.010       0.007       0.054\n",
       "volume*ret     1.287e-08   3.38e-09      3.806      0.000    6.24e-09    1.95e-08\n",
       "==============================================================================\n",
       "Omnibus:                    18712.361   Durbin-Watson:                   1.596\n",
       "Prob(Omnibus):                  0.000   Jarque-Bera (JB):           237433.681\n",
       "Skew:                          -0.219   Prob(JB):                         0.00\n",
       "Kurtosis:                       9.535   Cond. No.                     5.29e+09\n",
       "==============================================================================\n",
       "\n",
       "Notes:\n",
       "[1] Standard Errors assume that the covariance matrix of the errors is correctly specified.\n",
       "[2] The condition number is large, 5.29e+09. This might indicate that there are\n",
       "strong multicollinearity or other numerical problems.\n",
       "\"\"\""
      ]
     },
     "execution_count": 327,
     "metadata": {},
     "output_type": "execute_result"
    }
   ],
   "source": [
    "XY = syms[vrs_all[4:]].dropna()\n",
    "X= XY[vrs_all[5:]]\n",
    "y = XY['next_ret']\n",
    "X = sm.add_constant(X)\n",
    "lm1 = sm.OLS(y, X).fit()\n",
    "lm1.summary()"
   ]
  },
  {
   "cell_type": "code",
   "execution_count": 328,
   "id": "2f0776cf",
   "metadata": {},
   "outputs": [
    {
     "data": {
      "text/plain": [
       "0.04896217584590711"
      ]
     },
     "execution_count": 328,
     "metadata": {},
     "output_type": "execute_result"
    }
   ],
   "source": [
    "np.sqrt( lm1.rsquared )"
   ]
  },
  {
   "cell_type": "code",
   "execution_count": 286,
   "id": "3c2e57e8",
   "metadata": {},
   "outputs": [
    {
     "name": "stdout",
     "output_type": "stream",
     "text": [
      "['symbol', 'etf', 'day', 'time', 'next_ret', 'ret', 'prev1_ret', 'prev2_ret', 'prev3_ret', 'prev4_ret', 'volume', 'mflow1', 'mflow2', 'mflow3', 'mflow4', 'spy_high', 'spy_low', 'spy_ret', 'spy_prev3_ret', 'spy_prev4_ret', 'spy_volume', 'spy_mflow1', 'spy_mflow2', 'spy_mflow3', 'spy_mflow4', 'etf_high', 'etf_low', 'etf_ret', 'etf_prev1_ret', 'etf_prev2_ret', 'etf_prev3_ret', 'etf_prev4_ret', 'etf_volume', 'etf_mflow1', 'etf_mflow2', 'etf_mflow3', 'etf_mflow4', 'log_volume', 'ret_q90', 'ret_q10', 'relu_ret - q90', 'r-act', 'volume*ret']\n"
     ]
    }
   ],
   "source": [
    "print( vrs_all)\n"
   ]
  },
  {
   "cell_type": "markdown",
   "id": "d63c3fdd",
   "metadata": {},
   "source": [
    "## Let us split the data and run the regression"
   ]
  },
  {
   "cell_type": "code",
   "execution_count": 329,
   "id": "f1ed291a",
   "metadata": {},
   "outputs": [],
   "source": [
    "y = syms['next_ret']\n",
    "syms_train, syms_test, y_train, y_test = train_test_split(syms, y, test_size=0.3, random_state= 12345)\n",
    "XY_train = syms_train[vrs_all[4:]].dropna()\n",
    "XY_test = syms_test[vrs_all[4:]].dropna()"
   ]
  },
  {
   "cell_type": "code",
   "execution_count": 330,
   "id": "db766db6",
   "metadata": {},
   "outputs": [
    {
     "name": "stdout",
     "output_type": "stream",
     "text": [
      "33\n",
      "32\n"
     ]
    }
   ],
   "source": [
    "print ( len(vrs_all[4:]) )\n",
    "print ( len(vrs_all[5:]) )"
   ]
  },
  {
   "cell_type": "code",
   "execution_count": 331,
   "id": "92683aaa",
   "metadata": {},
   "outputs": [
    {
     "name": "stdout",
     "output_type": "stream",
     "text": [
      "(93062, 34) (39780, 34)\n",
      "r_train = =  0.05749681036606761\n",
      "r_test    = 0.022957490670309316\n"
     ]
    }
   ],
   "source": [
    "XY_train = syms_train[vrs_all[4:]].dropna()\n",
    "XY_test = syms_test[vrs_all[4:]].dropna()\n",
    "XY_train_standarized = (XY_train - XY_train.mean() )/XY_train.std() \n",
    "XY_test_standarized = (XY_test - XY_train.mean() )/XY_train.std()  # Note we standarize the test data with the \n",
    "X_train_standarized= XY_train_standarized[vrs_all[5:]]\n",
    "X_test_standarized = XY_test_standarized[vrs_all[5:]]\n",
    "y_train_standarized = XY_train_standarized['next_ret']\n",
    "y_test_standarized =   XY_test_standarized['next_ret']\n",
    "\n",
    "y_train = XY_train_standarized['next_ret']\n",
    "y_test = XY_test_standarized['next_ret']\n",
    "\n",
    "X_train_standarized = sm.add_constant(X_train_standarized)\n",
    "X_test_standarized = sm.add_constant(X_test_standarized)\n",
    "lm = sm.OLS(y_train_standarized, X_train_standarized).fit()\n",
    "XY_train['pred'] = lm.predict(X_train_standarized) ## We are creating a prediction column based on standarized columns\n",
    "XY_test['pred'] = lm.predict(X_test_standarized) ## We are creating a prediction column based on standarized columns\n",
    "r_train = XY_train['pred'].corr(XY_train['next_ret'])\n",
    "r_test = XY_test['pred'].corr(XY_test['next_ret'])\n",
    "print(XY_train.shape , XY_test.shape)\n",
    "print(  'r_train = = ' , r_train)\n",
    "print(  'r_test    =' , r_test )\n"
   ]
  },
  {
   "cell_type": "markdown",
   "id": "1164de43",
   "metadata": {},
   "source": [
    "## Note that while prediction is based on standarized variable, we added it as a column in the non-standarized data frames.\n",
    "## It is known correlation between x and y is the same as the correlation beteen a1*x+b1  and a2y+b2.  While the magnitude of the prediction is scaled, we can still use it for identifying trade opportunities. We can also reverse scale it"
   ]
  },
  {
   "cell_type": "markdown",
   "id": "9ebe5080",
   "metadata": {},
   "source": [
    "# We can create a reverse-scaled ( inverted_back)  prediction. Here we create it and calculate a correlation matrix that shows this point"
   ]
  },
  {
   "cell_type": "code",
   "execution_count": 332,
   "id": "bd7147d1",
   "metadata": {},
   "outputs": [
    {
     "data": {
      "text/plain": [
       "Index(['next_ret', 'ret', 'prev1_ret', 'prev2_ret', 'prev3_ret', 'prev4_ret',\n",
       "       'volume', 'mflow1', 'mflow2', 'mflow3', 'mflow4', 'spy_ret',\n",
       "       'spy_prev3_ret', 'spy_prev4_ret', 'spy_volume', 'spy_mflow1',\n",
       "       'spy_mflow2', 'spy_mflow3', 'spy_mflow4', 'etf_ret', 'etf_prev1_ret',\n",
       "       'etf_prev2_ret', 'etf_prev3_ret', 'etf_prev4_ret', 'etf_volume',\n",
       "       'etf_mflow1', 'etf_mflow2', 'etf_mflow3', 'etf_mflow4', 'log_volume',\n",
       "       'ret_q90', 'ret_q10', 'volume*ret', 'pred'],\n",
       "      dtype='object')"
      ]
     },
     "execution_count": 332,
     "metadata": {},
     "output_type": "execute_result"
    }
   ],
   "source": [
    "XY_train.columns"
   ]
  },
  {
   "cell_type": "code",
   "execution_count": 334,
   "id": "a7c77cb4",
   "metadata": {},
   "outputs": [
    {
     "data": {
      "text/html": [
       "<div>\n",
       "<style scoped>\n",
       "    .dataframe tbody tr th:only-of-type {\n",
       "        vertical-align: middle;\n",
       "    }\n",
       "\n",
       "    .dataframe tbody tr th {\n",
       "        vertical-align: top;\n",
       "    }\n",
       "\n",
       "    .dataframe thead th {\n",
       "        text-align: right;\n",
       "    }\n",
       "</style>\n",
       "<table border=\"1\" class=\"dataframe\">\n",
       "  <thead>\n",
       "    <tr style=\"text-align: right;\">\n",
       "      <th></th>\n",
       "      <th>next_ret</th>\n",
       "      <th>ret</th>\n",
       "      <th>prev1_ret</th>\n",
       "      <th>prev2_ret</th>\n",
       "      <th>prev3_ret</th>\n",
       "      <th>prev4_ret</th>\n",
       "      <th>volume</th>\n",
       "      <th>mflow1</th>\n",
       "      <th>mflow2</th>\n",
       "      <th>mflow3</th>\n",
       "      <th>...</th>\n",
       "      <th>etf_mflow1</th>\n",
       "      <th>etf_mflow2</th>\n",
       "      <th>etf_mflow3</th>\n",
       "      <th>etf_mflow4</th>\n",
       "      <th>log_volume</th>\n",
       "      <th>ret_q90</th>\n",
       "      <th>ret_q10</th>\n",
       "      <th>volume*ret</th>\n",
       "      <th>pred</th>\n",
       "      <th>inverted_back_pred</th>\n",
       "    </tr>\n",
       "  </thead>\n",
       "  <tbody>\n",
       "    <tr>\n",
       "      <th>217097</th>\n",
       "      <td>-0.000110</td>\n",
       "      <td>0.000550</td>\n",
       "      <td>0.000991</td>\n",
       "      <td>0.000328</td>\n",
       "      <td>-0.000110</td>\n",
       "      <td>0.000441</td>\n",
       "      <td>26909.000000</td>\n",
       "      <td>36.741958</td>\n",
       "      <td>7.204542</td>\n",
       "      <td>-3.318550</td>\n",
       "      <td>...</td>\n",
       "      <td>17.869431</td>\n",
       "      <td>78.129636</td>\n",
       "      <td>21.992600</td>\n",
       "      <td>32.440759</td>\n",
       "      <td>10.200216</td>\n",
       "      <td>0.000000</td>\n",
       "      <td>0.000000</td>\n",
       "      <td>14.800075</td>\n",
       "      <td>-0.010646</td>\n",
       "      <td>-0.000008</td>\n",
       "    </tr>\n",
       "    <tr>\n",
       "      <th>143188</th>\n",
       "      <td>-0.000778</td>\n",
       "      <td>-0.000111</td>\n",
       "      <td>0.000111</td>\n",
       "      <td>-0.000389</td>\n",
       "      <td>-0.001111</td>\n",
       "      <td>0.000278</td>\n",
       "      <td>23897.000000</td>\n",
       "      <td>1.636466</td>\n",
       "      <td>-6.957167</td>\n",
       "      <td>-37.434984</td>\n",
       "      <td>...</td>\n",
       "      <td>-58.205701</td>\n",
       "      <td>-376.783609</td>\n",
       "      <td>-55.306237</td>\n",
       "      <td>-344.297842</td>\n",
       "      <td>10.081508</td>\n",
       "      <td>0.000000</td>\n",
       "      <td>0.000000</td>\n",
       "      <td>-2.659039</td>\n",
       "      <td>0.008396</td>\n",
       "      <td>0.000018</td>\n",
       "    </tr>\n",
       "  </tbody>\n",
       "</table>\n",
       "<p>2 rows × 35 columns</p>\n",
       "</div>"
      ],
      "text/plain": [
       "        next_ret       ret  prev1_ret  prev2_ret  prev3_ret  prev4_ret  \\\n",
       "217097 -0.000110  0.000550   0.000991   0.000328  -0.000110   0.000441   \n",
       "143188 -0.000778 -0.000111   0.000111  -0.000389  -0.001111   0.000278   \n",
       "\n",
       "             volume    mflow1    mflow2     mflow3  ...  etf_mflow1  \\\n",
       "217097 26909.000000 36.741958  7.204542  -3.318550  ...   17.869431   \n",
       "143188 23897.000000  1.636466 -6.957167 -37.434984  ...  -58.205701   \n",
       "\n",
       "        etf_mflow2  etf_mflow3  etf_mflow4  log_volume  ret_q90  ret_q10  \\\n",
       "217097   78.129636   21.992600   32.440759   10.200216 0.000000 0.000000   \n",
       "143188 -376.783609  -55.306237 -344.297842   10.081508 0.000000 0.000000   \n",
       "\n",
       "        volume*ret      pred  inverted_back_pred  \n",
       "217097   14.800075 -0.010646           -0.000008  \n",
       "143188   -2.659039  0.008396            0.000018  \n",
       "\n",
       "[2 rows x 35 columns]"
      ]
     },
     "execution_count": 334,
     "metadata": {},
     "output_type": "execute_result"
    }
   ],
   "source": [
    "XY_train['inverted_back_pred'] = XY_train['next_ret'].std() * XY_train['pred'] + XY_train['next_ret'].mean() \n",
    "XY_train.head(2)"
   ]
  },
  {
   "cell_type": "code",
   "execution_count": 335,
   "id": "d06462db",
   "metadata": {},
   "outputs": [
    {
     "data": {
      "text/html": [
       "<div>\n",
       "<style scoped>\n",
       "    .dataframe tbody tr th:only-of-type {\n",
       "        vertical-align: middle;\n",
       "    }\n",
       "\n",
       "    .dataframe tbody tr th {\n",
       "        vertical-align: top;\n",
       "    }\n",
       "\n",
       "    .dataframe thead th {\n",
       "        text-align: right;\n",
       "    }\n",
       "</style>\n",
       "<table border=\"1\" class=\"dataframe\">\n",
       "  <thead>\n",
       "    <tr style=\"text-align: right;\">\n",
       "      <th></th>\n",
       "      <th>next_ret</th>\n",
       "      <th>inverted_back_pred</th>\n",
       "      <th>pred</th>\n",
       "    </tr>\n",
       "  </thead>\n",
       "  <tbody>\n",
       "    <tr>\n",
       "      <th>mean</th>\n",
       "      <td>0.000006</td>\n",
       "      <td>0.000006</td>\n",
       "      <td>0.000000</td>\n",
       "    </tr>\n",
       "    <tr>\n",
       "      <th>std</th>\n",
       "      <td>0.001374</td>\n",
       "      <td>0.000079</td>\n",
       "      <td>0.057497</td>\n",
       "    </tr>\n",
       "  </tbody>\n",
       "</table>\n",
       "</div>"
      ],
      "text/plain": [
       "      next_ret  inverted_back_pred     pred\n",
       "mean  0.000006            0.000006 0.000000\n",
       "std   0.001374            0.000079 0.057497"
      ]
     },
     "execution_count": 335,
     "metadata": {},
     "output_type": "execute_result"
    }
   ],
   "source": [
    "XY_train[[ 'next_ret','inverted_back_pred' , 'pred']].agg(['mean', 'std'])"
   ]
  },
  {
   "cell_type": "code",
   "execution_count": 336,
   "id": "e2354587",
   "metadata": {},
   "outputs": [
    {
     "data": {
      "text/html": [
       "<div>\n",
       "<style scoped>\n",
       "    .dataframe tbody tr th:only-of-type {\n",
       "        vertical-align: middle;\n",
       "    }\n",
       "\n",
       "    .dataframe tbody tr th {\n",
       "        vertical-align: top;\n",
       "    }\n",
       "\n",
       "    .dataframe thead th {\n",
       "        text-align: right;\n",
       "    }\n",
       "</style>\n",
       "<table border=\"1\" class=\"dataframe\">\n",
       "  <thead>\n",
       "    <tr style=\"text-align: right;\">\n",
       "      <th></th>\n",
       "      <th>next_ret</th>\n",
       "      <th>inverted_back_pred</th>\n",
       "      <th>pred</th>\n",
       "    </tr>\n",
       "  </thead>\n",
       "  <tbody>\n",
       "    <tr>\n",
       "      <th>next_ret</th>\n",
       "      <td>1.000000</td>\n",
       "      <td>0.057497</td>\n",
       "      <td>0.057497</td>\n",
       "    </tr>\n",
       "    <tr>\n",
       "      <th>inverted_back_pred</th>\n",
       "      <td>0.057497</td>\n",
       "      <td>1.000000</td>\n",
       "      <td>1.000000</td>\n",
       "    </tr>\n",
       "    <tr>\n",
       "      <th>pred</th>\n",
       "      <td>0.057497</td>\n",
       "      <td>1.000000</td>\n",
       "      <td>1.000000</td>\n",
       "    </tr>\n",
       "  </tbody>\n",
       "</table>\n",
       "</div>"
      ],
      "text/plain": [
       "                    next_ret  inverted_back_pred     pred\n",
       "next_ret            1.000000            0.057497 0.057497\n",
       "inverted_back_pred  0.057497            1.000000 1.000000\n",
       "pred                0.057497            1.000000 1.000000"
      ]
     },
     "execution_count": 336,
     "metadata": {},
     "output_type": "execute_result"
    }
   ],
   "source": [
    "XY_train[[ 'next_ret','inverted_back_pred' , 'pred']].corr()"
   ]
  },
  {
   "cell_type": "markdown",
   "id": "f72964bb",
   "metadata": {},
   "source": [
    "## The results here  provides imprtovement over the earlier 9-independent variables regression model that used only current information. \n",
    "\n",
    " # The variables here capture information that goes back four 5-minutes periods.  \n",
    " \n",
    " # It captures past returns and past money flow.\n",
    "# money-flow is defined here as return times volume. It is actually interaction of volume and returns for the symbol, its etf and spy\n",
    "\n",
    "# A more accurate definition for money flow is price change times volume. Here it is volume times percentage price changes (i.e. return)"
   ]
  },
  {
   "cell_type": "code",
   "execution_count": 337,
   "id": "4ad0d68a",
   "metadata": {},
   "outputs": [
    {
     "name": "stdout",
     "output_type": "stream",
     "text": [
      "Index(['const', 'ret', 'prev1_ret', 'prev2_ret', 'prev3_ret', 'prev4_ret',\n",
      "       'volume', 'mflow1', 'mflow2', 'mflow3', 'mflow4', 'spy_ret',\n",
      "       'spy_prev3_ret', 'spy_prev4_ret', 'spy_volume', 'spy_mflow1',\n",
      "       'spy_mflow2', 'spy_mflow3', 'spy_mflow4', 'etf_ret', 'etf_prev1_ret',\n",
      "       'etf_prev2_ret', 'etf_prev3_ret', 'etf_prev4_ret', 'etf_volume',\n",
      "       'etf_mflow1', 'etf_mflow2', 'etf_mflow3', 'etf_mflow4', 'log_volume',\n",
      "       'ret_q90', 'ret_q10', 'volume*ret'],\n",
      "      dtype='object')\n",
      "(93062, 33)\n"
     ]
    }
   ],
   "source": [
    "print(X_train_standarized.columns)\n",
    "print ( X_train_standarized.shape )"
   ]
  },
  {
   "cell_type": "code",
   "execution_count": null,
   "id": "15ced29a",
   "metadata": {},
   "outputs": [],
   "source": []
  },
  {
   "cell_type": "markdown",
   "id": "1dd57d26",
   "metadata": {},
   "source": [
    "## It looks like the correlation between next_ret and its prediction is relatively weak.\n",
    " # Does that mean it is useless?\n",
    " # Let us find out"
   ]
  },
  {
   "cell_type": "markdown",
   "id": "b56122de",
   "metadata": {},
   "source": [
    "## here we rename data frames"
   ]
  },
  {
   "cell_type": "code",
   "execution_count": 297,
   "id": "408a1980",
   "metadata": {},
   "outputs": [
    {
     "data": {
      "text/plain": [
       "Index(['next_ret', 'ret', 'prev1_ret', 'prev2_ret', 'prev3_ret', 'prev4_ret',\n",
       "       'volume', 'mflow1', 'mflow2', 'mflow3', 'mflow4', 'spy_high', 'spy_low',\n",
       "       'spy_ret', 'spy_prev3_ret', 'spy_prev4_ret', 'spy_volume', 'spy_mflow1',\n",
       "       'spy_mflow2', 'spy_mflow3', 'spy_mflow4', 'etf_high', 'etf_low',\n",
       "       'etf_ret', 'etf_prev1_ret', 'etf_prev2_ret', 'etf_prev3_ret',\n",
       "       'etf_prev4_ret', 'etf_volume', 'etf_mflow1', 'etf_mflow2', 'etf_mflow3',\n",
       "       'etf_mflow4', 'log_volume', 'ret_q90', 'ret_q10', 'relu_ret - q90',\n",
       "       'r-act', 'volume*ret', 'pred', 'inverted_back_pred'],\n",
       "      dtype='object')"
      ]
     },
     "execution_count": 297,
     "metadata": {},
     "output_type": "execute_result"
    }
   ],
   "source": [
    "LM32_XY_train = XY_train\n",
    "LM32_XY_test = XY_train\n",
    "LM32_XY_test.columns"
   ]
  },
  {
   "cell_type": "markdown",
   "id": "91d7aaf2",
   "metadata": {},
   "source": [
    "## The follwoing crates a original categorical variables thatmeasure the strength of the prediction"
   ]
  },
  {
   "cell_type": "code",
   "execution_count": 338,
   "id": "2e124216",
   "metadata": {},
   "outputs": [],
   "source": [
    "LM32_XY_test['pred_Quantile'] = pd.qcut(LM32_XY_test.pred,5 ,        \n",
    "        labels=['Q1',\n",
    "                'Q2',\n",
    "                'Q3',\n",
    "                'Q4', 'Q5'])"
   ]
  },
  {
   "cell_type": "markdown",
   "id": "c69f742e",
   "metadata": {},
   "source": [
    "## Here we calculate stats on next_ret conditional on the prediction level (Quantile)"
   ]
  },
  {
   "cell_type": "code",
   "execution_count": 339,
   "id": "b2dec225",
   "metadata": {},
   "outputs": [
    {
     "data": {
      "text/html": [
       "<div>\n",
       "<style scoped>\n",
       "    .dataframe tbody tr th:only-of-type {\n",
       "        vertical-align: middle;\n",
       "    }\n",
       "\n",
       "    .dataframe tbody tr th {\n",
       "        vertical-align: top;\n",
       "    }\n",
       "\n",
       "    .dataframe thead th {\n",
       "        text-align: right;\n",
       "    }\n",
       "</style>\n",
       "<table border=\"1\" class=\"dataframe\">\n",
       "  <thead>\n",
       "    <tr style=\"text-align: right;\">\n",
       "      <th></th>\n",
       "      <th>pred_Quantile</th>\n",
       "      <th>mean</th>\n",
       "      <th>std</th>\n",
       "      <th>count</th>\n",
       "      <th>t_stat</th>\n",
       "    </tr>\n",
       "  </thead>\n",
       "  <tbody>\n",
       "    <tr>\n",
       "      <th>0</th>\n",
       "      <td>Q1</td>\n",
       "      <td>-0.000083</td>\n",
       "      <td>0.001643</td>\n",
       "      <td>18613</td>\n",
       "      <td>-6.896201</td>\n",
       "    </tr>\n",
       "    <tr>\n",
       "      <th>1</th>\n",
       "      <td>Q2</td>\n",
       "      <td>-0.000003</td>\n",
       "      <td>0.001258</td>\n",
       "      <td>18612</td>\n",
       "      <td>-0.306734</td>\n",
       "    </tr>\n",
       "    <tr>\n",
       "      <th>2</th>\n",
       "      <td>Q3</td>\n",
       "      <td>0.000012</td>\n",
       "      <td>0.001192</td>\n",
       "      <td>18612</td>\n",
       "      <td>1.378208</td>\n",
       "    </tr>\n",
       "    <tr>\n",
       "      <th>3</th>\n",
       "      <td>Q4</td>\n",
       "      <td>0.000039</td>\n",
       "      <td>0.001200</td>\n",
       "      <td>18612</td>\n",
       "      <td>4.476846</td>\n",
       "    </tr>\n",
       "    <tr>\n",
       "      <th>4</th>\n",
       "      <td>Q5</td>\n",
       "      <td>0.000066</td>\n",
       "      <td>0.001510</td>\n",
       "      <td>18613</td>\n",
       "      <td>5.975800</td>\n",
       "    </tr>\n",
       "  </tbody>\n",
       "</table>\n",
       "</div>"
      ],
      "text/plain": [
       "  pred_Quantile      mean      std  count    t_stat\n",
       "0            Q1 -0.000083 0.001643  18613 -6.896201\n",
       "1            Q2 -0.000003 0.001258  18612 -0.306734\n",
       "2            Q3  0.000012 0.001192  18612  1.378208\n",
       "3            Q4  0.000039 0.001200  18612  4.476846\n",
       "4            Q5  0.000066 0.001510  18613  5.975800"
      ]
     },
     "execution_count": 339,
     "metadata": {},
     "output_type": "execute_result"
    }
   ],
   "source": [
    "LM32_next_ret_byQ = LM32_XY_test.groupby('pred_Quantile')['next_ret'].agg(['mean', 'std', 'count'])\n",
    "LM32_next_ret_byQ['t_stat'] = LM32_next_ret_byQ['mean']/(LM32_next_ret_byQ['std']/LM32_next_ret_byQ['count']**0.5)\n",
    "LM32_next_ret_byQ = LM32_next_ret_byQ.reset_index()\n",
    "LM32_next_ret_byQ"
   ]
  },
  {
   "cell_type": "markdown",
   "id": "48e61454",
   "metadata": {},
   "source": [
    "# The fact that next_ret is increasing with prediction level. with significant t_stat indicates that the prediction is useful"
   ]
  },
  {
   "cell_type": "markdown",
   "id": "024888b1",
   "metadata": {},
   "source": [
    "## Comments on trading"
   ]
  },
  {
   "cell_type": "markdown",
   "id": "066beba8",
   "metadata": {},
   "source": [
    "## If you short the first and second quatimes and long the 4th and the fifth quatile you can make money\n",
    " # There are 78 5-minutes window in a day. we can actually calculate the daily return and approximate daily std"
   ]
  },
  {
   "cell_type": "markdown",
   "id": "996b566f",
   "metadata": {},
   "source": [
    "## Assume that we we short one dollar in each of Q1 and Q2 portfolio of stocks and long a dollar in Q4 and Q5  \n",
    " # This kind of approximate trading results\n"
   ]
  },
  {
   "cell_type": "code",
   "execution_count": 340,
   "id": "eecfbe0b",
   "metadata": {},
   "outputs": [
    {
     "name": "stdout",
     "output_type": "stream",
     "text": [
      "annual_avg_ret =  2.2061889081911996\n",
      "annual_std_ret =  0.198251913342575\n",
      "sharpe-ratio =  11.128209917343664\n"
     ]
    }
   ],
   "source": [
    "annual_avg_ret_LM32 =  ( -LM32_next_ret_byQ['mean'][0] - LM32_next_ret_byQ['mean'][1] +\n",
    "                      ( LM32_next_ret_byQ['mean'][3] + LM32_next_ret_byQ['mean'][4] )/4 )*78*252\n",
    "annual_std_ret_LM32 =np.sqrt (   ( LM32_next_ret_byQ['std'][0]**2 + LM32_next_ret_byQ['std'][1]**2 +\n",
    "   LM32_next_ret_byQ['std'][3]**2 + LM32_next_ret_byQ['std'][4]**2 )/4  )*np.sqrt(78*252)\n",
    "sharpe_LM32 = annual_avg_ret_LM32/annual_std_ret_LM32 \n",
    "print( 'annual_avg_ret = ',  annual_avg_ret_LM32  )\n",
    "print( 'annual_std_ret = ',  annual_std_ret_LM32  )  \n",
    "print( 'sharpe-ratio = ' ,  sharpe_LM32)\n",
    "\n",
    "## This can be optimistic, it ignores transaction cost and assumes that you can trade at the begining of the 5-minutes windo at the open price and set at the close price that window.\n",
    " # a more accurate analysis require simulation testing and an inventory management strategy.  Such staretegy may decide to seel or keep the position"
   ]
  },
  {
   "cell_type": "markdown",
   "id": "3c3992e6",
   "metadata": {},
   "source": [
    "## These are impressive results. However,\n",
    "## This can be optimistic, it ignores transaction cost and assumes that you can trade at the begining of the 5-minutes windo at the open price and set at the close price that window.\n",
    "\n",
    " # a more accurate analysis require simulation testing and an inventory management strategy.  Such staretegy may decide to sell or keep the position for the next 5-minutes window"
   ]
  },
  {
   "cell_type": "code",
   "execution_count": null,
   "id": "efc99202",
   "metadata": {},
   "outputs": [],
   "source": []
  },
  {
   "cell_type": "markdown",
   "id": "77de4cbf",
   "metadata": {},
   "source": [
    "## Can ANN do a better job if we feed it the same inputs?"
   ]
  },
  {
   "cell_type": "markdown",
   "id": "2d0fcfb9",
   "metadata": {},
   "source": [
    "## The following code replaces XY_?? data frames. However, their information is in LM38_??"
   ]
  },
  {
   "cell_type": "code",
   "execution_count": 191,
   "id": "dc9e3c72",
   "metadata": {},
   "outputs": [
    {
     "name": "stdout",
     "output_type": "stream",
     "text": [
      "['symbol', 'etf', 'day', 'time', 'next_ret', 'ret', 'prev1_ret', 'prev2_ret', 'prev3_ret', 'prev4_ret', 'volume', 'mflow1', 'mflow2', 'mflow3', 'mflow4', 'spy_high', 'spy_low', 'spy_ret', 'spy_prev3_ret', 'spy_prev4_ret', 'spy_volume', 'spy_mflow1', 'spy_mflow2', 'spy_mflow3', 'spy_mflow4', 'etf_high', 'etf_low', 'etf_ret', 'etf_prev1_ret', 'etf_prev2_ret', 'etf_prev3_ret', 'etf_prev4_ret', 'etf_volume', 'etf_mflow1', 'etf_mflow2', 'etf_mflow3', 'etf_mflow4', 'log_volume', 'ret_q90', 'ret_q10', 'relu_ret - q90', 'r-act', 'volume*ret']\n"
     ]
    }
   ],
   "source": [
    "print(vrs_all)"
   ]
  },
  {
   "cell_type": "code",
   "execution_count": 311,
   "id": "876bea4b",
   "metadata": {},
   "outputs": [],
   "source": [
    "vrs_all = ['symbol', 'etf', 'day', 'time', 'next_ret',\n",
    "           'ret', 'prev1_ret', 'prev2_ret', 'prev3_ret', 'prev4_ret', \n",
    "           'volume', 'mflow1', 'mflow2', 'mflow3', 'mflow4', \n",
    "           'spy_ret', 'spy_prev3_ret', 'spy_prev4_ret', \n",
    "           'spy_volume', 'spy_mflow1', 'spy_mflow2', 'spy_mflow3', 'spy_mflow4',\n",
    "           'etf_ret', 'etf_prev1_ret', 'etf_prev2_ret', 'etf_prev3_ret', 'etf_prev4_ret',\n",
    "           'etf_volume', 'etf_mflow1', 'etf_mflow2', 'etf_mflow3', 'etf_mflow4',\n",
    "           'log_volume', 'ret_q90', 'ret_q10' ,  'volume*ret']"
   ]
  },
  {
   "cell_type": "code",
   "execution_count": 313,
   "id": "26fb2ec3",
   "metadata": {},
   "outputs": [
    {
     "name": "stdout",
     "output_type": "stream",
     "text": [
      "['next_ret', 'ret', 'prev1_ret', 'prev2_ret', 'prev3_ret', 'prev4_ret', 'volume', 'mflow1', 'mflow2', 'mflow3', 'mflow4', 'spy_ret', 'spy_prev3_ret', 'spy_prev4_ret', 'spy_volume', 'spy_mflow1', 'spy_mflow2', 'spy_mflow3', 'spy_mflow4', 'etf_ret', 'etf_prev1_ret', 'etf_prev2_ret', 'etf_prev3_ret', 'etf_prev4_ret', 'etf_volume', 'etf_mflow1', 'etf_mflow2', 'etf_mflow3', 'etf_mflow4']\n"
     ]
    }
   ],
   "source": [
    "print ( vrs_all[4:-4] )"
   ]
  },
  {
   "cell_type": "code",
   "execution_count": 314,
   "id": "911cc70b",
   "metadata": {},
   "outputs": [
    {
     "name": "stdout",
     "output_type": "stream",
     "text": [
      "['ret', 'prev1_ret', 'prev2_ret', 'prev3_ret', 'prev4_ret', 'volume', 'mflow1', 'mflow2', 'mflow3', 'mflow4', 'spy_ret', 'spy_prev3_ret', 'spy_prev4_ret', 'spy_volume', 'spy_mflow1', 'spy_mflow2', 'spy_mflow3', 'spy_mflow4', 'etf_ret', 'etf_prev1_ret', 'etf_prev2_ret', 'etf_prev3_ret', 'etf_prev4_ret', 'etf_volume', 'etf_mflow1', 'etf_mflow2']\n",
      "\n",
      "26\n",
      "\n",
      "['ret', 'prev1_ret', 'prev2_ret', 'prev3_ret', 'prev4_ret', 'volume', 'mflow1', 'mflow2', 'mflow3', 'mflow4', 'spy_ret', 'spy_prev3_ret', 'spy_prev4_ret', 'spy_volume', 'spy_mflow1', 'spy_mflow2', 'spy_mflow3', 'spy_mflow4', 'etf_ret', 'etf_prev1_ret', 'etf_prev2_ret', 'etf_prev3_ret', 'etf_prev4_ret', 'etf_volume', 'etf_mflow1', 'etf_mflow2']\n"
     ]
    }
   ],
   "source": [
    "ann_XY_vars =vrs_all[4:-4]\n",
    "ann_X_vars =vrs_all[5:-6]\n",
    "print( ann_X_vars )\n",
    "print()\n",
    "print(len(ann_X_vars ) )\n",
    "print()\n",
    "print(  ann_X_vars )"
   ]
  },
  {
   "cell_type": "code",
   "execution_count": 193,
   "id": "78137b2b",
   "metadata": {},
   "outputs": [],
   "source": []
  },
  {
   "cell_type": "code",
   "execution_count": 260,
   "id": "c2061361",
   "metadata": {},
   "outputs": [
    {
     "name": "stdout",
     "output_type": "stream",
     "text": [
      "(93062, 32) (39780, 32) (93062,) (39780,)\n"
     ]
    }
   ],
   "source": [
    "XY_train = syms_train[ann_XY_vars].dropna()\n",
    "XY_test =   syms_test[ann_XY_vars].dropna()\n",
    "x_train = X_train_standarized[ann_X_vars]\n",
    "x_test = X_test_standarized[ann_X_vars]\n",
    "y_train = XY_train_standarized['next_ret']\n",
    "y_test = XY_test_standarized['next_ret']\n",
    "print (x_train.shape, x_test.shape , y_train.shape , y_test.shape )"
   ]
  },
  {
   "cell_type": "code",
   "execution_count": null,
   "id": "44853ca9",
   "metadata": {},
   "outputs": [],
   "source": []
  },
  {
   "cell_type": "code",
   "execution_count": 242,
   "id": "e4f6f242",
   "metadata": {},
   "outputs": [
    {
     "data": {
      "text/plain": [
       "Index(['next_ret', 'ret', 'prev1_ret', 'prev2_ret', 'prev3_ret', 'prev4_ret',\n",
       "       'volume', 'mflow1', 'mflow2', 'mflow3', 'mflow4', 'spy_high', 'spy_low',\n",
       "       'spy_ret', 'spy_prev3_ret', 'spy_prev4_ret', 'spy_volume', 'spy_mflow1',\n",
       "       'spy_mflow2', 'spy_mflow3', 'spy_mflow4', 'etf_high', 'etf_low',\n",
       "       'etf_ret', 'etf_prev1_ret', 'etf_prev2_ret', 'etf_prev3_ret',\n",
       "       'etf_prev4_ret', 'etf_volume', 'etf_mflow1', 'etf_mflow2', 'etf_mflow3',\n",
       "       'etf_mflow4'],\n",
       "      dtype='object')"
      ]
     },
     "execution_count": 242,
     "metadata": {},
     "output_type": "execute_result"
    }
   ],
   "source": [
    "XY_test.columns"
   ]
  },
  {
   "cell_type": "code",
   "execution_count": 243,
   "id": "a2b157bf",
   "metadata": {},
   "outputs": [
    {
     "data": {
      "text/plain": [
       "32"
      ]
     },
     "execution_count": 243,
     "metadata": {},
     "output_type": "execute_result"
    }
   ],
   "source": [
    "n= len( x_train.columns )\n",
    "n"
   ]
  },
  {
   "cell_type": "code",
   "execution_count": 261,
   "id": "7d55f764",
   "metadata": {
    "scrolled": false
   },
   "outputs": [
    {
     "name": "stdout",
     "output_type": "stream",
     "text": [
      "Epoch 1/100\n",
      "1455/1455 [==============================] - 14s 10ms/step - loss: 0.9990 - cosine_proximity: 0.0213\n",
      "Epoch 2/100\n",
      "1455/1455 [==============================] - 13s 9ms/step - loss: 0.9962 - cosine_proximity: 0.0319\n",
      "Epoch 3/100\n",
      "1455/1455 [==============================] - 13s 9ms/step - loss: 0.9928 - cosine_proximity: 0.0378\n",
      "Epoch 4/100\n",
      "1455/1455 [==============================] - 13s 9ms/step - loss: 0.9905 - cosine_proximity: 0.0438\n",
      "Epoch 5/100\n",
      "1455/1455 [==============================] - 13s 9ms/step - loss: 0.9864 - cosine_proximity: 0.0486\n",
      "Epoch 6/100\n",
      "1455/1455 [==============================] - 14s 9ms/step - loss: 0.9829 - cosine_proximity: 0.0553\n",
      "Epoch 7/100\n",
      "1455/1455 [==============================] - 13s 9ms/step - loss: 0.9788 - cosine_proximity: 0.0563\n",
      "Epoch 8/100\n",
      "1455/1455 [==============================] - 13s 9ms/step - loss: 0.9773 - cosine_proximity: 0.0620\n",
      "Epoch 9/100\n",
      "1455/1455 [==============================] - 13s 9ms/step - loss: 0.9727 - cosine_proximity: 0.0692\n",
      "Epoch 10/100\n",
      "1455/1455 [==============================] - 13s 9ms/step - loss: 0.9705 - cosine_proximity: 0.0661\n",
      "Epoch 11/100\n",
      "1455/1455 [==============================] - 13s 9ms/step - loss: 0.9663 - cosine_proximity: 0.0696\n",
      "Epoch 12/100\n",
      "1455/1455 [==============================] - 13s 9ms/step - loss: 0.9656 - cosine_proximity: 0.0797\n",
      "Epoch 13/100\n",
      "1455/1455 [==============================] - 13s 9ms/step - loss: 0.9625 - cosine_proximity: 0.0780\n",
      "Epoch 14/100\n",
      "1455/1455 [==============================] - 13s 9ms/step - loss: 0.9600 - cosine_proximity: 0.0830\n",
      "Epoch 15/100\n",
      "1455/1455 [==============================] - 13s 9ms/step - loss: 0.9573 - cosine_proximity: 0.0820\n",
      "Epoch 16/100\n",
      "1455/1455 [==============================] - 13s 9ms/step - loss: 0.9556 - cosine_proximity: 0.0831\n",
      "Epoch 17/100\n",
      "1455/1455 [==============================] - 13s 9ms/step - loss: 0.9510 - cosine_proximity: 0.0896\n",
      "Epoch 18/100\n",
      "1455/1455 [==============================] - 13s 9ms/step - loss: 0.9493 - cosine_proximity: 0.0895\n",
      "Epoch 19/100\n",
      "1455/1455 [==============================] - 13s 9ms/step - loss: 0.9478 - cosine_proximity: 0.0944\n",
      "Epoch 20/100\n",
      "1455/1455 [==============================] - 13s 9ms/step - loss: 0.9444 - cosine_proximity: 0.0917\n",
      "Epoch 21/100\n",
      "1455/1455 [==============================] - 13s 9ms/step - loss: 0.9426 - cosine_proximity: 0.0942\n",
      "Epoch 22/100\n",
      "1455/1455 [==============================] - 13s 9ms/step - loss: 0.9404 - cosine_proximity: 0.0918\n",
      "Epoch 23/100\n",
      "1455/1455 [==============================] - 13s 9ms/step - loss: 0.9393 - cosine_proximity: 0.0969\n",
      "Epoch 24/100\n",
      "1455/1455 [==============================] - 13s 9ms/step - loss: 0.9384 - cosine_proximity: 0.0955\n",
      "Epoch 25/100\n",
      "1455/1455 [==============================] - 13s 9ms/step - loss: 0.9366 - cosine_proximity: 0.0994\n",
      "Epoch 26/100\n",
      "1455/1455 [==============================] - 13s 9ms/step - loss: 0.9335 - cosine_proximity: 0.1007\n",
      "Epoch 27/100\n",
      "1455/1455 [==============================] - 13s 9ms/step - loss: 0.9334 - cosine_proximity: 0.1007\n",
      "Epoch 28/100\n",
      "1455/1455 [==============================] - 13s 9ms/step - loss: 0.9314 - cosine_proximity: 0.0996\n",
      "Epoch 29/100\n",
      "1455/1455 [==============================] - 14s 9ms/step - loss: 0.9302 - cosine_proximity: 0.1038\n",
      "Epoch 30/100\n",
      "1455/1455 [==============================] - 13s 9ms/step - loss: 0.9283 - cosine_proximity: 0.1016\n",
      "Epoch 31/100\n",
      "1455/1455 [==============================] - 13s 9ms/step - loss: 0.9293 - cosine_proximity: 0.1054\n",
      "Epoch 32/100\n",
      "1455/1455 [==============================] - 13s 9ms/step - loss: 0.9275 - cosine_proximity: 0.1063\n",
      "Epoch 33/100\n",
      "1455/1455 [==============================] - 13s 9ms/step - loss: 0.9256 - cosine_proximity: 0.1057\n",
      "Epoch 34/100\n",
      "1455/1455 [==============================] - 13s 9ms/step - loss: 0.9248 - cosine_proximity: 0.1050\n",
      "Epoch 35/100\n",
      "1455/1455 [==============================] - 13s 9ms/step - loss: 0.9255 - cosine_proximity: 0.1100\n",
      "Epoch 36/100\n",
      "1455/1455 [==============================] - 13s 9ms/step - loss: 0.9231 - cosine_proximity: 0.1081\n",
      "Epoch 37/100\n",
      "1455/1455 [==============================] - 13s 9ms/step - loss: 0.9224 - cosine_proximity: 0.1105\n",
      "Epoch 38/100\n",
      "1455/1455 [==============================] - 13s 9ms/step - loss: 0.9219 - cosine_proximity: 0.1089\n",
      "Epoch 39/100\n",
      "1455/1455 [==============================] - 13s 9ms/step - loss: 0.9213 - cosine_proximity: 0.1160\n",
      "Epoch 40/100\n",
      "1455/1455 [==============================] - 13s 9ms/step - loss: 0.9203 - cosine_proximity: 0.1155\n",
      "Epoch 41/100\n",
      "1455/1455 [==============================] - 13s 9ms/step - loss: 0.9214 - cosine_proximity: 0.1142\n",
      "Epoch 42/100\n",
      "1455/1455 [==============================] - 13s 9ms/step - loss: 0.9192 - cosine_proximity: 0.1115\n",
      "Epoch 43/100\n",
      "1455/1455 [==============================] - 13s 9ms/step - loss: 0.9197 - cosine_proximity: 0.1169\n",
      "Epoch 44/100\n",
      "1455/1455 [==============================] - 13s 9ms/step - loss: 0.9182 - cosine_proximity: 0.1155\n",
      "Epoch 45/100\n",
      "1455/1455 [==============================] - 13s 9ms/step - loss: 0.9172 - cosine_proximity: 0.1135\n",
      "Epoch 46/100\n",
      "1455/1455 [==============================] - 13s 9ms/step - loss: 0.9169 - cosine_proximity: 0.1191\n",
      "Epoch 47/100\n",
      "1455/1455 [==============================] - 14s 9ms/step - loss: 0.9150 - cosine_proximity: 0.1200\n",
      "Epoch 48/100\n",
      "1455/1455 [==============================] - 13s 9ms/step - loss: 0.9165 - cosine_proximity: 0.1134\n",
      "Epoch 49/100\n",
      "1455/1455 [==============================] - 13s 9ms/step - loss: 0.9151 - cosine_proximity: 0.1211\n",
      "Epoch 50/100\n",
      "1455/1455 [==============================] - 13s 9ms/step - loss: 0.9141 - cosine_proximity: 0.1176\n",
      "Epoch 51/100\n",
      "1455/1455 [==============================] - 13s 9ms/step - loss: 0.9142 - cosine_proximity: 0.1156\n",
      "Epoch 52/100\n",
      "1455/1455 [==============================] - 13s 9ms/step - loss: 0.9141 - cosine_proximity: 0.1191\n",
      "Epoch 53/100\n",
      "1455/1455 [==============================] - 13s 9ms/step - loss: 0.9141 - cosine_proximity: 0.1139\n",
      "Epoch 54/100\n",
      "1455/1455 [==============================] - 13s 9ms/step - loss: 0.9126 - cosine_proximity: 0.1213\n",
      "Epoch 55/100\n",
      "1455/1455 [==============================] - 12s 9ms/step - loss: 0.9098 - cosine_proximity: 0.1173\n",
      "Epoch 56/100\n",
      "1455/1455 [==============================] - 13s 9ms/step - loss: 0.9129 - cosine_proximity: 0.1177\n",
      "Epoch 57/100\n",
      "1455/1455 [==============================] - 13s 9ms/step - loss: 0.9102 - cosine_proximity: 0.1158\n",
      "Epoch 58/100\n",
      "1455/1455 [==============================] - 13s 9ms/step - loss: 0.9093 - cosine_proximity: 0.1179\n",
      "Epoch 59/100\n",
      "1455/1455 [==============================] - 13s 9ms/step - loss: 0.9108 - cosine_proximity: 0.1207\n",
      "Epoch 60/100\n",
      "1455/1455 [==============================] - 13s 9ms/step - loss: 0.9082 - cosine_proximity: 0.1188\n",
      "Epoch 61/100\n",
      "1455/1455 [==============================] - 13s 9ms/step - loss: 0.9097 - cosine_proximity: 0.1194\n",
      "Epoch 62/100\n",
      "1455/1455 [==============================] - 13s 9ms/step - loss: 0.9088 - cosine_proximity: 0.1184\n",
      "Epoch 63/100\n",
      "1455/1455 [==============================] - 12s 9ms/step - loss: 0.9099 - cosine_proximity: 0.1199\n",
      "Epoch 64/100\n",
      "1455/1455 [==============================] - 13s 9ms/step - loss: 0.9080 - cosine_proximity: 0.1197\n",
      "Epoch 65/100\n",
      "1455/1455 [==============================] - 13s 9ms/step - loss: 0.9068 - cosine_proximity: 0.1197\n",
      "Epoch 66/100\n",
      "1455/1455 [==============================] - 13s 9ms/step - loss: 0.9088 - cosine_proximity: 0.1219\n",
      "Epoch 67/100\n",
      "1455/1455 [==============================] - 14s 10ms/step - loss: 0.9093 - cosine_proximity: 0.1175\n",
      "Epoch 68/100\n",
      "1455/1455 [==============================] - 13s 9ms/step - loss: 0.9063 - cosine_proximity: 0.1170\n",
      "Epoch 69/100\n",
      "1455/1455 [==============================] - 13s 9ms/step - loss: 0.9041 - cosine_proximity: 0.1191\n",
      "Epoch 70/100\n",
      "1455/1455 [==============================] - 13s 9ms/step - loss: 0.9031 - cosine_proximity: 0.1207\n",
      "Epoch 71/100\n",
      "1455/1455 [==============================] - 13s 9ms/step - loss: 0.9061 - cosine_proximity: 0.1190\n",
      "Epoch 72/100\n",
      "1455/1455 [==============================] - 13s 9ms/step - loss: 0.9042 - cosine_proximity: 0.1224\n",
      "Epoch 73/100\n"
     ]
    },
    {
     "name": "stdout",
     "output_type": "stream",
     "text": [
      "1455/1455 [==============================] - 13s 9ms/step - loss: 0.9033 - cosine_proximity: 0.1193\n",
      "Epoch 74/100\n",
      "1455/1455 [==============================] - 13s 9ms/step - loss: 0.9049 - cosine_proximity: 0.1219\n",
      "Epoch 75/100\n",
      "1455/1455 [==============================] - 13s 9ms/step - loss: 0.9041 - cosine_proximity: 0.1226\n",
      "Epoch 76/100\n",
      "1455/1455 [==============================] - 13s 9ms/step - loss: 0.9054 - cosine_proximity: 0.1211\n",
      "Epoch 77/100\n",
      "1455/1455 [==============================] - 13s 9ms/step - loss: 0.9036 - cosine_proximity: 0.1199\n",
      "Epoch 78/100\n",
      "1455/1455 [==============================] - 13s 9ms/step - loss: 0.9019 - cosine_proximity: 0.1213\n",
      "Epoch 79/100\n",
      "1455/1455 [==============================] - 13s 9ms/step - loss: 0.9034 - cosine_proximity: 0.1212\n",
      "Epoch 80/100\n",
      "1455/1455 [==============================] - 13s 9ms/step - loss: 0.9010 - cosine_proximity: 0.1212\n",
      "Epoch 81/100\n",
      "1455/1455 [==============================] - 13s 9ms/step - loss: 0.9016 - cosine_proximity: 0.1225\n",
      "Epoch 82/100\n",
      "1455/1455 [==============================] - 13s 9ms/step - loss: 0.9000 - cosine_proximity: 0.1237\n",
      "Epoch 83/100\n",
      "1455/1455 [==============================] - 13s 9ms/step - loss: 0.9015 - cosine_proximity: 0.1216\n",
      "Epoch 84/100\n",
      "1455/1455 [==============================] - 13s 9ms/step - loss: 0.8988 - cosine_proximity: 0.1208\n",
      "Epoch 85/100\n",
      "1455/1455 [==============================] - 13s 9ms/step - loss: 0.8983 - cosine_proximity: 0.1201\n",
      "Epoch 86/100\n",
      "1455/1455 [==============================] - 13s 9ms/step - loss: 0.8990 - cosine_proximity: 0.1206\n",
      "Epoch 87/100\n",
      "1455/1455 [==============================] - 13s 9ms/step - loss: 0.9002 - cosine_proximity: 0.1200\n",
      "Epoch 88/100\n",
      "1455/1455 [==============================] - 13s 9ms/step - loss: 0.8986 - cosine_proximity: 0.1219\n",
      "Epoch 89/100\n",
      "1455/1455 [==============================] - 13s 9ms/step - loss: 0.8978 - cosine_proximity: 0.1261\n",
      "Epoch 90/100\n",
      "1455/1455 [==============================] - 13s 9ms/step - loss: 0.9001 - cosine_proximity: 0.1242\n",
      "Epoch 91/100\n",
      "1455/1455 [==============================] - 13s 9ms/step - loss: 0.8981 - cosine_proximity: 0.1216\n",
      "Epoch 92/100\n",
      "1455/1455 [==============================] - 13s 9ms/step - loss: 0.8976 - cosine_proximity: 0.1213\n",
      "Epoch 93/100\n",
      "1455/1455 [==============================] - 14s 9ms/step - loss: 0.8965 - cosine_proximity: 0.1237\n",
      "Epoch 94/100\n",
      "1455/1455 [==============================] - 13s 9ms/step - loss: 0.8976 - cosine_proximity: 0.1226\n",
      "Epoch 95/100\n",
      "1455/1455 [==============================] - 13s 9ms/step - loss: 0.8958 - cosine_proximity: 0.1218\n",
      "Epoch 96/100\n",
      "1455/1455 [==============================] - 13s 9ms/step - loss: 0.8970 - cosine_proximity: 0.1188\n",
      "Epoch 97/100\n",
      "1455/1455 [==============================] - 13s 9ms/step - loss: 0.8955 - cosine_proximity: 0.1214\n",
      "Epoch 98/100\n",
      "1455/1455 [==============================] - 13s 9ms/step - loss: 0.8962 - cosine_proximity: 0.1231\n",
      "Epoch 99/100\n",
      "1455/1455 [==============================] - 13s 9ms/step - loss: 0.8966 - cosine_proximity: 0.1239\n",
      "Epoch 100/100\n",
      "1455/1455 [==============================] - 13s 9ms/step - loss: 0.8928 - cosine_proximity: 0.1226\n"
     ]
    }
   ],
   "source": [
    "from keras.models import Sequential\n",
    "from keras.layers import Dense\n",
    "from keras.layers import Dropout\n",
    "model32 = Sequential()\n",
    "\n",
    "model32.add(Dense(units= 40, input_dim= n, kernel_initializer='normal', activation='relu'))\n",
    "#model32.add(Dropout(0.25))\n",
    "model32.add(Dense(units=20, kernel_initializer='normal', activation='relu'))\n",
    "#model32.add(Dropout(0.1))\n",
    "model32.add(Dense(1, kernel_initializer='normal'))\n",
    "\n",
    "model32.compile(loss='mse', optimizer='rmsprop', metrics=['cosine_proximity'], run_eagerly=True)\n",
    "history = model32.fit(x_train, y_train ,batch_size = 64, epochs = 100, verbose=1)"
   ]
  },
  {
   "cell_type": "code",
   "execution_count": 264,
   "id": "33ac87a0",
   "metadata": {},
   "outputs": [
    {
     "name": "stdout",
     "output_type": "stream",
     "text": [
      "{'verbose': 1, 'epochs': 100, 'steps': 1455}\n"
     ]
    }
   ],
   "source": [
    "print(history.params)"
   ]
  },
  {
   "cell_type": "code",
   "execution_count": 262,
   "id": "f8337ed2",
   "metadata": {},
   "outputs": [],
   "source": [
    "ann_all_cosine_proxinity = history.history['cosine_proximity']"
   ]
  },
  {
   "cell_type": "code",
   "execution_count": 263,
   "id": "efb80885",
   "metadata": {},
   "outputs": [
    {
     "data": {
      "text/plain": [
       "[<matplotlib.lines.Line2D at 0x7f77915842b0>]"
      ]
     },
     "execution_count": 263,
     "metadata": {},
     "output_type": "execute_result"
    },
    {
     "data": {
      "image/png": "[encoded data removed]",
      "text/plain": [
       "<Figure size 640x480 with 1 Axes>"
      ]
     },
     "metadata": {},
     "output_type": "display_data"
    }
   ],
   "source": [
    "plt.plot(ann_all_cosine_proxinity)"
   ]
  },
  {
   "cell_type": "markdown",
   "id": "d42ff75a",
   "metadata": {},
   "source": [
    "## This is the in-sample pseudo-correlation ( cosine-proximity) as the as a function epoch in the optimization process. By epoch 80 we se a stabilization of this metric"
   ]
  },
  {
   "cell_type": "code",
   "execution_count": 265,
   "id": "d83a971a",
   "metadata": {},
   "outputs": [
    {
     "name": "stdout",
     "output_type": "stream",
     "text": [
      "{'verbose': 1, 'epochs': 100, 'steps': 1455}\n",
      "Model: \"sequential_7\"\n",
      "_________________________________________________________________\n",
      "Layer (type)                 Output Shape              Param #   \n",
      "=================================================================\n",
      "dense_21 (Dense)             (None, 24)                240       \n",
      "_________________________________________________________________\n",
      "dropout (Dropout)            (None, 24)                0         \n",
      "_________________________________________________________________\n",
      "dense_22 (Dense)             (None, 8)                 200       \n",
      "_________________________________________________________________\n",
      "dropout_1 (Dropout)          (None, 8)                 0         \n",
      "_________________________________________________________________\n",
      "dense_23 (Dense)             (None, 1)                 9         \n",
      "=================================================================\n",
      "Total params: 449\n",
      "Trainable params: 449\n",
      "Non-trainable params: 0\n",
      "_________________________________________________________________\n"
     ]
    }
   ],
   "source": [
    "print(history.params)\n",
    "model.summary()"
   ]
  },
  {
   "cell_type": "markdown",
   "id": "4951662d",
   "metadata": {},
   "source": [
    "# Let us examine out-of-sample correlation between next_ret and its prediction"
   ]
  },
  {
   "cell_type": "code",
   "execution_count": 266,
   "id": "273be2b8",
   "metadata": {},
   "outputs": [
    {
     "data": {
      "text/plain": [
       "Index(['next_ret', 'ret', 'prev1_ret', 'prev2_ret', 'prev3_ret', 'prev4_ret',\n",
       "       'volume', 'mflow1', 'mflow2', 'mflow3', 'mflow4', 'spy_high', 'spy_low',\n",
       "       'spy_ret', 'spy_prev3_ret', 'spy_prev4_ret', 'spy_volume', 'spy_mflow1',\n",
       "       'spy_mflow2', 'spy_mflow3', 'spy_mflow4', 'etf_high', 'etf_low',\n",
       "       'etf_ret', 'etf_prev1_ret', 'etf_prev2_ret', 'etf_prev3_ret',\n",
       "       'etf_prev4_ret', 'etf_volume', 'etf_mflow1', 'etf_mflow2', 'etf_mflow3',\n",
       "       'etf_mflow4', 'log_volume', 'ret_q90', 'ret_q10', 'relu_ret - q90',\n",
       "       'r-act', 'volume*ret'],\n",
       "      dtype='object')"
      ]
     },
     "execution_count": 266,
     "metadata": {},
     "output_type": "execute_result"
    }
   ],
   "source": [
    "ANN32_XY_train = syms_train[vrs_all[4:]].dropna()\n",
    "ANN32_XY_test = syms_test[vrs_all[4:]].dropna()\n",
    "ANN32_XY_test.columns"
   ]
  },
  {
   "cell_type": "code",
   "execution_count": 267,
   "id": "e909f329",
   "metadata": {},
   "outputs": [
    {
     "name": "stdout",
     "output_type": "stream",
     "text": [
      "in-sample-r =  0.34936451051396156\n"
     ]
    }
   ],
   "source": [
    "ANN32_XY_train ['ann_train_pred'] =  model32.predict(x_train) \n",
    "print ( 'in-sample-r = ', ANN32_XY_train ['ann_train_pred'].corr( ANN32_XY_train ['next_ret'] )  )"
   ]
  },
  {
   "cell_type": "code",
   "execution_count": 268,
   "id": "3812bf02",
   "metadata": {},
   "outputs": [
    {
     "name": "stdout",
     "output_type": "stream",
     "text": [
      "out-of-sample-r =  0.12656173155041073\n"
     ]
    }
   ],
   "source": [
    "ANN32_XY_test ['ann_test_pred'] =  model32.predict(x_test) \n",
    "print ( 'out-of-sample-r = ' , ANN32_XY_test ['ann_test_pred'].corr( ANN32_XY_test['next_ret'] ) ) "
   ]
  },
  {
   "cell_type": "markdown",
   "id": "f69fc60d",
   "metadata": {},
   "source": [
    "## Very impressive performance. The out of sample correlation between actual and prediction  is multiple times its linear model with ellaborite manual interactions "
   ]
  },
  {
   "cell_type": "markdown",
   "id": "fc045ae2",
   "metadata": {},
   "source": [
    "## Note howver, that without developing these interactions, the ANN performance is rather limited"
   ]
  },
  {
   "cell_type": "markdown",
   "id": "bb2abed9",
   "metadata": {},
   "source": [
    "## The conclusion here is that you need to study and understand the problem, engineer features from such understanding and then apply ANN"
   ]
  },
  {
   "cell_type": "markdown",
   "id": "2a0bad30",
   "metadata": {},
   "source": [
    "## This ANN can be optimized for different hyper-parameters and using more data on factors not available to us"
   ]
  },
  {
   "cell_type": "code",
   "execution_count": 269,
   "id": "d47f3f99",
   "metadata": {},
   "outputs": [
    {
     "data": {
      "text/plain": [
       "Index(['next_ret', 'ret', 'prev1_ret', 'prev2_ret', 'prev3_ret', 'prev4_ret',\n",
       "       'volume', 'mflow1', 'mflow2', 'mflow3', 'mflow4', 'spy_high', 'spy_low',\n",
       "       'spy_ret', 'spy_prev3_ret', 'spy_prev4_ret', 'spy_volume', 'spy_mflow1',\n",
       "       'spy_mflow2', 'spy_mflow3', 'spy_mflow4', 'etf_high', 'etf_low',\n",
       "       'etf_ret', 'etf_prev1_ret', 'etf_prev2_ret', 'etf_prev3_ret',\n",
       "       'etf_prev4_ret', 'etf_volume', 'etf_mflow1', 'etf_mflow2', 'etf_mflow3',\n",
       "       'etf_mflow4', 'log_volume', 'ret_q90', 'ret_q10', 'relu_ret - q90',\n",
       "       'r-act', 'volume*ret', 'ann_test_pred'],\n",
       "      dtype='object')"
      ]
     },
     "execution_count": 269,
     "metadata": {},
     "output_type": "execute_result"
    }
   ],
   "source": [
    "ANN32_XY_test.columns"
   ]
  },
  {
   "cell_type": "markdown",
   "id": "a0ea8db4",
   "metadata": {},
   "source": [
    "## This examines the ditribution of the prediction. Bear in mind that this is based on standarized predictors."
   ]
  },
  {
   "cell_type": "code",
   "execution_count": 270,
   "id": "9fd903e8",
   "metadata": {},
   "outputs": [
    {
     "data": {
      "text/plain": [
       "count   39780.000000\n",
       "mean        0.009167\n",
       "std         0.347880\n",
       "min       -19.095949\n",
       "25%        -0.070648\n",
       "50%         0.028429\n",
       "75%         0.100613\n",
       "max        12.996968\n",
       "Name: ann_test_pred, dtype: float64"
      ]
     },
     "execution_count": 270,
     "metadata": {},
     "output_type": "execute_result"
    }
   ],
   "source": [
    "ANN32_XY_test['ann_test_pred'].describe()"
   ]
  },
  {
   "cell_type": "markdown",
   "id": "9f1c876d",
   "metadata": {},
   "source": [
    "## while this is not needed for further analysis, here how we can scale bac this prediction"
   ]
  },
  {
   "cell_type": "code",
   "execution_count": 271,
   "id": "883a2c67",
   "metadata": {},
   "outputs": [
    {
     "name": "stdout",
     "output_type": "stream",
     "text": [
      "0.00137350311140441 6.333398168337202e-06\n"
     ]
    },
    {
     "data": {
      "text/html": [
       "<div>\n",
       "<style scoped>\n",
       "    .dataframe tbody tr th:only-of-type {\n",
       "        vertical-align: middle;\n",
       "    }\n",
       "\n",
       "    .dataframe tbody tr th {\n",
       "        vertical-align: top;\n",
       "    }\n",
       "\n",
       "    .dataframe thead th {\n",
       "        text-align: right;\n",
       "    }\n",
       "</style>\n",
       "<table border=\"1\" class=\"dataframe\">\n",
       "  <thead>\n",
       "    <tr style=\"text-align: right;\">\n",
       "      <th></th>\n",
       "      <th>next_ret</th>\n",
       "      <th>ann_test_pred</th>\n",
       "      <th>scaled_back_test_pred</th>\n",
       "    </tr>\n",
       "  </thead>\n",
       "  <tbody>\n",
       "    <tr>\n",
       "      <th>count</th>\n",
       "      <td>39780.000000</td>\n",
       "      <td>39780.000000</td>\n",
       "      <td>39780.000000</td>\n",
       "    </tr>\n",
       "    <tr>\n",
       "      <th>mean</th>\n",
       "      <td>0.000005</td>\n",
       "      <td>0.009167</td>\n",
       "      <td>0.000019</td>\n",
       "    </tr>\n",
       "    <tr>\n",
       "      <th>std</th>\n",
       "      <td>0.001372</td>\n",
       "      <td>0.347880</td>\n",
       "      <td>0.000478</td>\n",
       "    </tr>\n",
       "    <tr>\n",
       "      <th>min</th>\n",
       "      <td>-0.016928</td>\n",
       "      <td>-19.095949</td>\n",
       "      <td>-0.026222</td>\n",
       "    </tr>\n",
       "    <tr>\n",
       "      <th>25%</th>\n",
       "      <td>-0.000676</td>\n",
       "      <td>-0.070648</td>\n",
       "      <td>-0.000091</td>\n",
       "    </tr>\n",
       "    <tr>\n",
       "      <th>50%</th>\n",
       "      <td>0.000000</td>\n",
       "      <td>0.028429</td>\n",
       "      <td>0.000045</td>\n",
       "    </tr>\n",
       "    <tr>\n",
       "      <th>75%</th>\n",
       "      <td>0.000720</td>\n",
       "      <td>0.100613</td>\n",
       "      <td>0.000145</td>\n",
       "    </tr>\n",
       "    <tr>\n",
       "      <th>max</th>\n",
       "      <td>0.015737</td>\n",
       "      <td>12.996968</td>\n",
       "      <td>0.017858</td>\n",
       "    </tr>\n",
       "  </tbody>\n",
       "</table>\n",
       "</div>"
      ],
      "text/plain": [
       "          next_ret  ann_test_pred  scaled_back_test_pred\n",
       "count 39780.000000   39780.000000           39780.000000\n",
       "mean      0.000005       0.009167               0.000019\n",
       "std       0.001372       0.347880               0.000478\n",
       "min      -0.016928     -19.095949              -0.026222\n",
       "25%      -0.000676      -0.070648              -0.000091\n",
       "50%       0.000000       0.028429               0.000045\n",
       "75%       0.000720       0.100613               0.000145\n",
       "max       0.015737      12.996968               0.017858"
      ]
     },
     "execution_count": 271,
     "metadata": {},
     "output_type": "execute_result"
    }
   ],
   "source": [
    "std = XY_train['next_ret'].std()\n",
    "mean = XY_train['next_ret'].mean()\n",
    "print( std, mean)\n",
    "ANN32_XY_test['scaled_back_test_pred'] = std* ANN32_XY_test['ann_test_pred'] + mean\n",
    "ANN32_XY_test[[ 'next_ret' , 'ann_test_pred', 'scaled_back_test_pred']].describe()"
   ]
  },
  {
   "cell_type": "markdown",
   "id": "a4db0b01",
   "metadata": {},
   "source": [
    "## Scaling back is important if one needs to create a trading triger that compares prediction to transaction cost.\n",
    "### in this demonstration we don't need it"
   ]
  },
  {
   "cell_type": "markdown",
   "id": "48765f78",
   "metadata": {},
   "source": [
    "## here we print Quantiles thresholds"
   ]
  },
  {
   "cell_type": "code",
   "execution_count": 255,
   "id": "18af6f8f",
   "metadata": {},
   "outputs": [
    {
     "name": "stdout",
     "output_type": "stream",
     "text": [
      "-0.077283 -0.000100\n",
      "-0.015968 -0.000016\n",
      " 0.036099  0.000056\n",
      " 0.128232  0.000182\n"
     ]
    }
   ],
   "source": [
    " for q in [0.2,0.4,0.6, 0.8]:\n",
    "        print( \"% .6f\" %ANN32_XY_test['ann_test_pred'].quantile(q), \n",
    "        \"% .6f\" %ANN32_XY_test[ 'scaled_back_test_pred'].quantile(q) )\n"
   ]
  },
  {
   "cell_type": "markdown",
   "id": "e9bf7367",
   "metadata": {},
   "source": [
    "## Impact on trading"
   ]
  },
  {
   "cell_type": "code",
   "execution_count": 272,
   "id": "8384b385",
   "metadata": {},
   "outputs": [],
   "source": [
    "ANN32_XY_test['pred_Quantile'] = pd.qcut(ANN32_XY_test['ann_test_pred'],5 ,        \n",
    "        labels=['Q1',\n",
    "                'Q2',\n",
    "                'Q3',\n",
    "                'Q4', 'Q5'])"
   ]
  },
  {
   "cell_type": "code",
   "execution_count": 273,
   "id": "d58950de",
   "metadata": {},
   "outputs": [
    {
     "data": {
      "text/html": [
       "<div>\n",
       "<style scoped>\n",
       "    .dataframe tbody tr th:only-of-type {\n",
       "        vertical-align: middle;\n",
       "    }\n",
       "\n",
       "    .dataframe tbody tr th {\n",
       "        vertical-align: top;\n",
       "    }\n",
       "\n",
       "    .dataframe thead th {\n",
       "        text-align: right;\n",
       "    }\n",
       "</style>\n",
       "<table border=\"1\" class=\"dataframe\">\n",
       "  <thead>\n",
       "    <tr style=\"text-align: right;\">\n",
       "      <th></th>\n",
       "      <th>mean</th>\n",
       "      <th>std</th>\n",
       "      <th>count</th>\n",
       "      <th>t_stat</th>\n",
       "    </tr>\n",
       "    <tr>\n",
       "      <th>pred_Quantile</th>\n",
       "      <th></th>\n",
       "      <th></th>\n",
       "      <th></th>\n",
       "      <th></th>\n",
       "    </tr>\n",
       "  </thead>\n",
       "  <tbody>\n",
       "    <tr>\n",
       "      <th>Q1</th>\n",
       "      <td>-0.000228</td>\n",
       "      <td>0.001632</td>\n",
       "      <td>7956</td>\n",
       "      <td>-12.485205</td>\n",
       "    </tr>\n",
       "    <tr>\n",
       "      <th>Q2</th>\n",
       "      <td>-0.000035</td>\n",
       "      <td>0.001227</td>\n",
       "      <td>7956</td>\n",
       "      <td>-2.574171</td>\n",
       "    </tr>\n",
       "    <tr>\n",
       "      <th>Q3</th>\n",
       "      <td>0.000019</td>\n",
       "      <td>0.001092</td>\n",
       "      <td>7956</td>\n",
       "      <td>1.524093</td>\n",
       "    </tr>\n",
       "    <tr>\n",
       "      <th>Q4</th>\n",
       "      <td>0.000035</td>\n",
       "      <td>0.001171</td>\n",
       "      <td>7956</td>\n",
       "      <td>2.676654</td>\n",
       "    </tr>\n",
       "    <tr>\n",
       "      <th>Q5</th>\n",
       "      <td>0.000237</td>\n",
       "      <td>0.001603</td>\n",
       "      <td>7956</td>\n",
       "      <td>13.171546</td>\n",
       "    </tr>\n",
       "  </tbody>\n",
       "</table>\n",
       "</div>"
      ],
      "text/plain": [
       "                   mean      std  count     t_stat\n",
       "pred_Quantile                                     \n",
       "Q1            -0.000228 0.001632   7956 -12.485205\n",
       "Q2            -0.000035 0.001227   7956  -2.574171\n",
       "Q3             0.000019 0.001092   7956   1.524093\n",
       "Q4             0.000035 0.001171   7956   2.676654\n",
       "Q5             0.000237 0.001603   7956  13.171546"
      ]
     },
     "execution_count": 273,
     "metadata": {},
     "output_type": "execute_result"
    }
   ],
   "source": [
    "ANN32_next_ret_byQ = ANN32_XY_test.groupby('pred_Quantile')['next_ret'].agg(['mean', 'std', 'count'])\n",
    "ANN32_next_ret_byQ['t_stat'] = ANN32_next_ret_byQ['mean']/(ANN32_next_ret_byQ['std']/np.sqrt(ANN32_next_ret_byQ['count']) )\n",
    "ANN32_next_ret_byQ"
   ]
  },
  {
   "cell_type": "code",
   "execution_count": 274,
   "id": "b4879586",
   "metadata": {},
   "outputs": [
    {
     "name": "stdout",
     "output_type": "stream",
     "text": [
      "annual_avg_ret =  2.6326524619428042\n",
      "annual_std_ret =  0.19964758665620733\n",
      "sharpe-ratio =  13.18649779862466\n"
     ]
    }
   ],
   "source": [
    "ANN32_next_ret_byQ = ANN32_XY_test.groupby('pred_Quantile')['next_ret'].agg(['mean', 'std', 'count'])\n",
    "annual_avg_ret = ( ( -ANN32_next_ret_byQ['mean'][0] - ANN32_next_ret_byQ['mean'][1] +\n",
    "   ANN32_next_ret_byQ['mean'][3] + ANN32_next_ret_byQ['mean'][4] )/4 )*78*252\n",
    "annual_std_ret =np.sqrt (   ( ANN32_next_ret_byQ['std'][0]**2 + ANN32_next_ret_byQ['std'][1]**2 +\n",
    "   ANN32_next_ret_byQ['std'][3]**2 + ANN32_next_ret_byQ['std'][4]**2 )/4  )*np.sqrt(78*252)\n",
    "print( 'annual_avg_ret = ',  annual_avg_ret  )\n",
    "print( 'annual_std_ret = ',  annual_std_ret  )  \n",
    "print( 'sharpe-ratio = ' ,  annual_avg_ret/annual_std_ret )"
   ]
  },
  {
   "cell_type": "markdown",
   "id": "d082572d",
   "metadata": {},
   "source": [
    "# The ANN provides better T-stat for the quatiles{1,2,4,5]  and better trading results \n",
    "\n",
    "##  Manual feature engineering has done relatively well\n",
    "\n",
    "# In this run we excluded the following variable:\n",
    "###   ['log_volume', 'ret_q90', 'ret_q10', 'relu_ret - q90', 'r-act', 'volume*ret']\n",
    "## These are manually engineered variables. I found out that including them in the ANN model resulted in worse results\n",
    "## I also run the model with uncommenting the droput lines. Again the performance was worse\n",
    "## 100 epochs provided better performance than 50 epochs\n"
   ]
  },
  {
   "cell_type": "code",
   "execution_count": null,
   "id": "170954ff",
   "metadata": {},
   "outputs": [],
   "source": []
  },
  {
   "cell_type": "code",
   "execution_count": null,
   "id": "e09a3bf6",
   "metadata": {},
   "outputs": [],
   "source": []
  },
  {
   "cell_type": "code",
   "execution_count": null,
   "id": "73cb5619",
   "metadata": {},
   "outputs": [],
   "source": []
  },
  {
   "cell_type": "code",
   "execution_count": null,
   "id": "08dc8c0d",
   "metadata": {},
   "outputs": [],
   "source": []
  },
  {
   "cell_type": "code",
   "execution_count": null,
   "id": "4ea7c750",
   "metadata": {},
   "outputs": [],
   "source": []
  },
  {
   "cell_type": "code",
   "execution_count": null,
   "id": "5a38afd7",
   "metadata": {},
   "outputs": [],
   "source": []
  },
  {
   "cell_type": "code",
   "execution_count": null,
   "id": "4771eb24",
   "metadata": {},
   "outputs": [],
   "source": []
  }
 ],
 "metadata": {
  "kernelspec": {
   "display_name": "Python 3 (ipykernel)",
   "language": "python",
   "name": "python3"
  },
  "language_info": {
   "codemirror_mode": {
    "name": "ipython",
    "version": 3
   },
   "file_extension": ".py",
   "mimetype": "text/x-python",
   "name": "python",
   "nbconvert_exporter": "python",
   "pygments_lexer": "ipython3",
   "version": "3.8.16"
  }
 },
 "nbformat": 4,
 "nbformat_minor": 5
}
