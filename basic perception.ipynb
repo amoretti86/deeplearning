{
 "cells": [
  {
   "cell_type": "code",
   "execution_count": 29,
   "id": "a21e0770",
   "metadata": {},
   "outputs": [],
   "source": [
    "import numpy as np\n",
    "import pandas as pd\n",
    "from matplotlib import pyplot as plt"
   ]
  },
  {
   "cell_type": "code",
   "execution_count": null,
   "id": "b70a49c5",
   "metadata": {},
   "outputs": [],
   "source": []
  },
  {
   "cell_type": "markdown",
   "id": "29dd4f4f",
   "metadata": {},
   "source": [
    "## Here we generate artificial data using sklearn\n",
    " # We use a sklearn library to generate clustered data drawn from normal distribution. The following link explains this library"
   ]
  },
  {
   "cell_type": "markdown",
   "id": "9bb875ea",
   "metadata": {},
   "source": [
    "https://scikit-learn.org/stable/modules/generated/sklearn.datasets.make_blobs.html\n",
    "    "
   ]
  },
  {
   "cell_type": "code",
   "execution_count": 1,
   "id": "3d030388",
   "metadata": {},
   "outputs": [],
   "source": [
    "from sklearn import datasets\n",
    "X, y = datasets.make_blobs(n_samples=150,n_features=2,\n",
    "                           centers=2,cluster_std=1.05,\n",
    "                           random_state=101)"
   ]
  },
  {
   "cell_type": "markdown",
   "id": "d11b7679",
   "metadata": {},
   "source": [
    "## we sample 150 observations for two features that exhibit two clusters with the same standard deviation. Random state is specified so the data is reproduceable"
   ]
  },
  {
   "cell_type": "markdown",
   "id": "875d1187",
   "metadata": {},
   "source": [
    "## Note that sklear produces two arrays: X and y with the following dimensions"
   ]
  },
  {
   "cell_type": "code",
   "execution_count": 2,
   "id": "451f9c3f",
   "metadata": {},
   "outputs": [
    {
     "data": {
      "text/plain": [
       "(150, 2)"
      ]
     },
     "execution_count": 2,
     "metadata": {},
     "output_type": "execute_result"
    }
   ],
   "source": [
    "X.shape"
   ]
  },
  {
   "cell_type": "markdown",
   "id": "ad8d1bb1",
   "metadata": {},
   "source": [
    "## The following shows the first two rows of X"
   ]
  },
  {
   "cell_type": "code",
   "execution_count": 3,
   "id": "e1b29f64",
   "metadata": {},
   "outputs": [
    {
     "data": {
      "text/plain": [
       "array([[-9.30541326, -5.87056656],\n",
       "       [-8.39230398, -6.03004251]])"
      ]
     },
     "execution_count": 3,
     "metadata": {},
     "output_type": "execute_result"
    }
   ],
   "source": [
    "X[1:3]"
   ]
  },
  {
   "cell_type": "code",
   "execution_count": 4,
   "id": "09b615c7",
   "metadata": {},
   "outputs": [
    {
     "data": {
      "text/plain": [
       "(150,)"
      ]
     },
     "execution_count": 4,
     "metadata": {},
     "output_type": "execute_result"
    }
   ],
   "source": [
    "y.shape"
   ]
  },
  {
   "cell_type": "code",
   "execution_count": 7,
   "id": "c71bc3aa",
   "metadata": {},
   "outputs": [
    {
     "data": {
      "text/plain": [
       "(150, 2)"
      ]
     },
     "execution_count": 7,
     "metadata": {},
     "output_type": "execute_result"
    }
   ],
   "source": [
    "df_X = pd.DataFrame(X, columns=['X1','X2'])\n",
    "df_X.shape"
   ]
  },
  {
   "cell_type": "code",
   "execution_count": 8,
   "id": "738290e5",
   "metadata": {},
   "outputs": [
    {
     "data": {
      "text/plain": [
       "array([1, 1, 1, 0, 0, 1, 0, 0, 0])"
      ]
     },
     "execution_count": 8,
     "metadata": {},
     "output_type": "execute_result"
    }
   ],
   "source": [
    "y[1:10]"
   ]
  },
  {
   "cell_type": "markdown",
   "id": "c753db3d",
   "metadata": {},
   "source": [
    "## Note that y takes values of either 0 or 1. It labels the cluster membership of each sample case ( row of X)"
   ]
  },
  {
   "cell_type": "markdown",
   "id": "4de88fc6",
   "metadata": {},
   "source": [
    "## Reminder of np.dot() matrix multiplication versus element multiplication"
   ]
  },
  {
   "cell_type": "code",
   "execution_count": 9,
   "id": "2aa79779",
   "metadata": {},
   "outputs": [
    {
     "data": {
      "text/plain": [
       "array([-0.06737205,  1.6552049 ])"
      ]
     },
     "execution_count": 9,
     "metadata": {},
     "output_type": "execute_result"
    }
   ],
   "source": [
    "X[0]"
   ]
  },
  {
   "cell_type": "code",
   "execution_count": 11,
   "id": "258e08eb",
   "metadata": {},
   "outputs": [
    {
     "data": {
      "text/plain": [
       "array([-0.06737205,  1.6552049 ])"
      ]
     },
     "execution_count": 11,
     "metadata": {},
     "output_type": "execute_result"
    }
   ],
   "source": [
    "w=np.array( [1, 2] )\n",
    "x_1 = X[0] # the first row of the matrix X ( two dimensional array) \n",
    "x_1"
   ]
  },
  {
   "cell_type": "markdown",
   "id": "c9c24c13",
   "metadata": {},
   "source": [
    "## The following does element by element multiplication on arrays\n",
    "  # array ( [w[0]*x_1[0] , w[1]*x_1[1] ] )\n",
    "  \n",
    "# The result is an array"
   ]
  },
  {
   "cell_type": "code",
   "execution_count": 12,
   "id": "7b3a9e4d",
   "metadata": {},
   "outputs": [
    {
     "data": {
      "text/plain": [
       "array([-0.06737205,  3.3104098 ])"
      ]
     },
     "execution_count": 12,
     "metadata": {},
     "output_type": "execute_result"
    }
   ],
   "source": [
    "w*x_1"
   ]
  },
  {
   "cell_type": "markdown",
   "id": "28e011fd",
   "metadata": {},
   "source": [
    "## np.dot(W,x_1) generates a singe number, not an array"
   ]
  },
  {
   "cell_type": "markdown",
   "id": "b2d187a1",
   "metadata": {},
   "source": [
    "## np.dot(w , x_1) = w[0]*x_1[0] + w[1]*x_1[1] \n",
    " # Here is an example"
   ]
  },
  {
   "cell_type": "code",
   "execution_count": 13,
   "id": "0b5184f8",
   "metadata": {},
   "outputs": [
    {
     "data": {
      "text/plain": [
       "3.2430377413068676"
      ]
     },
     "execution_count": 13,
     "metadata": {},
     "output_type": "execute_result"
    }
   ],
   "source": [
    "np.dot(w,x_1)"
   ]
  },
  {
   "cell_type": "code",
   "execution_count": 337,
   "id": "fbf63e79",
   "metadata": {},
   "outputs": [
    {
     "data": {
      "text/plain": [
       "array([-0.06737205,  1.6552049 ])"
      ]
     },
     "execution_count": 337,
     "metadata": {},
     "output_type": "execute_result"
    }
   ],
   "source": [
    "x_0 =X[0]\n",
    "x_0"
   ]
  },
  {
   "cell_type": "markdown",
   "id": "5270764e",
   "metadata": {},
   "source": [
    "## The following inserts 1 in x_0 ( the 0 row of X) and reshapes the array"
   ]
  },
  {
   "cell_type": "code",
   "execution_count": 338,
   "id": "ccd26635",
   "metadata": {},
   "outputs": [
    {
     "data": {
      "text/plain": [
       "array([[ 1.        ],\n",
       "       [-0.06737205],\n",
       "       [ 1.6552049 ]])"
      ]
     },
     "execution_count": 338,
     "metadata": {},
     "output_type": "execute_result"
    }
   ],
   "source": [
    "x_0 = np.insert(x_0, 0, 1).reshape(-1,1)\n",
    "x_0"
   ]
  },
  {
   "cell_type": "markdown",
   "id": "b4e7bdcb",
   "metadata": {},
   "source": [
    "## The following graphes the data in the feature space"
   ]
  },
  {
   "cell_type": "code",
   "execution_count": 14,
   "id": "6f5ef796",
   "metadata": {},
   "outputs": [
    {
     "data": {
      "text/plain": [
       "Text(0.5, 1.0, 'Random Classification Data with 2 classes')"
      ]
     },
     "execution_count": 14,
     "metadata": {},
     "output_type": "execute_result"
    },
    {
     "data": {
      "image/png": "[encoded data removed]",
      "text/plain": [
       "<Figure size 1000x800 with 1 Axes>"
      ]
     },
     "metadata": {},
     "output_type": "display_data"
    }
   ],
   "source": [
    "fig = plt.figure(figsize=(10,8))\n",
    "plt.plot(X[:, 0][y == 0], X[:, 1][y == 0], 'r^')\n",
    "plt.plot(X[:, 0][y == 1], X[:, 1][y == 1], 'bs')\n",
    "plt.xlabel(\"feature 1\")\n",
    "plt.ylabel(\"feature 2\")\n",
    "plt.title('Random Classification Data with 2 classes')"
   ]
  },
  {
   "cell_type": "markdown",
   "id": "c98ee75a",
   "metadata": {},
   "source": [
    "## There are two classes, red and green. \n",
    "## We want to separate them by drawing a straight line between them.\n",
    "## Or, more formally, we want to learn a set of parameters,  w, to find an optimal hyperplane(straight line for our data) that separates the two classes."
   ]
  },
  {
   "cell_type": "markdown",
   "id": "01dea3f5",
   "metadata": {},
   "source": [
    "## We learned two methods that we can use here:\n",
    " # ( i )  Linear regression\n",
    " # ( ii ) Logistic regression"
   ]
  },
  {
   "cell_type": "markdown",
   "id": "1594dadf",
   "metadata": {},
   "source": [
    "## The perception algorith is a third method"
   ]
  },
  {
   "cell_type": "markdown",
   "id": "06ed8bde",
   "metadata": {},
   "source": [
    "## The Perceptron algorithm may look similar to logistic regression. However, it is actually a very different type of algorithm.\n",
    "\n",
    "## It is difficult to endow the perceptron’s predictions with meaningful probabilistic interpretations, or \n",
    " ## derive the perceptron as a maximum likelihood estimation algorithm."
   ]
  },
  {
   "cell_type": "markdown",
   "id": "2757f568",
   "metadata": {},
   "source": [
    "## Here is a function that implements the algorithm"
   ]
  },
  {
   "cell_type": "markdown",
   "id": "c36cf77d",
   "metadata": {},
   "source": [
    "## First we write a simple step function needed for implementing the perceptron"
   ]
  },
  {
   "cell_type": "code",
   "execution_count": 15,
   "id": "7ef3230b",
   "metadata": {},
   "outputs": [],
   "source": [
    "def step_func(x):\n",
    "    if x <= 0:\n",
    "        return 0\n",
    "    else:\n",
    "        return 1"
   ]
  },
  {
   "cell_type": "code",
   "execution_count": 16,
   "id": "e232c006",
   "metadata": {},
   "outputs": [
    {
     "name": "stdout",
     "output_type": "stream",
     "text": [
      "step_func(-0.4)=  0\n",
      "step_func(-0.4)=  1\n"
     ]
    }
   ],
   "source": [
    "print( 'step_func(-0.4)= ' ,step_func(-0.4) )\n",
    "print( 'step_func(-0.4)= ', step_func(0.4) )"
   ]
  },
  {
   "cell_type": "markdown",
   "id": "220a6176",
   "metadata": {},
   "source": [
    "## The following is  an iteration over the rows of X and \n",
    " # idx is the position in X from which we access row i of X,  x_i "
   ]
  },
  {
   "cell_type": "code",
   "execution_count": 17,
   "id": "743bdb90",
   "metadata": {},
   "outputs": [
    {
     "name": "stdout",
     "output_type": "stream",
     "text": [
      "0 [-0.06737205  1.6552049 ]\n",
      "1 [-9.30541326 -5.87056656]\n",
      "2 [-8.39230398 -6.03004251]\n",
      "3 [-10.89161048  -6.41470608]\n",
      "4 [-1.12409355  2.96997201]\n",
      "5 [1.35247822 1.0057011 ]\n",
      "6 [-9.20556957 -6.82210232]\n",
      "7 [-0.26903787  2.8910569 ]\n",
      "8 [0.1863898  1.82340597]\n",
      "9 [-0.70394224  3.75648474]\n",
      "10 [0.4978428  2.28803253]\n",
      "11 [-8.63868797 -7.38020955]\n",
      "12 [-0.0827419   2.49305956]\n",
      "13 [-8.49703304 -8.50079078]\n",
      "14 [-9.26917159 -6.39354672]\n",
      "15 [-0.07444848  0.98356733]\n",
      "16 [-9.82962415 -8.31892901]\n",
      "17 [-8.24399652 -5.62688075]\n",
      "18 [0.91468043 2.48940253]\n",
      "19 [0.29525405 3.45028066]\n",
      "20 [0.53537274 3.83148837]\n",
      "21 [1.28134047 1.94236878]\n",
      "22 [-9.24360592 -7.22771255]\n",
      "23 [-10.72791044  -7.40791623]\n",
      "24 [1.00957769 1.79023929]\n",
      "25 [-8.61994693 -6.26063942]\n",
      "26 [-9.33220609 -5.26671363]\n",
      "27 [-1.43422529  1.76402349]\n",
      "28 [1.40525591 1.24892394]\n",
      "29 [-10.45463229  -7.67716   ]\n",
      "30 [-9.23576253 -7.61328608]\n",
      "31 [-10.80232189  -8.28413707]\n",
      "32 [-0.46511905  1.04961231]\n",
      "33 [2.01509141 0.24185627]\n",
      "34 [0.64577128 3.19176081]\n",
      "35 [1.02760784 0.84820538]\n",
      "36 [-9.01738167 -7.23159884]\n",
      "37 [-12.30380314  -7.60397737]\n",
      "38 [-1.7432628   0.50312245]\n",
      "39 [-11.05767013  -6.11255131]\n",
      "40 [-10.92251242  -6.23182431]\n",
      "41 [-0.71495412  1.61999122]\n",
      "42 [-8.55444322 -6.7170203 ]\n",
      "43 [-9.56901691 -7.9714132 ]\n",
      "44 [-8.58827963 -8.3204805 ]\n",
      "45 [-9.34491594 -7.00551755]\n",
      "46 [-6.50625532 -4.96962889]\n",
      "47 [0.48235066 0.9099313 ]\n",
      "48 [0.06348075 0.80632547]\n",
      "49 [ 1.33750362 -0.83492117]\n",
      "50 [-9.7240012  -5.45372094]\n",
      "51 [1.17606376 1.4899594 ]\n",
      "52 [-11.58570654  -6.7445453 ]\n",
      "53 [-10.91009743  -5.65511451]\n",
      "54 [0.50322242 1.60707869]\n",
      "55 [0.99869892 1.75948035]\n",
      "56 [0.37150549 0.98174356]\n",
      "57 [-0.64419542  3.36935908]\n",
      "58 [-8.16868424 -7.4310532 ]\n",
      "59 [-8.24012733 -6.0149708 ]\n",
      "60 [0.57681797 1.62417123]\n",
      "61 [-0.86253547  2.05435354]\n",
      "62 [-1.7911041  2.1904799]\n",
      "63 [-8.73643481 -6.91913372]\n",
      "64 [1.0116464  1.07806779]\n",
      "65 [-9.18892407 -5.91997598]\n",
      "66 [-8.79121531 -6.26877024]\n",
      "67 [-10.40554786  -4.7678192 ]\n",
      "68 [-7.59090033 -5.83924281]\n",
      "69 [-0.69198964 -0.18509778]\n",
      "70 [0.52830659 3.49104693]\n",
      "71 [-10.51157149  -8.17066519]\n",
      "72 [-9.56216531 -7.56243441]\n",
      "73 [-1.46341767  0.19627635]\n",
      "74 [0.64888564 1.66868823]\n",
      "75 [-10.89871963  -6.79984313]\n",
      "76 [-9.84115889 -4.73891608]\n",
      "77 [ 0.94416221 -0.28906348]\n",
      "78 [-7.29949408 -7.66824318]\n",
      "79 [-0.72747371  0.63447255]\n",
      "80 [-9.46666869 -5.84673803]\n",
      "81 [0.73330438 3.60157119]\n",
      "82 [-9.92270957 -5.66646499]\n",
      "83 [-0.65192652  2.41616107]\n",
      "84 [1.09344747 0.5071059 ]\n",
      "85 [-10.0399176   -5.30008823]\n",
      "86 [2.59056132 0.77257994]\n",
      "87 [ 1.23534568 -0.22562628]\n",
      "88 [-9.89868189 -5.84939942]\n",
      "89 [-0.86550427  1.41373654]\n",
      "90 [-10.19645512  -7.32568211]\n",
      "91 [0.88322672 0.79490118]\n",
      "92 [-10.2735008   -6.83572023]\n",
      "93 [0.5244533  0.64386433]\n",
      "94 [0.67220953 2.12156118]\n",
      "95 [-10.56568966  -6.56993958]\n",
      "96 [1.03938442 1.44076249]\n",
      "97 [-10.00893527  -5.58041965]\n",
      "98 [-9.59355501 -7.63345629]\n",
      "99 [-9.47847577 -6.55652484]\n",
      "100 [-1.12667493  0.01720868]\n",
      "101 [1.04324231 2.50023307]\n",
      "102 [-7.1568233  -7.90016906]\n",
      "103 [-0.56250828  2.04961535]\n",
      "104 [1.08479953 0.1291156 ]\n",
      "105 [-9.33528179 -5.18176576]\n",
      "106 [0.57800586 3.50983664]\n",
      "107 [-0.19398667  0.62157855]\n",
      "108 [-9.52427883 -5.83607215]\n",
      "109 [0.20536057 3.41019427]\n",
      "110 [-0.48192248  1.52935302]\n",
      "111 [-9.73003508 -4.37450077]\n",
      "112 [1.00186834 0.46299684]\n",
      "113 [-10.23474205  -5.55915275]\n",
      "114 [-8.37625652 -5.48605522]\n",
      "115 [-0.56998329  3.03244167]\n",
      "116 [-9.743873   -6.53896833]\n",
      "117 [-10.32811837  -4.88661056]\n",
      "118 [0.29481445 2.09566886]\n",
      "119 [-7.76541246 -5.59342614]\n",
      "120 [0.6886887  1.61944082]\n",
      "121 [0.15731108 1.92345091]\n",
      "122 [-8.1076166  -7.03986015]\n",
      "123 [-8.48254832 -7.13437149]\n",
      "124 [-10.57232315  -9.26572214]\n",
      "125 [1.37017468 2.66520441]\n",
      "126 [-0.66260417  1.92234097]\n",
      "127 [-10.00513835  -6.04800357]\n",
      "128 [-10.58309314  -8.57297614]\n",
      "129 [-9.37417094 -8.79043563]\n",
      "130 [-8.59668054 -5.1418693 ]\n",
      "131 [-0.77114596  2.77075454]\n",
      "132 [-0.2311215   3.63696549]\n",
      "133 [-8.52374009 -7.69998691]\n",
      "134 [-9.64659738 -3.95087718]\n",
      "135 [3.0642382  2.13103607]\n",
      "136 [-12.3043598   -4.97087666]\n",
      "137 [-9.6613911  -6.26213199]\n",
      "138 [0.14521319 2.23249844]\n",
      "139 [1.15045441 0.66895031]\n",
      "140 [0.52610263 0.61653608]\n",
      "141 [-0.51691153  1.67957718]\n",
      "142 [-1.21291717  0.89455161]\n",
      "143 [-9.0025497  -5.72133199]\n",
      "144 [-9.08310657 -7.68576821]\n",
      "145 [-8.07577404 -8.12180221]\n",
      "146 [-10.40513054  -5.68031778]\n",
      "147 [-9.15099835 -6.13635771]\n",
      "148 [-0.80652248  2.36086938]\n",
      "149 [0.74008581 1.64591696]\n"
     ]
    }
   ],
   "source": [
    "for idx, x_i in enumerate(X):\n",
    "    print(idx, x_i)"
   ]
  },
  {
   "cell_type": "markdown",
   "id": "cdfe51bb",
   "metadata": {},
   "source": [
    "## The logic of the algorithm\n",
    "\n",
    " # The data in X is given. Our decision can't change this data. However, we can change how do we weigh the evidence. That is we can change the weights, w. \n",
    "\n",
    "## Generally, there are n columns in X. We normally add a column to allow for a bias. allowing for a bias is like allowing an intercept in the regression. This leads to a column of ones. \n",
    "\n",
    "## The weight array is {w0,w1, ..., wn), \n",
    "  # in this case n = 2\n",
    "# let x_i be row i of the augomented X\n",
    "\n",
    " #  x_i[1 , x_i[ 1], x_i[2]  ]\n",
    " \n",
    " # the weight w array is,\n",
    " \n",
    " # w = [w[0] , w[1], w[2] ]\n",
    "\n",
    "## Algorithm outline:\n",
    " # ( 1) calculates a prediction in two steps:\n",
    "   # sum(w[ j ]*x[ j ] ). Here we use the array dot multiplication\n",
    "   # sum(w[ j ]*x[ j ] ) = np.dot(w,x_i)\n",
    "   \n",
    "  # (2) Pass the outcome into a step-function and generate a prediction\n",
    "   # y_hat = step_func(np.dot(w,x_i)). \n",
    "   # Specifically,\n",
    "   \n",
    "   # y_hat = 1   if  np.dot(w,x_i) > 0 \n",
    "   # y_hat = 0   if  np.dot(w,x_i) <= 0\n",
    "   \n",
    "  # (3) Calculate prediction error as,\n",
    "   # error = y_i - y_hat, \n",
    "   # where y_i is the correct classification \n",
    "   \n",
    " # ( 4)\n",
    "   # (i)  If the prediction is correct, do not update w w. \n",
    "   # It is like if it is working, don't fix it.\n",
    "   \n",
    "   # (ii) If the prediction is not correct, update w according to the following rule.\n",
    "   \n",
    "   # w_new = w_old + lr*error\n",
    " \n",
    "## lr is the learning rate. It is a parameter that determines the speed of adjustment. If it is large we risk skipping an optimal solution.   "
   ]
  },
  {
   "cell_type": "markdown",
   "id": "9f05ce36",
   "metadata": {},
   "source": [
    "## Let us examine two cases each with two possibilities"
   ]
  },
  {
   "cell_type": "markdown",
   "id": "b46ed271",
   "metadata": {},
   "source": [
    "# Case 1\n",
    "  \n",
    "  # np.dot(w,x_i) > 0.\n",
    "  \n",
    "  # This implies, \n",
    "   #      y_hat =  1 ; \n",
    "   \n",
    "   # Case 1.a\n",
    "   #   y_i = 1\n",
    " # Thus,\n",
    "  # error =y_i  - y_hat =  1 -1 = 0\n",
    "   \n",
    "  # w_new = w_old + lr* error = w_old\n",
    "  # w does not get updated\n",
    "\n",
    " # # Case 1.b\n",
    "   # y_i = 0\n",
    "   # error =y_i  - y_hat = 0 -1 = -1\n",
    "   # w_new = w_old + lr* error *x_i \n",
    "   # = w_old  - lr*x_i\n",
    " # This adjustment causes the w_new to be less correlated with a new similar observation  in the data. \n",
    " # This likely to flip prediction that the current prediction failed to classify"
   ]
  },
  {
   "cell_type": "markdown",
   "id": "f9c5c33b",
   "metadata": {},
   "source": [
    " \n",
    " ## Case 2\n",
    " # np.dot(w,x_i) <= 0.\n",
    "  \n",
    "  # This implies, \n",
    "   #      y_hat =  0 ; \n",
    "   \n",
    "   # Case 2.a\n",
    "   #   y_i = 1\n",
    " # Thus \n",
    "   # error = y_i  -  y_hat = 1 - 0 = 1\n",
    "  # w_new = w_old + lr* error *x_i \n",
    "  #              = w_old + lr*x_i\n",
    "  # Here we update w by adding the learning rate * the observation array. This has the impact of reduce the negative correlation between then w_new array and the array of an observations similar to the one that we misclassified\n",
    "\n",
    " # # Case 2.b\n",
    "   # y_i = 0\n",
    "   # error =y_i  - y_hat = 0 -0 = -1\n",
    "   # w_new = w_old \n",
    " # W is not updated\n",
    " "
   ]
  },
  {
   "cell_type": "markdown",
   "id": "da545da9",
   "metadata": {},
   "source": [
    "## The following function implements this algorithm"
   ]
  },
  {
   "cell_type": "markdown",
   "id": "f2bb4449",
   "metadata": {},
   "source": [
    "## First we will verify how some array operations work"
   ]
  },
  {
   "cell_type": "markdown",
   "id": "4c77bdfe",
   "metadata": {},
   "source": [
    "## Here we extract a  row i from X and inserting a column of ones as the first column"
   ]
  },
  {
   "cell_type": "code",
   "execution_count": 18,
   "id": "7d561885",
   "metadata": {},
   "outputs": [
    {
     "data": {
      "text/plain": [
       "array([ 1.        , -0.06737205,  1.6552049 ])"
      ]
     },
     "execution_count": 18,
     "metadata": {},
     "output_type": "execute_result"
    }
   ],
   "source": [
    "i = 0\n",
    "x_i = X[i]\n",
    "np.insert(x_i, 0, 1)"
   ]
  },
  {
   "cell_type": "markdown",
   "id": "5353c5fb",
   "metadata": {},
   "source": [
    "## here (i) take a row of X after inserting the bias column, \n",
    " #      (ii) create a random array of w = [w0,w1,w2]\n",
    " #      (iii) calculate the sum product as an array dot product\n",
    " #      (iv) apply the step_func to generate y_hat"
   ]
  },
  {
   "cell_type": "code",
   "execution_count": 24,
   "id": "6cffb776",
   "metadata": {},
   "outputs": [
    {
     "name": "stdout",
     "output_type": "stream",
     "text": [
      "x_i.T =  [ 1.         -0.06737205  1.6552049 ]\n",
      "w =      [0.82106515 0.7354192  0.37400211]\n",
      "sumproduct =  1.3905685689819536\n",
      "prediction =  1\n",
      "target =  0\n",
      "error = (tsrget - prediction) =  -1\n"
     ]
    }
   ],
   "source": [
    "x_i = X[i]\n",
    "x_i =np.insert(x_i, 0, 1)\n",
    "w = np.random.uniform(0,1,3)\n",
    "s= np.dot(x_i, w)\n",
    "y_hat = step_func(s)\n",
    "print('x_i.T = ' , x_i.T)\n",
    "print ('w =     ' , w)\n",
    "print('sumproduct = ' , s)\n",
    "print('prediction = ' , y_hat)\n",
    "print ( 'target = ' , y[i])\n",
    "error = y[i] - y_hat\n",
    "print( 'error = (tsrget - prediction) = ', error)"
   ]
  },
  {
   "cell_type": "markdown",
   "id": "c8076b0a",
   "metadata": {},
   "source": [
    "## The above example results in misclassification"
   ]
  },
  {
   "cell_type": "markdown",
   "id": "0f41c23c",
   "metadata": {},
   "source": [
    "## Verify that this code informs us about the number of observations and the number of features "
   ]
  },
  {
   "cell_type": "code",
   "execution_count": 580,
   "id": "7b0abaab",
   "metadata": {},
   "outputs": [
    {
     "name": "stdout",
     "output_type": "stream",
     "text": [
      "150 2\n"
     ]
    }
   ],
   "source": [
    " m, n = X.shape\n",
    "print (m, n)"
   ]
  },
  {
   "cell_type": "markdown",
   "id": "5a542393",
   "metadata": {},
   "source": [
    "# The percep function uses operations like the above"
   ]
  },
  {
   "cell_type": "code",
   "execution_count": 30,
   "id": "952747d1",
   "metadata": {},
   "outputs": [],
   "source": [
    "import random"
   ]
  },
  {
   "cell_type": "code",
   "execution_count": 31,
   "id": "57d7e520",
   "metadata": {},
   "outputs": [],
   "source": [
    "def percep(X, y, lr, epochs):\n",
    "    \n",
    "    # X --> Inputs.\n",
    "    # y --> labels/target.\n",
    "    # lr --> learning rate.\n",
    "    # epochs --> Number of iterations.\n",
    "    \n",
    "    # m-> number of training examples (i.e. number of observations)\n",
    "    # n-> number of features \n",
    "    m, n = X.shape\n",
    "    \n",
    "    # Initializing parapeters(w) to zeros.\n",
    "    # +1 in n+1 for the bias term.\n",
    "    #w = np.zeros((n+1,1))\n",
    "    random.seed(2) # fixing the seed alows replication of the code results\n",
    "    w = np.random.uniform(0,1,3)\n",
    "    print( 'initial w = ' , w)\n",
    "    # Empty list to store how many examples were \n",
    "    # misclassified at every iteration.\n",
    "    n_miss_list = []\n",
    "    \n",
    "    # Training.\n",
    "    for epoch in range(epochs):\n",
    "        \n",
    "        # variable to store #misclassified.\n",
    "        n_miss = 0\n",
    "        \n",
    "        # looping for every example.\n",
    "        for idx, x_i in enumerate(X):\n",
    "            \n",
    "            # Insering 1 for bias, X0 = 1.\n",
    "            x_i = np.insert(x_i, 0, 1)\n",
    "            \n",
    "            # Calculating prediction/hypothesis.\n",
    "            y_hat = step_func(np.dot(x_i.T, w))\n",
    "            print ( 'w = ', w)\n",
    "            print ( 'x_i.T = ', x_i)\n",
    "            print ('y_hat = ', y_hat)\n",
    "            error =  y[idx]- y_hat\n",
    "            print( 'error = ' , error)\n",
    "            print('---------------------')\n",
    "            # Updating if the example is misclassified.\n",
    "            if ( y_hat - y[idx] ) != 0:\n",
    "               \n",
    "                print ( 'pre-update w = ', w)\n",
    "                w += lr*error*x_i\n",
    "               #w += lr*((y[idx] - y_hat)*x_i)\n",
    "                print ( 'updated w = ', w)\n",
    "                print('---------------------')\n",
    "                # Incrementing by 1.\n",
    "                n_miss += 1\n",
    "        \n",
    "        # Appending number of misclassified examples\n",
    "        # at every iteration.\n",
    "        n_miss_list.append(n_miss)\n",
    "        \n",
    "    return w, n_miss_list"
   ]
  },
  {
   "cell_type": "code",
   "execution_count": 32,
   "id": "a9dc3ebb",
   "metadata": {},
   "outputs": [
    {
     "name": "stdout",
     "output_type": "stream",
     "text": [
      "initial w =  [0.84147858 0.15047735 0.5621141 ]\n",
      "w =  [0.84147858 0.15047735 0.5621141 ]\n",
      "x_i.T =  [ 1.         -0.06737205  1.6552049 ]\n",
      "y_hat =  1\n",
      "error =  -1\n",
      "---------------------\n",
      "pre-update w =  [0.84147858 0.15047735 0.5621141 ]\n",
      "updated w =  [ 0.34147858  0.18416338 -0.26548835]\n",
      "---------------------\n",
      "w =  [ 0.34147858  0.18416338 -0.26548835]\n",
      "x_i.T =  [ 1.         -9.30541326 -5.87056656]\n",
      "y_hat =  1\n",
      "error =  0\n",
      "---------------------\n",
      "w =  [ 0.34147858  0.18416338 -0.26548835]\n",
      "x_i.T =  [ 1.         -8.39230398 -6.03004251]\n",
      "y_hat =  1\n",
      "error =  0\n",
      "---------------------\n",
      "w =  [ 0.34147858  0.18416338 -0.26548835]\n",
      "x_i.T =  [  1.         -10.89161048  -6.41470608]\n",
      "y_hat =  1\n",
      "error =  0\n",
      "---------------------\n",
      "w =  [ 0.34147858  0.18416338 -0.26548835]\n",
      "x_i.T =  [ 1.         -1.12409355  2.96997201]\n",
      "y_hat =  0\n",
      "error =  0\n",
      "---------------------\n",
      "w =  [ 0.34147858  0.18416338 -0.26548835]\n",
      "x_i.T =  [1.         1.35247822 1.0057011 ]\n",
      "y_hat =  1\n",
      "error =  -1\n",
      "---------------------\n",
      "pre-update w =  [ 0.34147858  0.18416338 -0.26548835]\n",
      "updated w =  [-0.15852142 -0.49207573 -0.7683389 ]\n",
      "---------------------\n",
      "w =  [-0.15852142 -0.49207573 -0.7683389 ]\n",
      "x_i.T =  [ 1.         -9.20556957 -6.82210232]\n",
      "y_hat =  1\n",
      "error =  0\n",
      "---------------------\n",
      "w =  [-0.15852142 -0.49207573 -0.7683389 ]\n",
      "x_i.T =  [ 1.         -0.26903787  2.8910569 ]\n",
      "y_hat =  0\n",
      "error =  0\n",
      "---------------------\n",
      "w =  [-0.15852142 -0.49207573 -0.7683389 ]\n",
      "x_i.T =  [1.         0.1863898  1.82340597]\n",
      "y_hat =  0\n",
      "error =  0\n",
      "---------------------\n",
      "w =  [-0.15852142 -0.49207573 -0.7683389 ]\n",
      "x_i.T =  [ 1.         -0.70394224  3.75648474]\n",
      "y_hat =  0\n",
      "error =  0\n",
      "---------------------\n",
      "w =  [-0.15852142 -0.49207573 -0.7683389 ]\n",
      "x_i.T =  [1.         0.4978428  2.28803253]\n",
      "y_hat =  0\n",
      "error =  0\n",
      "---------------------\n",
      "w =  [-0.15852142 -0.49207573 -0.7683389 ]\n",
      "x_i.T =  [ 1.         -8.63868797 -7.38020955]\n",
      "y_hat =  1\n",
      "error =  0\n",
      "---------------------\n",
      "w =  [-0.15852142 -0.49207573 -0.7683389 ]\n",
      "x_i.T =  [ 1.         -0.0827419   2.49305956]\n",
      "y_hat =  0\n",
      "error =  0\n",
      "---------------------\n",
      "w =  [-0.15852142 -0.49207573 -0.7683389 ]\n",
      "x_i.T =  [ 1.         -8.49703304 -8.50079078]\n",
      "y_hat =  1\n",
      "error =  0\n",
      "---------------------\n",
      "w =  [-0.15852142 -0.49207573 -0.7683389 ]\n",
      "x_i.T =  [ 1.         -9.26917159 -6.39354672]\n",
      "y_hat =  1\n",
      "error =  0\n",
      "---------------------\n",
      "w =  [-0.15852142 -0.49207573 -0.7683389 ]\n",
      "x_i.T =  [ 1.         -0.07444848  0.98356733]\n",
      "y_hat =  0\n",
      "error =  0\n",
      "---------------------\n",
      "w =  [-0.15852142 -0.49207573 -0.7683389 ]\n",
      "x_i.T =  [ 1.         -9.82962415 -8.31892901]\n",
      "y_hat =  1\n",
      "error =  0\n",
      "---------------------\n",
      "w =  [-0.15852142 -0.49207573 -0.7683389 ]\n",
      "x_i.T =  [ 1.         -8.24399652 -5.62688075]\n",
      "y_hat =  1\n",
      "error =  0\n",
      "---------------------\n",
      "w =  [-0.15852142 -0.49207573 -0.7683389 ]\n",
      "x_i.T =  [1.         0.91468043 2.48940253]\n",
      "y_hat =  0\n",
      "error =  0\n",
      "---------------------\n",
      "w =  [-0.15852142 -0.49207573 -0.7683389 ]\n",
      "x_i.T =  [1.         0.29525405 3.45028066]\n",
      "y_hat =  0\n",
      "error =  0\n",
      "---------------------\n",
      "w =  [-0.15852142 -0.49207573 -0.7683389 ]\n",
      "x_i.T =  [1.         0.53537274 3.83148837]\n",
      "y_hat =  0\n",
      "error =  0\n",
      "---------------------\n",
      "w =  [-0.15852142 -0.49207573 -0.7683389 ]\n",
      "x_i.T =  [1.         1.28134047 1.94236878]\n",
      "y_hat =  0\n",
      "error =  0\n",
      "---------------------\n",
      "w =  [-0.15852142 -0.49207573 -0.7683389 ]\n",
      "x_i.T =  [ 1.         -9.24360592 -7.22771255]\n",
      "y_hat =  1\n",
      "error =  0\n",
      "---------------------\n",
      "w =  [-0.15852142 -0.49207573 -0.7683389 ]\n",
      "x_i.T =  [  1.         -10.72791044  -7.40791623]\n",
      "y_hat =  1\n",
      "error =  0\n",
      "---------------------\n",
      "w =  [-0.15852142 -0.49207573 -0.7683389 ]\n",
      "x_i.T =  [1.         1.00957769 1.79023929]\n",
      "y_hat =  0\n",
      "error =  0\n",
      "---------------------\n",
      "w =  [-0.15852142 -0.49207573 -0.7683389 ]\n",
      "x_i.T =  [ 1.         -8.61994693 -6.26063942]\n",
      "y_hat =  1\n",
      "error =  0\n",
      "---------------------\n",
      "w =  [-0.15852142 -0.49207573 -0.7683389 ]\n",
      "x_i.T =  [ 1.         -9.33220609 -5.26671363]\n",
      "y_hat =  1\n",
      "error =  0\n",
      "---------------------\n",
      "w =  [-0.15852142 -0.49207573 -0.7683389 ]\n",
      "x_i.T =  [ 1.         -1.43422529  1.76402349]\n",
      "y_hat =  0\n",
      "error =  0\n",
      "---------------------\n",
      "w =  [-0.15852142 -0.49207573 -0.7683389 ]\n",
      "x_i.T =  [1.         1.40525591 1.24892394]\n",
      "y_hat =  0\n",
      "error =  0\n",
      "---------------------\n",
      "w =  [-0.15852142 -0.49207573 -0.7683389 ]\n",
      "x_i.T =  [  1.         -10.45463229  -7.67716   ]\n",
      "y_hat =  1\n",
      "error =  0\n",
      "---------------------\n",
      "w =  [-0.15852142 -0.49207573 -0.7683389 ]\n",
      "x_i.T =  [ 1.         -9.23576253 -7.61328608]\n",
      "y_hat =  1\n",
      "error =  0\n",
      "---------------------\n",
      "w =  [-0.15852142 -0.49207573 -0.7683389 ]\n",
      "x_i.T =  [  1.         -10.80232189  -8.28413707]\n",
      "y_hat =  1\n",
      "error =  0\n",
      "---------------------\n",
      "w =  [-0.15852142 -0.49207573 -0.7683389 ]\n",
      "x_i.T =  [ 1.         -0.46511905  1.04961231]\n",
      "y_hat =  0\n",
      "error =  0\n",
      "---------------------\n",
      "w =  [-0.15852142 -0.49207573 -0.7683389 ]\n",
      "x_i.T =  [1.         2.01509141 0.24185627]\n",
      "y_hat =  0\n",
      "error =  0\n",
      "---------------------\n",
      "w =  [-0.15852142 -0.49207573 -0.7683389 ]\n",
      "x_i.T =  [1.         0.64577128 3.19176081]\n",
      "y_hat =  0\n",
      "error =  0\n",
      "---------------------\n",
      "w =  [-0.15852142 -0.49207573 -0.7683389 ]\n",
      "x_i.T =  [1.         1.02760784 0.84820538]\n",
      "y_hat =  0\n",
      "error =  0\n",
      "---------------------\n",
      "w =  [-0.15852142 -0.49207573 -0.7683389 ]\n",
      "x_i.T =  [ 1.         -9.01738167 -7.23159884]\n",
      "y_hat =  1\n",
      "error =  0\n",
      "---------------------\n",
      "w =  [-0.15852142 -0.49207573 -0.7683389 ]\n",
      "x_i.T =  [  1.         -12.30380314  -7.60397737]\n",
      "y_hat =  1\n",
      "error =  0\n",
      "---------------------\n",
      "w =  [-0.15852142 -0.49207573 -0.7683389 ]\n",
      "x_i.T =  [ 1.         -1.7432628   0.50312245]\n",
      "y_hat =  1\n",
      "error =  -1\n",
      "---------------------\n",
      "pre-update w =  [-0.15852142 -0.49207573 -0.7683389 ]\n",
      "updated w =  [-0.65852142  0.37955567 -1.01990013]\n",
      "---------------------\n",
      "w =  [-0.65852142  0.37955567 -1.01990013]\n",
      "x_i.T =  [  1.         -11.05767013  -6.11255131]\n",
      "y_hat =  1\n",
      "error =  0\n",
      "---------------------\n",
      "w =  [-0.65852142  0.37955567 -1.01990013]\n",
      "x_i.T =  [  1.         -10.92251242  -6.23182431]\n",
      "y_hat =  1\n",
      "error =  0\n",
      "---------------------\n",
      "w =  [-0.65852142  0.37955567 -1.01990013]\n",
      "x_i.T =  [ 1.         -0.71495412  1.61999122]\n",
      "y_hat =  0\n",
      "error =  0\n",
      "---------------------\n",
      "w =  [-0.65852142  0.37955567 -1.01990013]\n",
      "x_i.T =  [ 1.         -8.55444322 -6.7170203 ]\n",
      "y_hat =  1\n",
      "error =  0\n",
      "---------------------\n",
      "w =  [-0.65852142  0.37955567 -1.01990013]\n",
      "x_i.T =  [ 1.         -9.56901691 -7.9714132 ]\n",
      "y_hat =  1\n",
      "error =  0\n",
      "---------------------\n",
      "w =  [-0.65852142  0.37955567 -1.01990013]\n",
      "x_i.T =  [ 1.         -8.58827963 -8.3204805 ]\n",
      "y_hat =  1\n",
      "error =  0\n",
      "---------------------\n",
      "w =  [-0.65852142  0.37955567 -1.01990013]\n",
      "x_i.T =  [ 1.         -9.34491594 -7.00551755]\n",
      "y_hat =  1\n",
      "error =  0\n",
      "---------------------\n",
      "w =  [-0.65852142  0.37955567 -1.01990013]\n",
      "x_i.T =  [ 1.         -6.50625532 -4.96962889]\n",
      "y_hat =  1\n",
      "error =  0\n",
      "---------------------\n",
      "w =  [-0.65852142  0.37955567 -1.01990013]\n",
      "x_i.T =  [1.         0.48235066 0.9099313 ]\n",
      "y_hat =  0\n",
      "error =  0\n",
      "---------------------\n",
      "w =  [-0.65852142  0.37955567 -1.01990013]\n",
      "x_i.T =  [1.         0.06348075 0.80632547]\n",
      "y_hat =  0\n",
      "error =  0\n",
      "---------------------\n",
      "w =  [-0.65852142  0.37955567 -1.01990013]\n",
      "x_i.T =  [ 1.          1.33750362 -0.83492117]\n",
      "y_hat =  1\n",
      "error =  -1\n",
      "---------------------\n",
      "pre-update w =  [-0.65852142  0.37955567 -1.01990013]\n",
      "updated w =  [-1.15852142 -0.28919614 -0.60243954]\n",
      "---------------------\n",
      "w =  [-1.15852142 -0.28919614 -0.60243954]\n",
      "x_i.T =  [ 1.         -9.7240012  -5.45372094]\n",
      "y_hat =  1\n",
      "error =  0\n",
      "---------------------\n",
      "w =  [-1.15852142 -0.28919614 -0.60243954]\n",
      "x_i.T =  [1.         1.17606376 1.4899594 ]\n",
      "y_hat =  0\n",
      "error =  0\n",
      "---------------------\n",
      "w =  [-1.15852142 -0.28919614 -0.60243954]\n",
      "x_i.T =  [  1.         -11.58570654  -6.7445453 ]\n",
      "y_hat =  1\n",
      "error =  0\n",
      "---------------------\n",
      "w =  [-1.15852142 -0.28919614 -0.60243954]\n",
      "x_i.T =  [  1.         -10.91009743  -5.65511451]\n",
      "y_hat =  1\n",
      "error =  0\n",
      "---------------------\n",
      "w =  [-1.15852142 -0.28919614 -0.60243954]\n",
      "x_i.T =  [1.         0.50322242 1.60707869]\n",
      "y_hat =  0\n",
      "error =  0\n",
      "---------------------\n",
      "w =  [-1.15852142 -0.28919614 -0.60243954]\n",
      "x_i.T =  [1.         0.99869892 1.75948035]\n",
      "y_hat =  0\n",
      "error =  0\n",
      "---------------------\n",
      "w =  [-1.15852142 -0.28919614 -0.60243954]\n",
      "x_i.T =  [1.         0.37150549 0.98174356]\n",
      "y_hat =  0\n",
      "error =  0\n",
      "---------------------\n",
      "w =  [-1.15852142 -0.28919614 -0.60243954]\n",
      "x_i.T =  [ 1.         -0.64419542  3.36935908]\n",
      "y_hat =  0\n",
      "error =  0\n",
      "---------------------\n",
      "w =  [-1.15852142 -0.28919614 -0.60243954]\n",
      "x_i.T =  [ 1.         -8.16868424 -7.4310532 ]\n",
      "y_hat =  1\n",
      "error =  0\n",
      "---------------------\n",
      "w =  [-1.15852142 -0.28919614 -0.60243954]\n",
      "x_i.T =  [ 1.         -8.24012733 -6.0149708 ]\n",
      "y_hat =  1\n",
      "error =  0\n",
      "---------------------\n",
      "w =  [-1.15852142 -0.28919614 -0.60243954]\n",
      "x_i.T =  [1.         0.57681797 1.62417123]\n",
      "y_hat =  0\n",
      "error =  0\n",
      "---------------------\n",
      "w =  [-1.15852142 -0.28919614 -0.60243954]\n",
      "x_i.T =  [ 1.         -0.86253547  2.05435354]\n",
      "y_hat =  0\n",
      "error =  0\n",
      "---------------------\n",
      "w =  [-1.15852142 -0.28919614 -0.60243954]\n",
      "x_i.T =  [ 1.        -1.7911041  2.1904799]\n",
      "y_hat =  0\n",
      "error =  0\n",
      "---------------------\n",
      "w =  [-1.15852142 -0.28919614 -0.60243954]\n",
      "x_i.T =  [ 1.         -8.73643481 -6.91913372]\n",
      "y_hat =  1\n",
      "error =  0\n",
      "---------------------\n",
      "w =  [-1.15852142 -0.28919614 -0.60243954]\n",
      "x_i.T =  [1.         1.0116464  1.07806779]\n",
      "y_hat =  0\n",
      "error =  0\n",
      "---------------------\n",
      "w =  [-1.15852142 -0.28919614 -0.60243954]\n",
      "x_i.T =  [ 1.         -9.18892407 -5.91997598]\n",
      "y_hat =  1\n",
      "error =  0\n",
      "---------------------\n",
      "w =  [-1.15852142 -0.28919614 -0.60243954]\n",
      "x_i.T =  [ 1.         -8.79121531 -6.26877024]\n",
      "y_hat =  1\n",
      "error =  0\n",
      "---------------------\n",
      "w =  [-1.15852142 -0.28919614 -0.60243954]\n",
      "x_i.T =  [  1.         -10.40554786  -4.7678192 ]\n",
      "y_hat =  1\n",
      "error =  0\n",
      "---------------------\n",
      "w =  [-1.15852142 -0.28919614 -0.60243954]\n",
      "x_i.T =  [ 1.         -7.59090033 -5.83924281]\n",
      "y_hat =  1\n",
      "error =  0\n",
      "---------------------\n",
      "w =  [-1.15852142 -0.28919614 -0.60243954]\n",
      "x_i.T =  [ 1.         -0.69198964 -0.18509778]\n",
      "y_hat =  0\n",
      "error =  0\n",
      "---------------------\n",
      "w =  [-1.15852142 -0.28919614 -0.60243954]\n",
      "x_i.T =  [1.         0.52830659 3.49104693]\n",
      "y_hat =  0\n",
      "error =  0\n",
      "---------------------\n",
      "w =  [-1.15852142 -0.28919614 -0.60243954]\n",
      "x_i.T =  [  1.         -10.51157149  -8.17066519]\n",
      "y_hat =  1\n",
      "error =  0\n",
      "---------------------\n",
      "w =  [-1.15852142 -0.28919614 -0.60243954]\n",
      "x_i.T =  [ 1.         -9.56216531 -7.56243441]\n",
      "y_hat =  1\n",
      "error =  0\n",
      "---------------------\n",
      "w =  [-1.15852142 -0.28919614 -0.60243954]\n",
      "x_i.T =  [ 1.         -1.46341767  0.19627635]\n",
      "y_hat =  0\n",
      "error =  0\n",
      "---------------------\n",
      "w =  [-1.15852142 -0.28919614 -0.60243954]\n",
      "x_i.T =  [1.         0.64888564 1.66868823]\n",
      "y_hat =  0\n",
      "error =  0\n",
      "---------------------\n",
      "w =  [-1.15852142 -0.28919614 -0.60243954]\n",
      "x_i.T =  [  1.         -10.89871963  -6.79984313]\n",
      "y_hat =  1\n",
      "error =  0\n",
      "---------------------\n",
      "w =  [-1.15852142 -0.28919614 -0.60243954]\n",
      "x_i.T =  [ 1.         -9.84115889 -4.73891608]\n",
      "y_hat =  1\n",
      "error =  0\n",
      "---------------------\n",
      "w =  [-1.15852142 -0.28919614 -0.60243954]\n",
      "x_i.T =  [ 1.          0.94416221 -0.28906348]\n",
      "y_hat =  0\n",
      "error =  0\n",
      "---------------------\n",
      "w =  [-1.15852142 -0.28919614 -0.60243954]\n",
      "x_i.T =  [ 1.         -7.29949408 -7.66824318]\n",
      "y_hat =  1\n",
      "error =  0\n",
      "---------------------\n",
      "w =  [-1.15852142 -0.28919614 -0.60243954]\n",
      "x_i.T =  [ 1.         -0.72747371  0.63447255]\n",
      "y_hat =  0\n",
      "error =  0\n",
      "---------------------\n",
      "w =  [-1.15852142 -0.28919614 -0.60243954]\n",
      "x_i.T =  [ 1.         -9.46666869 -5.84673803]\n",
      "y_hat =  1\n",
      "error =  0\n",
      "---------------------\n",
      "w =  [-1.15852142 -0.28919614 -0.60243954]\n",
      "x_i.T =  [1.         0.73330438 3.60157119]\n",
      "y_hat =  0\n",
      "error =  0\n",
      "---------------------\n",
      "w =  [-1.15852142 -0.28919614 -0.60243954]\n",
      "x_i.T =  [ 1.         -9.92270957 -5.66646499]\n",
      "y_hat =  1\n",
      "error =  0\n",
      "---------------------\n",
      "w =  [-1.15852142 -0.28919614 -0.60243954]\n",
      "x_i.T =  [ 1.         -0.65192652  2.41616107]\n",
      "y_hat =  0\n",
      "error =  0\n",
      "---------------------\n",
      "w =  [-1.15852142 -0.28919614 -0.60243954]\n",
      "x_i.T =  [1.         1.09344747 0.5071059 ]\n",
      "y_hat =  0\n",
      "error =  0\n",
      "---------------------\n",
      "w =  [-1.15852142 -0.28919614 -0.60243954]\n",
      "x_i.T =  [  1.         -10.0399176   -5.30008823]\n",
      "y_hat =  1\n",
      "error =  0\n",
      "---------------------\n",
      "w =  [-1.15852142 -0.28919614 -0.60243954]\n",
      "x_i.T =  [1.         2.59056132 0.77257994]\n",
      "y_hat =  0\n",
      "error =  0\n",
      "---------------------\n",
      "w =  [-1.15852142 -0.28919614 -0.60243954]\n",
      "x_i.T =  [ 1.          1.23534568 -0.22562628]\n",
      "y_hat =  0\n",
      "error =  0\n",
      "---------------------\n",
      "w =  [-1.15852142 -0.28919614 -0.60243954]\n",
      "x_i.T =  [ 1.         -9.89868189 -5.84939942]\n",
      "y_hat =  1\n",
      "error =  0\n",
      "---------------------\n",
      "w =  [-1.15852142 -0.28919614 -0.60243954]\n",
      "x_i.T =  [ 1.         -0.86550427  1.41373654]\n",
      "y_hat =  0\n",
      "error =  0\n",
      "---------------------\n",
      "w =  [-1.15852142 -0.28919614 -0.60243954]\n",
      "x_i.T =  [  1.         -10.19645512  -7.32568211]\n",
      "y_hat =  1\n",
      "error =  0\n",
      "---------------------\n",
      "w =  [-1.15852142 -0.28919614 -0.60243954]\n",
      "x_i.T =  [1.         0.88322672 0.79490118]\n",
      "y_hat =  0\n",
      "error =  0\n",
      "---------------------\n",
      "w =  [-1.15852142 -0.28919614 -0.60243954]\n",
      "x_i.T =  [  1.         -10.2735008   -6.83572023]\n",
      "y_hat =  1\n",
      "error =  0\n",
      "---------------------\n",
      "w =  [-1.15852142 -0.28919614 -0.60243954]\n",
      "x_i.T =  [1.         0.5244533  0.64386433]\n",
      "y_hat =  0\n",
      "error =  0\n",
      "---------------------\n",
      "w =  [-1.15852142 -0.28919614 -0.60243954]\n",
      "x_i.T =  [1.         0.67220953 2.12156118]\n",
      "y_hat =  0\n",
      "error =  0\n",
      "---------------------\n",
      "w =  [-1.15852142 -0.28919614 -0.60243954]\n",
      "x_i.T =  [  1.         -10.56568966  -6.56993958]\n",
      "y_hat =  1\n",
      "error =  0\n",
      "---------------------\n",
      "w =  [-1.15852142 -0.28919614 -0.60243954]\n",
      "x_i.T =  [1.         1.03938442 1.44076249]\n",
      "y_hat =  0\n",
      "error =  0\n",
      "---------------------\n",
      "w =  [-1.15852142 -0.28919614 -0.60243954]\n",
      "x_i.T =  [  1.         -10.00893527  -5.58041965]\n",
      "y_hat =  1\n",
      "error =  0\n",
      "---------------------\n",
      "w =  [-1.15852142 -0.28919614 -0.60243954]\n",
      "x_i.T =  [ 1.         -9.59355501 -7.63345629]\n",
      "y_hat =  1\n",
      "error =  0\n",
      "---------------------\n",
      "w =  [-1.15852142 -0.28919614 -0.60243954]\n",
      "x_i.T =  [ 1.         -9.47847577 -6.55652484]\n",
      "y_hat =  1\n",
      "error =  0\n",
      "---------------------\n",
      "w =  [-1.15852142 -0.28919614 -0.60243954]\n",
      "x_i.T =  [ 1.         -1.12667493  0.01720868]\n",
      "y_hat =  0\n",
      "error =  0\n",
      "---------------------\n",
      "w =  [-1.15852142 -0.28919614 -0.60243954]\n",
      "x_i.T =  [1.         1.04324231 2.50023307]\n",
      "y_hat =  0\n",
      "error =  0\n",
      "---------------------\n",
      "w =  [-1.15852142 -0.28919614 -0.60243954]\n",
      "x_i.T =  [ 1.         -7.1568233  -7.90016906]\n",
      "y_hat =  1\n",
      "error =  0\n",
      "---------------------\n",
      "w =  [-1.15852142 -0.28919614 -0.60243954]\n",
      "x_i.T =  [ 1.         -0.56250828  2.04961535]\n",
      "y_hat =  0\n",
      "error =  0\n",
      "---------------------\n",
      "w =  [-1.15852142 -0.28919614 -0.60243954]\n",
      "x_i.T =  [1.         1.08479953 0.1291156 ]\n",
      "y_hat =  0\n",
      "error =  0\n",
      "---------------------\n",
      "w =  [-1.15852142 -0.28919614 -0.60243954]\n",
      "x_i.T =  [ 1.         -9.33528179 -5.18176576]\n",
      "y_hat =  1\n",
      "error =  0\n",
      "---------------------\n",
      "w =  [-1.15852142 -0.28919614 -0.60243954]\n",
      "x_i.T =  [1.         0.57800586 3.50983664]\n",
      "y_hat =  0\n",
      "error =  0\n",
      "---------------------\n",
      "w =  [-1.15852142 -0.28919614 -0.60243954]\n",
      "x_i.T =  [ 1.         -0.19398667  0.62157855]\n",
      "y_hat =  0\n",
      "error =  0\n",
      "---------------------\n",
      "w =  [-1.15852142 -0.28919614 -0.60243954]\n",
      "x_i.T =  [ 1.         -9.52427883 -5.83607215]\n",
      "y_hat =  1\n",
      "error =  0\n",
      "---------------------\n",
      "w =  [-1.15852142 -0.28919614 -0.60243954]\n",
      "x_i.T =  [1.         0.20536057 3.41019427]\n",
      "y_hat =  0\n",
      "error =  0\n",
      "---------------------\n",
      "w =  [-1.15852142 -0.28919614 -0.60243954]\n",
      "x_i.T =  [ 1.         -0.48192248  1.52935302]\n",
      "y_hat =  0\n",
      "error =  0\n",
      "---------------------\n",
      "w =  [-1.15852142 -0.28919614 -0.60243954]\n",
      "x_i.T =  [ 1.         -9.73003508 -4.37450077]\n",
      "y_hat =  1\n",
      "error =  0\n",
      "---------------------\n",
      "w =  [-1.15852142 -0.28919614 -0.60243954]\n",
      "x_i.T =  [1.         1.00186834 0.46299684]\n",
      "y_hat =  0\n",
      "error =  0\n",
      "---------------------\n",
      "w =  [-1.15852142 -0.28919614 -0.60243954]\n",
      "x_i.T =  [  1.         -10.23474205  -5.55915275]\n",
      "y_hat =  1\n",
      "error =  0\n",
      "---------------------\n",
      "w =  [-1.15852142 -0.28919614 -0.60243954]\n",
      "x_i.T =  [ 1.         -8.37625652 -5.48605522]\n",
      "y_hat =  1\n",
      "error =  0\n",
      "---------------------\n",
      "w =  [-1.15852142 -0.28919614 -0.60243954]\n",
      "x_i.T =  [ 1.         -0.56998329  3.03244167]\n",
      "y_hat =  0\n",
      "error =  0\n",
      "---------------------\n",
      "w =  [-1.15852142 -0.28919614 -0.60243954]\n",
      "x_i.T =  [ 1.         -9.743873   -6.53896833]\n",
      "y_hat =  1\n",
      "error =  0\n",
      "---------------------\n",
      "w =  [-1.15852142 -0.28919614 -0.60243954]\n",
      "x_i.T =  [  1.         -10.32811837  -4.88661056]\n",
      "y_hat =  1\n",
      "error =  0\n",
      "---------------------\n",
      "w =  [-1.15852142 -0.28919614 -0.60243954]\n",
      "x_i.T =  [1.         0.29481445 2.09566886]\n",
      "y_hat =  0\n",
      "error =  0\n",
      "---------------------\n",
      "w =  [-1.15852142 -0.28919614 -0.60243954]\n",
      "x_i.T =  [ 1.         -7.76541246 -5.59342614]\n",
      "y_hat =  1\n",
      "error =  0\n",
      "---------------------\n",
      "w =  [-1.15852142 -0.28919614 -0.60243954]\n",
      "x_i.T =  [1.         0.6886887  1.61944082]\n",
      "y_hat =  0\n",
      "error =  0\n",
      "---------------------\n",
      "w =  [-1.15852142 -0.28919614 -0.60243954]\n",
      "x_i.T =  [1.         0.15731108 1.92345091]\n",
      "y_hat =  0\n",
      "error =  0\n",
      "---------------------\n",
      "w =  [-1.15852142 -0.28919614 -0.60243954]\n",
      "x_i.T =  [ 1.         -8.1076166  -7.03986015]\n",
      "y_hat =  1\n",
      "error =  0\n",
      "---------------------\n",
      "w =  [-1.15852142 -0.28919614 -0.60243954]\n",
      "x_i.T =  [ 1.         -8.48254832 -7.13437149]\n",
      "y_hat =  1\n",
      "error =  0\n",
      "---------------------\n",
      "w =  [-1.15852142 -0.28919614 -0.60243954]\n",
      "x_i.T =  [  1.         -10.57232315  -9.26572214]\n",
      "y_hat =  1\n",
      "error =  0\n",
      "---------------------\n",
      "w =  [-1.15852142 -0.28919614 -0.60243954]\n",
      "x_i.T =  [1.         1.37017468 2.66520441]\n",
      "y_hat =  0\n",
      "error =  0\n",
      "---------------------\n",
      "w =  [-1.15852142 -0.28919614 -0.60243954]\n",
      "x_i.T =  [ 1.         -0.66260417  1.92234097]\n",
      "y_hat =  0\n",
      "error =  0\n",
      "---------------------\n",
      "w =  [-1.15852142 -0.28919614 -0.60243954]\n",
      "x_i.T =  [  1.         -10.00513835  -6.04800357]\n",
      "y_hat =  1\n",
      "error =  0\n",
      "---------------------\n",
      "w =  [-1.15852142 -0.28919614 -0.60243954]\n",
      "x_i.T =  [  1.         -10.58309314  -8.57297614]\n",
      "y_hat =  1\n",
      "error =  0\n",
      "---------------------\n",
      "w =  [-1.15852142 -0.28919614 -0.60243954]\n",
      "x_i.T =  [ 1.         -9.37417094 -8.79043563]\n",
      "y_hat =  1\n",
      "error =  0\n",
      "---------------------\n",
      "w =  [-1.15852142 -0.28919614 -0.60243954]\n",
      "x_i.T =  [ 1.         -8.59668054 -5.1418693 ]\n",
      "y_hat =  1\n",
      "error =  0\n",
      "---------------------\n",
      "w =  [-1.15852142 -0.28919614 -0.60243954]\n",
      "x_i.T =  [ 1.         -0.77114596  2.77075454]\n",
      "y_hat =  0\n",
      "error =  0\n",
      "---------------------\n",
      "w =  [-1.15852142 -0.28919614 -0.60243954]\n",
      "x_i.T =  [ 1.         -0.2311215   3.63696549]\n",
      "y_hat =  0\n",
      "error =  0\n",
      "---------------------\n",
      "w =  [-1.15852142 -0.28919614 -0.60243954]\n",
      "x_i.T =  [ 1.         -8.52374009 -7.69998691]\n",
      "y_hat =  1\n",
      "error =  0\n",
      "---------------------\n",
      "w =  [-1.15852142 -0.28919614 -0.60243954]\n",
      "x_i.T =  [ 1.         -9.64659738 -3.95087718]\n",
      "y_hat =  1\n",
      "error =  0\n",
      "---------------------\n",
      "w =  [-1.15852142 -0.28919614 -0.60243954]\n",
      "x_i.T =  [1.         3.0642382  2.13103607]\n",
      "y_hat =  0\n",
      "error =  0\n",
      "---------------------\n",
      "w =  [-1.15852142 -0.28919614 -0.60243954]\n",
      "x_i.T =  [  1.         -12.3043598   -4.97087666]\n",
      "y_hat =  1\n",
      "error =  0\n",
      "---------------------\n",
      "w =  [-1.15852142 -0.28919614 -0.60243954]\n",
      "x_i.T =  [ 1.         -9.6613911  -6.26213199]\n",
      "y_hat =  1\n",
      "error =  0\n",
      "---------------------\n",
      "w =  [-1.15852142 -0.28919614 -0.60243954]\n",
      "x_i.T =  [1.         0.14521319 2.23249844]\n",
      "y_hat =  0\n",
      "error =  0\n",
      "---------------------\n",
      "w =  [-1.15852142 -0.28919614 -0.60243954]\n",
      "x_i.T =  [1.         1.15045441 0.66895031]\n",
      "y_hat =  0\n",
      "error =  0\n",
      "---------------------\n",
      "w =  [-1.15852142 -0.28919614 -0.60243954]\n",
      "x_i.T =  [1.         0.52610263 0.61653608]\n",
      "y_hat =  0\n",
      "error =  0\n",
      "---------------------\n",
      "w =  [-1.15852142 -0.28919614 -0.60243954]\n",
      "x_i.T =  [ 1.         -0.51691153  1.67957718]\n",
      "y_hat =  0\n",
      "error =  0\n",
      "---------------------\n",
      "w =  [-1.15852142 -0.28919614 -0.60243954]\n",
      "x_i.T =  [ 1.         -1.21291717  0.89455161]\n",
      "y_hat =  0\n",
      "error =  0\n",
      "---------------------\n",
      "w =  [-1.15852142 -0.28919614 -0.60243954]\n",
      "x_i.T =  [ 1.         -9.0025497  -5.72133199]\n",
      "y_hat =  1\n",
      "error =  0\n",
      "---------------------\n",
      "w =  [-1.15852142 -0.28919614 -0.60243954]\n",
      "x_i.T =  [ 1.         -9.08310657 -7.68576821]\n",
      "y_hat =  1\n",
      "error =  0\n",
      "---------------------\n",
      "w =  [-1.15852142 -0.28919614 -0.60243954]\n",
      "x_i.T =  [ 1.         -8.07577404 -8.12180221]\n",
      "y_hat =  1\n",
      "error =  0\n",
      "---------------------\n",
      "w =  [-1.15852142 -0.28919614 -0.60243954]\n",
      "x_i.T =  [  1.         -10.40513054  -5.68031778]\n",
      "y_hat =  1\n",
      "error =  0\n",
      "---------------------\n",
      "w =  [-1.15852142 -0.28919614 -0.60243954]\n",
      "x_i.T =  [ 1.         -9.15099835 -6.13635771]\n",
      "y_hat =  1\n",
      "error =  0\n",
      "---------------------\n",
      "w =  [-1.15852142 -0.28919614 -0.60243954]\n",
      "x_i.T =  [ 1.         -0.80652248  2.36086938]\n",
      "y_hat =  0\n",
      "error =  0\n",
      "---------------------\n",
      "w =  [-1.15852142 -0.28919614 -0.60243954]\n",
      "x_i.T =  [1.         0.74008581 1.64591696]\n",
      "y_hat =  0\n",
      "error =  0\n",
      "---------------------\n"
     ]
    }
   ],
   "source": [
    "w, miss_l = percep(X, y, 0.5, 1)"
   ]
  },
  {
   "cell_type": "code",
   "execution_count": 33,
   "id": "40cb2532",
   "metadata": {},
   "outputs": [
    {
     "name": "stdout",
     "output_type": "stream",
     "text": [
      "[-1.15852142 -0.28919614 -0.60243954]\n",
      "Number of missclassifications =  [4]\n"
     ]
    }
   ],
   "source": [
    "print(w )\n",
    "print( 'Number of missclassifications = ' , miss_l)"
   ]
  },
  {
   "cell_type": "markdown",
   "id": "e1fbcd51",
   "metadata": {},
   "source": [
    "## Ploting the boundary that separates the two classes"
   ]
  },
  {
   "cell_type": "markdown",
   "id": "e258feed",
   "metadata": {},
   "source": [
    "## The following line determines the boundary\n",
    " # w[0] + w[1]*x1 + w[2] * x2  = 0, \n",
    "  # where X1 is the first feature and X2 is the second feature\n",
    " # We can rewrite this line as:\n",
    "  # X2 = -w[0]/w[2]   -w[0]/w[2]  * X1\n",
    "\n",
    "# The following code graphs this line in the range\n",
    " # ( min(X1), max(X1) )"
   ]
  },
  {
   "cell_type": "code",
   "execution_count": 34,
   "id": "7f4c45db",
   "metadata": {},
   "outputs": [],
   "source": [
    "def plot_decision_boundary(X, w):\n",
    "    \n",
    "    # X --> Inputs\n",
    "    # w --> parameters\n",
    "    \n",
    "    # The Line is y=mx+c\n",
    "    # So, Equate mx+c = w0*X0 + w1*X1 + w2*X2\n",
    "    # Solving we find m and c\n",
    "    x1 = np.array( [min(X[:,0]), max(X[:,0])] )\n",
    "    m = -w[1]/w[2]\n",
    "    c = -w[0]/w[2]\n",
    "    x2 = m*x1 + c\n",
    "    \n",
    "    # Plotting\n",
    "    fig = plt.figure(figsize=(10,8))\n",
    "    plt.plot(X[:, 0][y==0], X[:, 1][y==0], \"r^\") # plots Dta with y=0\n",
    "    plt.plot(X[:, 0][y==1], X[:, 1][y==1], \"bs\") # plots data with y = 1\n",
    "    plt.xlabel(\"feature 1\")\n",
    "    plt.ylabel(\"feature 2\")\n",
    "    plt.title('Perceptron Algorithm Data and Separtion Boundary')\n",
    "    plt.plot(x1, x2, 'g') # plots a line between two points defined by X1 with agreen color"
   ]
  },
  {
   "cell_type": "code",
   "execution_count": 35,
   "id": "5ffaff23",
   "metadata": {
    "scrolled": true
   },
   "outputs": [
    {
     "data": {
      "image/png": "[encoded data removed]",
      "text/plain": [
       "<Figure size 1000x800 with 1 Axes>"
      ]
     },
     "metadata": {},
     "output_type": "display_data"
    }
   ],
   "source": [
    "plot_decision_boundary(X, w)"
   ]
  },
  {
   "cell_type": "markdown",
   "id": "de8f1c53",
   "metadata": {},
   "source": [
    "## Here is a perception function without printing"
   ]
  },
  {
   "cell_type": "code",
   "execution_count": null,
   "id": "e0fd6ff8",
   "metadata": {},
   "outputs": [],
   "source": []
  },
  {
   "cell_type": "code",
   "execution_count": 36,
   "id": "6a251e12",
   "metadata": {},
   "outputs": [],
   "source": [
    "def percep_(X, y, lr, epochs):\n",
    "    \n",
    "    # X --> Inputs.\n",
    "    # y --> labels/target.\n",
    "    # lr --> learning rate.\n",
    "    # epochs --> Number of iterations.\n",
    "    \n",
    "    # m-> number of training examples (i.e. number of observations)\n",
    "    # n-> number of features \n",
    "    m, n = X.shape\n",
    "    \n",
    "    # Initializing parapeters(w) to zeros.\n",
    "    # +1 in n+1 for the bias term.\n",
    "    #w = np.zeros((n+1,1))\n",
    "    random.seed(2) # fixing the seed alows replication of the code results\n",
    "    w = np.random.uniform(0,1,3)\n",
    "    #print( 'initial w = ' , w)\n",
    "    # Empty list to store how many examples were \n",
    "    # misclassified at every iteration.\n",
    "    n_miss_list = []\n",
    "    \n",
    "    # Training.\n",
    "    for epoch in range(epochs):\n",
    "        \n",
    "        # variable to store #misclassified.\n",
    "        n_miss = 0\n",
    "        \n",
    "        # looping for every example.\n",
    "        for idx, x_i in enumerate(X):\n",
    "            \n",
    "            # Insering 1 for bias, X0 = 1.\n",
    "            x_i = np.insert(x_i, 0, 1)\n",
    "            \n",
    "            # Calculating prediction/hypothesis.\n",
    "            y_hat = step_func(np.dot(x_i.T, w))\n",
    "            #print ( 'w = ', w)\n",
    "            #print ( 'x_i.T = ', x_i)\n",
    "            #print ('y_hat = ', y_hat)\n",
    "            error =  y[idx]- y_hat\n",
    "            #print( 'error = ' , error)\n",
    "            #print('---------------------')\n",
    "            # Updating if the example is misclassified.\n",
    "            if ( y_hat - y[idx] ) != 0:\n",
    "               \n",
    "                #print ( 'pre-update w = ', w)\n",
    "                w += lr*error*x_i\n",
    "               \n",
    "                #print ( 'updated w = ', w)\n",
    "                #print('---------------------')\n",
    "                # Incrementing by 1.\n",
    "                n_miss += 1\n",
    "        \n",
    "        # Appending number of misclassified examples\n",
    "        # at every iteration.\n",
    "        n_miss_list.append(n_miss)\n",
    "        \n",
    "    return w, n_miss_list"
   ]
  },
  {
   "cell_type": "markdown",
   "id": "52e3ad8f",
   "metadata": {},
   "source": [
    "## Here we run the function where thenumber of epochs is 10 and graph data and the boundary"
   ]
  },
  {
   "cell_type": "code",
   "execution_count": 37,
   "id": "47d9847a",
   "metadata": {},
   "outputs": [],
   "source": [
    "w, miss_l = percep_(X, y, 0.5, 10)"
   ]
  },
  {
   "cell_type": "code",
   "execution_count": 595,
   "id": "4ede6f08",
   "metadata": {},
   "outputs": [
    {
     "name": "stdout",
     "output_type": "stream",
     "text": [
      "[-2.05787351 -1.80356736 -3.27273862]\n",
      "Number of missclassifications =  [6, 1, 0, 0, 0, 0, 0, 0, 0, 0]\n"
     ]
    }
   ],
   "source": [
    "print(w )\n",
    "print( 'Number of missclassifications = ' , miss_l)"
   ]
  },
  {
   "cell_type": "code",
   "execution_count": 38,
   "id": "e21982e9",
   "metadata": {},
   "outputs": [
    {
     "data": {
      "image/png": "[encoded data removed]",
      "text/plain": [
       "<Figure size 1000x800 with 1 Axes>"
      ]
     },
     "metadata": {},
     "output_type": "display_data"
    }
   ],
   "source": [
    "plot_decision_boundary(X, w)"
   ]
  },
  {
   "cell_type": "code",
   "execution_count": null,
   "id": "649cc969",
   "metadata": {},
   "outputs": [],
   "source": []
  },
  {
   "cell_type": "code",
   "execution_count": null,
   "id": "15e6781e",
   "metadata": {},
   "outputs": [],
   "source": []
  },
  {
   "cell_type": "code",
   "execution_count": null,
   "id": "294e8478",
   "metadata": {},
   "outputs": [],
   "source": []
  },
  {
   "cell_type": "code",
   "execution_count": null,
   "id": "f4d80bc7",
   "metadata": {},
   "outputs": [],
   "source": []
  }
 ],
 "metadata": {
  "kernelspec": {
   "display_name": "Python 3 (ipykernel)",
   "language": "python",
   "name": "python3"
  },
  "language_info": {
   "codemirror_mode": {
    "name": "ipython",
    "version": 3
   },
   "file_extension": ".py",
   "mimetype": "text/x-python",
   "name": "python",
   "nbconvert_exporter": "python",
   "pygments_lexer": "ipython3",
   "version": "3.8.16"
  }
 },
 "nbformat": 4,
 "nbformat_minor": 5
}
